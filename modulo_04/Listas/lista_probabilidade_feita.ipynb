{
  "cells": [
    {
      "cell_type": "markdown",
      "id": "ab3dfefb",
      "metadata": {
        "id": "ab3dfefb"
      },
      "source": [
        "# Exercícios - Probabilidade"
      ]
    },
    {
      "cell_type": "markdown",
      "id": "65123c45",
      "metadata": {
        "id": "65123c45"
      },
      "source": [
        "### Questão 1"
      ]
    },
    {
      "cell_type": "markdown",
      "id": "f36953b8",
      "metadata": {
        "id": "f36953b8"
      },
      "source": [
        "Um teste para COVID-19 possui uma taxa de 5% de falso positivo e 1% de falso negativo, ou seja, em 5% dos não-infectados acusa como infectados, e em 1% dos infectados acusa como não infectados. Sabendo que atualmente 1% da população está infectada, calcule a probabilidade de um paciente cujo teste apontou positivo estar realmente infectado."
      ]
    },
    {
      "cell_type": "code",
      "execution_count": null,
      "id": "0f8a1054",
      "metadata": {
        "id": "0f8a1054"
      },
      "outputs": [],
      "source": [
        "# importar as bibliotecas\n",
        "import numpy as np\n",
        "import pandas as pd\n",
        "import random"
      ]
    },
    {
      "cell_type": "markdown",
      "source": [
        "|                   | Teste positivo | Teste Negativo |\n",
        "|-------------------|----------------|----------------|\n",
        "| Pessoa Doente     |      99 %      |       1 %      |\n",
        "| Pessoa Não Doente |       5 %      |      95 %      |"
      ],
      "metadata": {
        "id": "xnMhoNQGQmYG"
      },
      "id": "xnMhoNQGQmYG"
    },
    {
      "cell_type": "code",
      "source": [
        "pop_d = 0.01\n",
        "pop_nd = 0.99\n",
        "tp = 0.99\n",
        "fp = 0.05\n",
        "fn = 0.01\n",
        "tn = 0.95\n",
        "\n",
        "#P(TP|+) = ?\n",
        "\n",
        "positivos = tp*pop_d + fp*pop_nd\n",
        "p_pos_d = tp*pop_d\n",
        "p_pos_nd = fp*pop_nd\n",
        "\n",
        "p = p_pos_d*pop_d / (p_pos_d*pop_d + p_pos_nd*pop_nd)\n",
        "print(round(p*100,2),'%')"
      ],
      "metadata": {
        "colab": {
          "base_uri": "https://localhost:8080/"
        },
        "id": "-xZJJ5wtPx3r",
        "outputId": "368c8ec4-76f4-4bbf-9b54-dca28ce411a7"
      },
      "id": "-xZJJ5wtPx3r",
      "execution_count": null,
      "outputs": [
        {
          "output_type": "stream",
          "name": "stdout",
          "text": [
            "0.2 %\n"
          ]
        }
      ]
    },
    {
      "cell_type": "markdown",
      "id": "e1e8b03b",
      "metadata": {
        "id": "e1e8b03b"
      },
      "source": [
        "### Questão 2"
      ]
    },
    {
      "cell_type": "markdown",
      "id": "9b42655a",
      "metadata": {
        "id": "9b42655a"
      },
      "source": [
        "A probabilidade de dado honesto é conhecido e igual a $1/6$, mas quando vamos testar isso com um dado físico, não necessariamente vai cair uma vez cada face do dado (se eu lançar ele 6 vezes). A ideia é que conforme fazermos vários testes a tendência é que a probabilidade de cada face irá convergir pro valor esperado. \n",
        "\n",
        "Vamos testar este conceito utilizando da programação seguintes os itens abaixo:]\n",
        "\n",
        "__A)__ Desenvolva uma função que receba um valor n, onde n é a quantidade de elementos e o objetivo da função é retorna uma _Series_ com n elementos sendo esses elementos números variando de 1 e 6;\n",
        "\n",
        "__B)__ Teste a função para n igual a 10, 100, 1.000, 10.000 e 100.000 casos e para cada um deles calcule a proporção de vezes que aparece cada número;\n",
        "\n",
        "__DIca.:__ utilize a função do _Pandas_ `.value_counts`\n",
        "\n",
        "__C)__ O que podermos dizer sobre a afirmação do enunciado, a tendência é que as probabilidades irâo convergir para $1/6$?"
      ]
    },
    {
      "cell_type": "code",
      "execution_count": null,
      "id": "200494e5",
      "metadata": {
        "id": "200494e5"
      },
      "outputs": [],
      "source": [
        "def make_series(n):\n",
        "  numeros = []\n",
        "  for index in range(1,n+1):\n",
        "    num = random.randint(1,6)\n",
        "    numeros.append(num)\n",
        "  return pd.Series(numeros)"
      ]
    },
    {
      "cell_type": "code",
      "source": [
        "make_series(6)"
      ],
      "metadata": {
        "colab": {
          "base_uri": "https://localhost:8080/"
        },
        "id": "smnlOoINQOwZ",
        "outputId": "b6fb33b5-9ca1-4ccf-c41f-17dbb90a34ad"
      },
      "id": "smnlOoINQOwZ",
      "execution_count": null,
      "outputs": [
        {
          "output_type": "execute_result",
          "data": {
            "text/plain": [
              "[4, 6, 5, 2, 6, 5]"
            ]
          },
          "metadata": {},
          "execution_count": 17
        }
      ]
    },
    {
      "cell_type": "code",
      "source": [
        "caso1 = make_series(10)\n",
        "display((caso1.value_counts().sort_index())/len(caso1))"
      ],
      "metadata": {
        "colab": {
          "base_uri": "https://localhost:8080/",
          "height": 121
        },
        "id": "HdHBUrjNR1cL",
        "outputId": "e8abdad0-16e4-43f7-ff9f-d321b04dc94a"
      },
      "id": "HdHBUrjNR1cL",
      "execution_count": null,
      "outputs": [
        {
          "output_type": "display_data",
          "data": {
            "text/plain": [
              "1    0.4\n",
              "3    0.1\n",
              "4    0.1\n",
              "5    0.3\n",
              "6    0.1\n",
              "dtype: float64"
            ]
          },
          "metadata": {}
        }
      ]
    },
    {
      "cell_type": "code",
      "source": [
        "caso2 = make_series(100)\n",
        "display((caso2.value_counts().sort_index())/len(caso2))"
      ],
      "metadata": {
        "colab": {
          "base_uri": "https://localhost:8080/",
          "height": 138
        },
        "id": "xNcYtXRBSkye",
        "outputId": "9efe7dec-63bf-4e17-cdce-2e66bde524a8"
      },
      "id": "xNcYtXRBSkye",
      "execution_count": null,
      "outputs": [
        {
          "output_type": "display_data",
          "data": {
            "text/plain": [
              "1    0.12\n",
              "2    0.17\n",
              "3    0.18\n",
              "4    0.17\n",
              "5    0.14\n",
              "6    0.22\n",
              "dtype: float64"
            ]
          },
          "metadata": {}
        }
      ]
    },
    {
      "cell_type": "code",
      "source": [
        "caso3 = make_series(1000)\n",
        "display((caso3.value_counts().sort_index())/len(caso3))"
      ],
      "metadata": {
        "colab": {
          "base_uri": "https://localhost:8080/",
          "height": 138
        },
        "id": "MgUnRIhuSpm4",
        "outputId": "912de014-9fa5-4629-fc41-d7b81db4ef58"
      },
      "id": "MgUnRIhuSpm4",
      "execution_count": null,
      "outputs": [
        {
          "output_type": "display_data",
          "data": {
            "text/plain": [
              "1    0.165\n",
              "2    0.163\n",
              "3    0.154\n",
              "4    0.192\n",
              "5    0.171\n",
              "6    0.155\n",
              "dtype: float64"
            ]
          },
          "metadata": {}
        }
      ]
    },
    {
      "cell_type": "code",
      "source": [
        "caso4 = make_series(10000)\n",
        "display((caso4.value_counts().sort_index())/len(caso4))"
      ],
      "metadata": {
        "colab": {
          "base_uri": "https://localhost:8080/",
          "height": 138
        },
        "id": "biuZhh0gSo6p",
        "outputId": "ca390b2a-8608-47c6-f3d3-b868f36955ac"
      },
      "id": "biuZhh0gSo6p",
      "execution_count": null,
      "outputs": [
        {
          "output_type": "display_data",
          "data": {
            "text/plain": [
              "1    0.1684\n",
              "2    0.1638\n",
              "3    0.1670\n",
              "4    0.1686\n",
              "5    0.1673\n",
              "6    0.1649\n",
              "dtype: float64"
            ]
          },
          "metadata": {}
        }
      ]
    },
    {
      "cell_type": "code",
      "source": [
        "caso5 = make_series(100000)\n",
        "display((caso5.value_counts().sort_index())/len(caso5))"
      ],
      "metadata": {
        "colab": {
          "base_uri": "https://localhost:8080/",
          "height": 138
        },
        "id": "PuhuCsreSoOM",
        "outputId": "a6ed9645-0822-439c-8ca3-c2d64b11bcae"
      },
      "id": "PuhuCsreSoOM",
      "execution_count": null,
      "outputs": [
        {
          "output_type": "display_data",
          "data": {
            "text/plain": [
              "1    0.16639\n",
              "2    0.16652\n",
              "3    0.16679\n",
              "4    0.16594\n",
              "5    0.16656\n",
              "6    0.16780\n",
              "dtype: float64"
            ]
          },
          "metadata": {}
        }
      ]
    },
    {
      "cell_type": "code",
      "source": [
        "caso6 = make_series(1000000)\n",
        "display((caso6.value_counts().sort_index())/len(caso6))"
      ],
      "metadata": {
        "colab": {
          "base_uri": "https://localhost:8080/",
          "height": 138
        },
        "id": "s2v_S6ejSn-m",
        "outputId": "8b321d1f-6928-4ecd-a3d4-22535a46fb63"
      },
      "id": "s2v_S6ejSn-m",
      "execution_count": null,
      "outputs": [
        {
          "output_type": "display_data",
          "data": {
            "text/plain": [
              "1    0.166802\n",
              "2    0.167747\n",
              "3    0.166259\n",
              "4    0.166282\n",
              "5    0.166566\n",
              "6    0.166344\n",
              "dtype: float64"
            ]
          },
          "metadata": {}
        }
      ]
    },
    {
      "cell_type": "markdown",
      "id": "8ed593e2",
      "metadata": {
        "id": "8ed593e2"
      },
      "source": [
        "### Questão 3"
      ]
    },
    {
      "cell_type": "markdown",
      "id": "f9102e3c",
      "metadata": {
        "id": "f9102e3c"
      },
      "source": [
        "Na casa de Luiza e Rafael tem um pote de balas de diferentes cores. Certo dia a mamãe deles contou quantas balas tinha de cada uma das cores:\n",
        "\n",
        "- 14 balas azuis;\n",
        "- 22 balas vermelhas;\n",
        "- 17 balas amarelas.\n",
        "\n",
        "A mamãe deles deixou que cada um pegasse 3 balas começando pela Luiza e depois o Rafael. Dado isso resolva os item abaixo:\n",
        "\n",
        "__A)__ Qual a probabilidade da Luiza pegar uma bala de cada na ordem da contagem e o Rafael pegar 2 azuis e uma vermelha, dado que é um evento sem reposição?\n",
        "\n",
        "__B)__ Luiza decidiu ficar só com a bala amarela e devolveu as demais para o pote antes que o Rafael pegasse suas balas. Como que ficaria a probabilidade para o Rafael agora?"
      ]
    },
    {
      "cell_type": "code",
      "execution_count": null,
      "id": "8567d548",
      "metadata": {
        "colab": {
          "base_uri": "https://localhost:8080/"
        },
        "id": "8567d548",
        "outputId": "8cd96d67-1925-4ba9-dbad-bdfbf3f71929"
      },
      "outputs": [
        {
          "output_type": "execute_result",
          "data": {
            "text/plain": [
              "53"
            ]
          },
          "metadata": {},
          "execution_count": 2
        }
      ],
      "source": [
        "total_balas = 14+22+17\n",
        "total_balas"
      ]
    },
    {
      "cell_type": "code",
      "source": [
        "ba = 14\n",
        "bv = 22\n",
        "bam = 17"
      ],
      "metadata": {
        "id": "QfK1whaMdQEh"
      },
      "id": "QfK1whaMdQEh",
      "execution_count": null,
      "outputs": []
    },
    {
      "cell_type": "code",
      "source": [
        "#_luiza = {(v,v,v), (v,v,a), (v,v,am), (v,a,v), (v,a,am), (v,a,a), (v,am,v), (v,am,a), (v,am,am), \n",
        "#          (a,a,a), (a,a,v), (a,a,am), (a,v,a), (a,v,am), (a,v,v), (a,am,a), (a,am,v), (a,am,am),\n",
        "#          (am,am,am), (am,am,v), (am,am,a), (am,v,am), (am,v,a), (am,v,v), (am,a,am), (am,a,v), (am,a,a)} = 27"
      ],
      "metadata": {
        "id": "cAjt7k8rd1Qc"
      },
      "id": "cAjt7k8rd1Qc",
      "execution_count": null,
      "outputs": []
    },
    {
      "cell_type": "code",
      "source": [
        "# A)\n",
        "# Primeiro Luiza retira uma bala azul\n",
        "p_luiza_a = ba/total_balas\n",
        "\n",
        "# Depois retira uma bala vermelha\n",
        "p_luiza_v = bv/(total_balas-1)\n",
        "\n",
        "# Por fim a bala amarela\n",
        "p_luiza_am = bam/(total_balas-2)\n",
        "\n",
        "# A probabilidade final será o produto de todas elas\n",
        "p_luiza = round(p_luiza_a*p_luiza_v*p_luiza_am,4)*100\n",
        "print(f'A porcentagem de Luiza retirar as balas na ordem da contagem é de {p_luiza}%')"
      ],
      "metadata": {
        "colab": {
          "base_uri": "https://localhost:8080/"
        },
        "id": "0w7te8TNfw8b",
        "outputId": "13c78223-5500-4106-d035-b02ec7c5beba"
      },
      "id": "0w7te8TNfw8b",
      "execution_count": null,
      "outputs": [
        {
          "output_type": "stream",
          "name": "stdout",
          "text": [
            "A porcentagem de Luiza retirar as balas na ordem da contagem é de 3.73%\n"
          ]
        }
      ]
    },
    {
      "cell_type": "code",
      "source": [
        "# Agora Rafael vai pegar 2 azuis:\n",
        "p_rafael_a1 = (ba-1)/(total_balas-3)\n",
        "p_rafael_a2 = (ba-2)/(total_balas-4)\n",
        "\n",
        "# E por fim uma vermelha:\n",
        "p_rafael_v = (bv-1)/(total_balas-5)\n",
        "\n",
        "# A probabilidade final será o produto de todas elas\n",
        "p_rafael = round(p_rafael_a1*p_rafael_a2*p_rafael_v,4)*100\n",
        "print(f'A porcentagem de Luiza retirar as balas na ordem da contagem é de {p_rafael}%')"
      ],
      "metadata": {
        "colab": {
          "base_uri": "https://localhost:8080/"
        },
        "id": "PTY25HsQhHdt",
        "outputId": "25473478-2ff6-464c-a7c6-aea28c281083"
      },
      "id": "PTY25HsQhHdt",
      "execution_count": null,
      "outputs": [
        {
          "output_type": "stream",
          "name": "stdout",
          "text": [
            "A porcentagem de Luiza retirar as balas na ordem da contagem é de 2.79%\n"
          ]
        }
      ]
    },
    {
      "cell_type": "code",
      "source": [
        "# B)\n",
        "# Luiza só pegou a amarela e voltou com a azul e a vermelha, desta forma o total de balas é 52.\n",
        "\n",
        "# Agora Rafael vai pegar 2 azuis:\n",
        "p_ra1 = (ba)/(total_balas-1)\n",
        "p_ra2 = (ba-1)/(total_balas-2)\n",
        "\n",
        "# E por fim uma vermelha:\n",
        "p_rv = (bv)/(total_balas-3)\n",
        "\n",
        "# A probabilidade final será o produto de todas elas\n",
        "p_r = round(p_ra1*p_ra2*p_rv,4)*100\n",
        "print(f'A porcentagem de Luiza retirar as balas na ordem da contagem é de {p_r}%')"
      ],
      "metadata": {
        "colab": {
          "base_uri": "https://localhost:8080/"
        },
        "id": "AhyoOQ1ukb3r",
        "outputId": "aa550cf0-7f48-45d1-9355-ee131d086df0"
      },
      "id": "AhyoOQ1ukb3r",
      "execution_count": null,
      "outputs": [
        {
          "output_type": "stream",
          "name": "stdout",
          "text": [
            "A porcentagem de Luiza retirar as balas na ordem da contagem é de 3.02%\n"
          ]
        }
      ]
    },
    {
      "cell_type": "markdown",
      "id": "efcd759a",
      "metadata": {
        "id": "efcd759a"
      },
      "source": [
        "### Questão 4"
      ]
    },
    {
      "cell_type": "markdown",
      "id": "8180ee4e",
      "metadata": {
        "id": "8180ee4e"
      },
      "source": [
        "Um programa de computador gera uma pontuação aleatória para cada usuário, sendo que:\n",
        "\n",
        "- Em 1/2 dos casos, gera 0.5;\n",
        "- Em 1/4 dos casos, gera 0.25;\n",
        "- Em 1/8 dos casos, gera 0.125.\n",
        "\n",
        "E essa lógica segue assim por diante. Resolva os itens a seguir:\n",
        "\n",
        "__A)__ Calcule o __valor esperado__ utilizando apenas os 3 primeiros casos;\n",
        "\n",
        "__B)__ Faça um _loop_ para calcular o __valor esperado__ para 100 casos e avalie se só com os 3 primeiros casos temos uma boa aproximação ou não."
      ]
    },
    {
      "cell_type": "code",
      "execution_count": null,
      "id": "f1f8bbe4",
      "metadata": {
        "colab": {
          "base_uri": "https://localhost:8080/"
        },
        "id": "f1f8bbe4",
        "outputId": "cd0b67d9-a7bf-47b2-b971-bd7a2dc6ae58"
      },
      "outputs": [
        {
          "output_type": "execute_result",
          "data": {
            "text/plain": [
              "0.328125"
            ]
          },
          "metadata": {},
          "execution_count": 14
        }
      ],
      "source": [
        "p0 = 0.5\n",
        "p1 = 0.25\n",
        "p2 = 0.125\n",
        "\n",
        "pt = 1/2 * p0 + 1/4 * p1 + 1/8 * p2\n",
        "pt\n"
      ]
    },
    {
      "cell_type": "code",
      "source": [
        "def valor_esperado(n):\n",
        "  p = 1/2\n",
        "  r = 1/2\n",
        "  prod = 0\n",
        "  for dividendo in range(1,n+1):\n",
        "    prod += r*p\n",
        "    p = p/2\n",
        "    r = r/2\n",
        "  return prod"
      ],
      "metadata": {
        "id": "TWWGyvDgraBL"
      },
      "id": "TWWGyvDgraBL",
      "execution_count": null,
      "outputs": []
    },
    {
      "cell_type": "code",
      "source": [
        "esperado_100 = valor_esperado(100)\n",
        "esperado_100"
      ],
      "metadata": {
        "colab": {
          "base_uri": "https://localhost:8080/"
        },
        "id": "CIrjxmM7tEuV",
        "outputId": "9561c48e-0252-4aaf-d03f-b6fbc6b545e0"
      },
      "id": "CIrjxmM7tEuV",
      "execution_count": null,
      "outputs": [
        {
          "output_type": "execute_result",
          "data": {
            "text/plain": [
              "0.3333333333333333"
            ]
          },
          "metadata": {},
          "execution_count": 68
        }
      ]
    },
    {
      "cell_type": "code",
      "source": [
        "pt/esperado_100"
      ],
      "metadata": {
        "colab": {
          "base_uri": "https://localhost:8080/"
        },
        "id": "TZRov2Whw5Nf",
        "outputId": "16c10ccd-351f-441d-b9d1-09f08c99af5c"
      },
      "id": "TZRov2Whw5Nf",
      "execution_count": null,
      "outputs": [
        {
          "output_type": "execute_result",
          "data": {
            "text/plain": [
              "0.984375"
            ]
          },
          "metadata": {},
          "execution_count": 69
        }
      ]
    },
    {
      "cell_type": "markdown",
      "source": [
        "Sim, já temos uma boa aproximação somente com os primeiros 3 casos, 3,28 ~ 3,33, representa 98,4% do valor"
      ],
      "metadata": {
        "id": "8Em2BHkWwuhN"
      },
      "id": "8Em2BHkWwuhN"
    },
    {
      "cell_type": "markdown",
      "id": "57a9dba0",
      "metadata": {
        "id": "57a9dba0"
      },
      "source": [
        "### Questão 5"
      ]
    },
    {
      "cell_type": "markdown",
      "id": "03ce87d4",
      "metadata": {
        "id": "03ce87d4"
      },
      "source": [
        "Em um programa de auditório, havia 3 portas (A, B, C), dentro da qual uma continha um prêmio. O participante escolheu a porta A e antes de abrir a porta o apresentador abriu a porta C, na qual não havia nada. O participante aumentará a probabilidade de acertar a porta caso mude a escolha dele da porta A para a B?"
      ]
    },
    {
      "cell_type": "code",
      "execution_count": null,
      "id": "cb736e05",
      "metadata": {
        "id": "cb736e05"
      },
      "outputs": [],
      "source": [
        "from re import X\n",
        "portas = 3\n",
        "pa = 1/3\n",
        "pb = 1/3\n",
        "pc = 1/3\n",
        "\n",
        "# Quando o participante escolhe a porta A ele tem 1/3 de chances de conseguir o prêmio\n",
        "# Quando o apresentador abre a porta C, ele retira 1 possibilidade, já que não continha o prêmio\n",
        "\n",
        "portas = 3\n",
        "pa = 1/3\n",
        "pb = x\n",
        "pc = 0\n",
        "pt = 1\n",
        "# Então\n",
        "\n",
        "pt = pa+pb+pc\n",
        "1 = 1/3+x\n",
        "x = 2/3\n",
        "\n",
        "# Ou seja você dobra a probabilidade"
      ]
    }
  ],
  "metadata": {
    "kernelspec": {
      "display_name": "Python 3 (ipykernel)",
      "language": "python",
      "name": "python3"
    },
    "language_info": {
      "codemirror_mode": {
        "name": "ipython",
        "version": 3
      },
      "file_extension": ".py",
      "mimetype": "text/x-python",
      "name": "python",
      "nbconvert_exporter": "python",
      "pygments_lexer": "ipython3",
      "version": "3.9.7"
    },
    "varInspector": {
      "cols": {
        "lenName": 16,
        "lenType": 16,
        "lenVar": 40
      },
      "kernels_config": {
        "python": {
          "delete_cmd_postfix": "",
          "delete_cmd_prefix": "del ",
          "library": "var_list.py",
          "varRefreshCmd": "print(var_dic_list())"
        },
        "r": {
          "delete_cmd_postfix": ") ",
          "delete_cmd_prefix": "rm(",
          "library": "var_list.r",
          "varRefreshCmd": "cat(var_dic_list()) "
        }
      },
      "types_to_exclude": [
        "module",
        "function",
        "builtin_function_or_method",
        "instance",
        "_Feature"
      ],
      "window_display": false
    },
    "colab": {
      "provenance": []
    }
  },
  "nbformat": 4,
  "nbformat_minor": 5
}