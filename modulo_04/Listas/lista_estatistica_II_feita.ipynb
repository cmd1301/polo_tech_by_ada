{
  "cells": [
    {
      "cell_type": "markdown",
      "id": "615f2026",
      "metadata": {
        "id": "615f2026"
      },
      "source": [
        "# Exercícios - Estatística II"
      ]
    },
    {
      "cell_type": "markdown",
      "id": "b3fd867e",
      "metadata": {
        "id": "b3fd867e"
      },
      "source": [
        "### Questão 1"
      ]
    },
    {
      "cell_type": "markdown",
      "id": "1a47d0ed",
      "metadata": {
        "id": "1a47d0ed"
      },
      "source": [
        "Uma relação bem importante entre uma população e uma amostra, é que uma amostra pode ser significativa daquela população (ou seja, podemos inferir que a média e variância da amostra será bem próximo do valor real da população), isto quando essa amostra for grande o suficiente para isso. Vamos fazer algumas simulações utilizando o _Python_ para testar esses conceicos, resolvendo os itens a seguir:\n",
        "\n",
        "__A)__ Crie uma lista com número aleatórios entre 20 e 50 e que essa lista contenham 1 milhão de elementos;\n",
        "\n",
        "__B)__ Calcule a média e a variância para essa lista;\n",
        "\n",
        "__C)__ Faça amostra aleatórias de diversos tamanhos (10, 100, 1.000 e 10.000 elementos) e calcule as mesmas métricas que o item anterior, para avaliar o conceito proposto no enunciado"
      ]
    },
    {
      "cell_type": "code",
      "execution_count": 61,
      "id": "0e93f872",
      "metadata": {
        "id": "0e93f872"
      },
      "outputs": [],
      "source": [
        "import numpy as np\n",
        "import pandas as pd\n",
        "import random"
      ]
    },
    {
      "cell_type": "code",
      "source": [
        "def cria_lista(n):\n",
        "  lista = []\n",
        "  for numero in range(n):\n",
        "    num = random.randint(20,50)\n",
        "    lista.append(num)\n",
        "  return lista"
      ],
      "metadata": {
        "id": "CF0pGx6bbiIA"
      },
      "id": "CF0pGx6bbiIA",
      "execution_count": null,
      "outputs": []
    },
    {
      "cell_type": "code",
      "source": [
        "lista = cria_lista(1000000)"
      ],
      "metadata": {
        "id": "ejW5yPvXcGjF"
      },
      "id": "ejW5yPvXcGjF",
      "execution_count": null,
      "outputs": []
    },
    {
      "cell_type": "code",
      "source": [
        "media = np.round(np.mean(lista),2)\n",
        "variancia = np.round(np.var(lista),2)\n",
        "media, variancia\n"
      ],
      "metadata": {
        "id": "r2r2TLQkcTkR",
        "outputId": "54ddb5e1-bf9a-4b1d-c497-8c4b0907ead0",
        "colab": {
          "base_uri": "https://localhost:8080/"
        }
      },
      "id": "r2r2TLQkcTkR",
      "execution_count": null,
      "outputs": [
        {
          "output_type": "execute_result",
          "data": {
            "text/plain": [
              "(34.99, 80.03)"
            ]
          },
          "metadata": {},
          "execution_count": 6
        }
      ]
    },
    {
      "cell_type": "code",
      "source": [
        "def samples(pop, n):\n",
        "  sample = list(random.sample(pop,n))\n",
        "  s_mean = np.round(np.mean(sample),2)\n",
        "  s_variance = np.round(np.var(sample),2)\n",
        "  return s_mean, s_variance"
      ],
      "metadata": {
        "id": "o4SfAoQEd1MI"
      },
      "id": "o4SfAoQEd1MI",
      "execution_count": 44,
      "outputs": []
    },
    {
      "cell_type": "code",
      "source": [
        "samples(lista, 10)"
      ],
      "metadata": {
        "id": "fEQR71FdfeKk",
        "outputId": "fe075125-757e-4a85-9ed2-4497d93b1d50",
        "colab": {
          "base_uri": "https://localhost:8080/"
        }
      },
      "id": "fEQR71FdfeKk",
      "execution_count": null,
      "outputs": [
        {
          "output_type": "execute_result",
          "data": {
            "text/plain": [
              "(31.5, 66.25)"
            ]
          },
          "metadata": {},
          "execution_count": 18
        }
      ]
    },
    {
      "cell_type": "code",
      "source": [
        "samples(lista, 100)"
      ],
      "metadata": {
        "id": "plv-2r9Zf0Wt",
        "outputId": "234f7084-7d36-4709-b022-a0d0e353e2e3",
        "colab": {
          "base_uri": "https://localhost:8080/"
        }
      },
      "id": "plv-2r9Zf0Wt",
      "execution_count": null,
      "outputs": [
        {
          "output_type": "execute_result",
          "data": {
            "text/plain": [
              "(35.33, 85.76)"
            ]
          },
          "metadata": {},
          "execution_count": 19
        }
      ]
    },
    {
      "cell_type": "code",
      "source": [
        "samples(lista, 1000)"
      ],
      "metadata": {
        "id": "oVdTXv78f0Ea",
        "outputId": "d7ee3a10-2ba5-4406-932f-939cca0e06d7",
        "colab": {
          "base_uri": "https://localhost:8080/"
        }
      },
      "id": "oVdTXv78f0Ea",
      "execution_count": null,
      "outputs": [
        {
          "output_type": "execute_result",
          "data": {
            "text/plain": [
              "(35.19, 80.48)"
            ]
          },
          "metadata": {},
          "execution_count": 20
        }
      ]
    },
    {
      "cell_type": "code",
      "source": [
        "samples(lista, 10000)"
      ],
      "metadata": {
        "id": "c9f4bP2FfzsM",
        "outputId": "8fd548eb-10cf-4dc7-84c1-c753f36ea6d8",
        "colab": {
          "base_uri": "https://localhost:8080/"
        }
      },
      "id": "c9f4bP2FfzsM",
      "execution_count": null,
      "outputs": [
        {
          "output_type": "execute_result",
          "data": {
            "text/plain": [
              "(35.0, 81.11)"
            ]
          },
          "metadata": {},
          "execution_count": 21
        }
      ]
    },
    {
      "cell_type": "markdown",
      "id": "3502aea3",
      "metadata": {
        "id": "3502aea3"
      },
      "source": [
        "### Questão 2"
      ]
    },
    {
      "cell_type": "markdown",
      "id": "97416ea6",
      "metadata": {
        "id": "97416ea6"
      },
      "source": [
        "Neste exercício vamos demonstrar a importância de uma amostragem estratificada quando temos grupos significantes dentro da população. Faça os seguintes itens:\n",
        "\n",
        "__A)__ Crie 3 listas de números aleatórios sendo elas:\n",
        "    - uma lista com números aleatórios entre 40 e 50 contendo 10.000 elementos;\n",
        "    - uma lista com números aleatórios entre 10 e 20 contendo 6.000 elementos;\n",
        "    - uma lista com números aleatórios entre 80 e 90 contendo 4.000 elementos.\n",
        "    \n",
        "__B)__ Calcule a média e a variância para cada uma das 3 listas;\n",
        "\n",
        "__C)__ Calcule a média e a variância para a população, onde a população seja as 3 listas juntas;\n",
        "\n",
        "__Dica.:__ Neste caso, temos que trabalhar com média e variância ponderada!\n",
        "\n",
        "__D)__ Una as 3 listas em uma só e retire uma amostra de 1% da lista resultante. Calcule a média e a variância para esta amostra;\n",
        "\n",
        "__E)__ Por fim, faça uma amostra estratificada da seguinte forma: faça uma amostra aleatória de 1% de cada uma das 3 listas e em seguida calcule a média e a variância para a amostra estratificada (será necessário utilizar a média e variância ponderada!).\n",
        "\n",
        "__F)__ Compare o resultado das métricas para a amostra e a amostra estratificada com o valor das métricas da população."
      ]
    },
    {
      "cell_type": "code",
      "execution_count": 7,
      "id": "119245b9",
      "metadata": {
        "id": "119245b9"
      },
      "outputs": [],
      "source": [
        "def cria_lista2(n,i,f):\n",
        "  lista = []\n",
        "  for numero in range(n):\n",
        "    num = random.randint(i,f)\n",
        "    lista.append(num)\n",
        "  return lista\n",
        "\n",
        "def med_var(lista):\n",
        "  l_mean = np.round(np.mean(lista),2)\n",
        "  l_variance = np.round(np.var(lista),2)\n",
        "  return l_mean, l_variance"
      ]
    },
    {
      "cell_type": "code",
      "source": [
        "lista1 = cria_lista2(10000,40,50)"
      ],
      "metadata": {
        "id": "lAWuKBYKhG5X"
      },
      "id": "lAWuKBYKhG5X",
      "execution_count": 3,
      "outputs": []
    },
    {
      "cell_type": "code",
      "source": [
        "lista2 = cria_lista2(6000,10,20)"
      ],
      "metadata": {
        "id": "pLcWgnI5hIll"
      },
      "id": "pLcWgnI5hIll",
      "execution_count": 4,
      "outputs": []
    },
    {
      "cell_type": "code",
      "source": [
        "lista3 = cria_lista2(4000,80,90)"
      ],
      "metadata": {
        "id": "B_ENVskUhIVa"
      },
      "id": "B_ENVskUhIVa",
      "execution_count": 5,
      "outputs": []
    },
    {
      "cell_type": "code",
      "source": [
        "print(f'Média e variância para lista 1: {med_var(lista1)}\\nMédia e variância para lista 2: {med_var(lista2)}\\nMédia e variância para lista 3: {med_var(lista3)}')"
      ],
      "metadata": {
        "colab": {
          "base_uri": "https://localhost:8080/"
        },
        "id": "r6ClovCThYuu",
        "outputId": "251b3805-97f0-4bbd-fd5b-ad56993fecda"
      },
      "id": "r6ClovCThYuu",
      "execution_count": 8,
      "outputs": [
        {
          "output_type": "stream",
          "name": "stdout",
          "text": [
            "Média e variância para lista 1: (45.01, 10.01)\n",
            "Média e variância para lista 2: (14.93, 10.1)\n",
            "Média e variância para lista 3: (84.99, 9.95)\n"
          ]
        }
      ]
    },
    {
      "cell_type": "markdown",
      "source": [
        "![image.png](data:image/png;base64,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)"
      ],
      "metadata": {
        "id": "X1_AM42HmV9J"
      },
      "id": "X1_AM42HmV9J"
    },
    {
      "cell_type": "code",
      "source": [
        "media_pond = [(len(lista1)/(len(lista1)+len(lista2)+len(lista3)))*(np.mean(lista1)) + (len(lista2)/(len(lista1)+len(lista2)+len(lista3)))*(np.mean(lista2)) + (len(lista3)/(len(lista1)+len(lista2)+len(lista3)))*(np.mean(lista3))]\n",
        "media_pond"
      ],
      "metadata": {
        "colab": {
          "base_uri": "https://localhost:8080/"
        },
        "id": "WyPl6N6bipau",
        "outputId": "57046646-779a-4f16-ff37-b6dc2ecdc34c"
      },
      "id": "WyPl6N6bipau",
      "execution_count": 20,
      "outputs": [
        {
          "output_type": "execute_result",
          "data": {
            "text/plain": [
              "[43.9812]"
            ]
          },
          "metadata": {},
          "execution_count": 20
        }
      ]
    },
    {
      "cell_type": "code",
      "source": [
        "def media_pond(*args):\n",
        "  mediapond = 0\n",
        "  N = 0\n",
        "  for arg in args:\n",
        "    N += len(arg)\n",
        "  for arg in args:\n",
        "    pi = (len(arg)/N)\n",
        "    media = pi * (np.mean(arg))\n",
        "    mediapond += media\n",
        "  return mediapond"
      ],
      "metadata": {
        "id": "_itB6ECXnxDN"
      },
      "id": "_itB6ECXnxDN",
      "execution_count": 38,
      "outputs": []
    },
    {
      "cell_type": "code",
      "source": [
        "media_pond(lista1,lista2,lista3)"
      ],
      "metadata": {
        "colab": {
          "base_uri": "https://localhost:8080/"
        },
        "id": "To9fwRPGpdAF",
        "outputId": "8a57c8f3-a379-41fd-b1f1-26e7901b5aaf"
      },
      "id": "To9fwRPGpdAF",
      "execution_count": 41,
      "outputs": [
        {
          "output_type": "execute_result",
          "data": {
            "text/plain": [
              "43.9812"
            ]
          },
          "metadata": {},
          "execution_count": 41
        }
      ]
    },
    {
      "cell_type": "markdown",
      "source": [
        "![image.png](data:image/png;base64,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)"
      ],
      "metadata": {
        "id": "6Uzw9GqsreYS"
      },
      "id": "6Uzw9GqsreYS"
    },
    {
      "cell_type": "code",
      "source": [
        "def var_pond(*args):\n",
        "  varpond = 0\n",
        "  for arg in args:\n",
        "    varpond += np.var(arg)\n",
        "  return np.round(varpond,2)"
      ],
      "metadata": {
        "id": "k-Znwiq9rd0B"
      },
      "id": "k-Znwiq9rd0B",
      "execution_count": 39,
      "outputs": []
    },
    {
      "cell_type": "code",
      "source": [
        "var_pond(lista1,lista2,lista3)"
      ],
      "metadata": {
        "colab": {
          "base_uri": "https://localhost:8080/"
        },
        "id": "D_cDsWkPr513",
        "outputId": "b8886a51-9116-44f6-bbe7-6a83a05780d6"
      },
      "id": "D_cDsWkPr513",
      "execution_count": 40,
      "outputs": [
        {
          "output_type": "execute_result",
          "data": {
            "text/plain": [
              "30.06"
            ]
          },
          "metadata": {},
          "execution_count": 40
        }
      ]
    },
    {
      "cell_type": "code",
      "source": [
        "lista4 = lista1 + lista2 + lista3\n",
        "len(lista4)"
      ],
      "metadata": {
        "colab": {
          "base_uri": "https://localhost:8080/"
        },
        "id": "Ar89iZ48uqft",
        "outputId": "9a3a61b0-9bcb-42e1-e9be-6fba406ad73c"
      },
      "id": "Ar89iZ48uqft",
      "execution_count": 42,
      "outputs": [
        {
          "output_type": "execute_result",
          "data": {
            "text/plain": [
              "20000"
            ]
          },
          "metadata": {},
          "execution_count": 42
        }
      ]
    },
    {
      "cell_type": "code",
      "source": [
        "def samples_lista(pop, n):\n",
        "  sample = list(random.sample(pop,n))\n",
        "  return sample"
      ],
      "metadata": {
        "id": "QlNYHU4iyHVW"
      },
      "id": "QlNYHU4iyHVW",
      "execution_count": 55,
      "outputs": []
    },
    {
      "cell_type": "code",
      "source": [
        "# D) amostra contendo 1% da população, média e variancia da lista concatenada\n",
        "n = int(len(lista4)*0.01)\n",
        "samples(lista4, n)"
      ],
      "metadata": {
        "colab": {
          "base_uri": "https://localhost:8080/"
        },
        "id": "ooLtM8ULvyyF",
        "outputId": "fc1e9259-4849-45e7-9bbc-89bb4276a4ef"
      },
      "id": "ooLtM8ULvyyF",
      "execution_count": 46,
      "outputs": [
        {
          "output_type": "execute_result",
          "data": {
            "text/plain": [
              "(44.84, 658.12)"
            ]
          },
          "metadata": {},
          "execution_count": 46
        }
      ]
    },
    {
      "cell_type": "code",
      "source": [
        "# E) Amostra de 1% para cada uma das listas\n",
        "# Lista 1:\n",
        "n = int(len(lista1)*0.01)\n",
        "s_one = samples_lista(lista1, n)\n",
        "med_var(s_one)"
      ],
      "metadata": {
        "colab": {
          "base_uri": "https://localhost:8080/"
        },
        "id": "Nvk3H_vEwGSm",
        "outputId": "3f3b447a-f1fb-41cc-91b4-264510a1fb04"
      },
      "id": "Nvk3H_vEwGSm",
      "execution_count": 56,
      "outputs": [
        {
          "output_type": "execute_result",
          "data": {
            "text/plain": [
              "(44.98, 10.36)"
            ]
          },
          "metadata": {},
          "execution_count": 56
        }
      ]
    },
    {
      "cell_type": "code",
      "source": [
        "# Lista 2:\n",
        "n = int(len(lista2)*0.01)\n",
        "s_two = samples_lista(lista2, n)\n",
        "med_var(s_two)"
      ],
      "metadata": {
        "colab": {
          "base_uri": "https://localhost:8080/"
        },
        "id": "imQ-5859wyhm",
        "outputId": "01397cf7-058d-4399-a288-f782673e9953"
      },
      "id": "imQ-5859wyhm",
      "execution_count": 57,
      "outputs": [
        {
          "output_type": "execute_result",
          "data": {
            "text/plain": [
              "(14.5, 10.32)"
            ]
          },
          "metadata": {},
          "execution_count": 57
        }
      ]
    },
    {
      "cell_type": "code",
      "source": [
        "# Lista 3:\n",
        "n = int(len(lista3)*0.01)\n",
        "s_three = samples_lista(lista3, n)\n",
        "med_var(s_three)"
      ],
      "metadata": {
        "colab": {
          "base_uri": "https://localhost:8080/"
        },
        "id": "OXfdvM-Qw3xd",
        "outputId": "a9d05306-a4e2-4aba-df66-7ac8b93b3ea6"
      },
      "id": "OXfdvM-Qw3xd",
      "execution_count": 58,
      "outputs": [
        {
          "output_type": "execute_result",
          "data": {
            "text/plain": [
              "(84.92, 11.42)"
            ]
          },
          "metadata": {},
          "execution_count": 58
        }
      ]
    },
    {
      "cell_type": "code",
      "source": [
        "# Media e variancia ponderadas estratificadas\n",
        "media_pond(s_one, s_two, s_three)"
      ],
      "metadata": {
        "colab": {
          "base_uri": "https://localhost:8080/"
        },
        "id": "0B99YTQ6xCUT",
        "outputId": "ed73b0a3-af61-45cd-8773-b8cefc1b912f"
      },
      "id": "0B99YTQ6xCUT",
      "execution_count": 59,
      "outputs": [
        {
          "output_type": "execute_result",
          "data": {
            "text/plain": [
              "43.824999999999996"
            ]
          },
          "metadata": {},
          "execution_count": 59
        }
      ]
    },
    {
      "cell_type": "code",
      "source": [
        "var_pond(s_one, s_two, s_three)"
      ],
      "metadata": {
        "colab": {
          "base_uri": "https://localhost:8080/"
        },
        "id": "CUiU2SHszTy8",
        "outputId": "77f8ceb2-3d0b-4470-b794-d0c9f7ddeab2"
      },
      "id": "CUiU2SHszTy8",
      "execution_count": 60,
      "outputs": [
        {
          "output_type": "execute_result",
          "data": {
            "text/plain": [
              "32.1"
            ]
          },
          "metadata": {},
          "execution_count": 60
        }
      ]
    },
    {
      "cell_type": "markdown",
      "source": [
        "F) Comparar os valores\n",
        "\n",
        "A média e variancia ponderadas utilizando a estratificação se aproximam muito mais dos valores encontrados do que a amostra de 1% das três listas unidas em uma só."
      ],
      "metadata": {
        "id": "leKGULwhzTAi"
      },
      "id": "leKGULwhzTAi"
    },
    {
      "cell_type": "markdown",
      "id": "2e3a7b3a",
      "metadata": {
        "id": "2e3a7b3a"
      },
      "source": [
        "### Questão 3"
      ]
    },
    {
      "cell_type": "markdown",
      "id": "8d8b9db9",
      "metadata": {
        "id": "8d8b9db9"
      },
      "source": [
        " Uma máquina de sorvete está regulada de modo a servir uma média de 120g por casquinha. Se a quantidade servida por casquinha seguir uma distribuição normal com desvio padrão de 18g, determine a porcentagem de casquinhas que conterão mais de 150g de sorvete."
      ]
    },
    {
      "cell_type": "code",
      "source": [
        "import scipy.stats as st"
      ],
      "metadata": {
        "id": "COlq91P3TDks"
      },
      "id": "COlq91P3TDks",
      "execution_count": 62,
      "outputs": []
    },
    {
      "cell_type": "code",
      "execution_count": 69,
      "id": "3b3ff14e",
      "metadata": {
        "id": "3b3ff14e",
        "colab": {
          "base_uri": "https://localhost:8080/"
        },
        "outputId": "392508df-d527-42d0-ba36-7ad539111f7a"
      },
      "outputs": [
        {
          "output_type": "stream",
          "name": "stdout",
          "text": [
            "4.77903522728147 %\n"
          ]
        }
      ],
      "source": [
        "media = 120\n",
        "desv_pop = 18\n",
        "x = 150\n",
        "\n",
        "z = (x - media) / desv_pop\n",
        "print((1 - (st.norm.cdf(z)))*100, '%')\n"
      ]
    },
    {
      "cell_type": "markdown",
      "id": "18951732",
      "metadata": {
        "id": "18951732"
      },
      "source": [
        "### Questão 4"
      ]
    },
    {
      "cell_type": "markdown",
      "id": "91d33a4a",
      "metadata": {
        "id": "91d33a4a"
      },
      "source": [
        "O peso médio de 500 estudantes do sexo masculino de uma determinada universidade é 71 Kg e o desvio padrão é 5,3 Kg. Admitindo que os pesos são normalmente distribuídos, determine a oercentagem de estudantes que pesam entre 65 e 72,5 kg"
      ]
    },
    {
      "cell_type": "code",
      "execution_count": 70,
      "id": "9dcf53ee",
      "metadata": {
        "id": "9dcf53ee",
        "colab": {
          "base_uri": "https://localhost:8080/"
        },
        "outputId": "9c72930b-94af-4483-fdda-541576854e0e"
      },
      "outputs": [
        {
          "output_type": "stream",
          "name": "stdout",
          "text": [
            "48.26 %\n"
          ]
        }
      ],
      "source": [
        "mu = 71\n",
        "sigma = 5.3\n",
        "x0 = 65\n",
        "x1 = 72.5\n",
        "\n",
        "z0 = (x0 - mu)/sigma\n",
        "z1 = (x1 - mu)/sigma\n",
        "\n",
        "p0 = st.norm.cdf(z0)*100\n",
        "p1 = st.norm.cdf(z1)*100\n",
        "\n",
        "p = p1 - p0\n",
        "print(round(p,2),'%')"
      ]
    },
    {
      "cell_type": "markdown",
      "id": "49a54c36",
      "metadata": {
        "id": "49a54c36"
      },
      "source": [
        "### Questão 5"
      ]
    },
    {
      "cell_type": "markdown",
      "id": "ad7af421",
      "metadata": {
        "id": "ad7af421"
      },
      "source": [
        "Uma fábrica anuncia que o índice de cafeína em um refrigerante de uma dada marca é igual a 20 mg por lata. Um laboratório realiza 20 análises do índice obtendo: 22, 19, 21, 22, 20, 18, 27, 20, 21, 19, 20, 22, 17, 20, 21,18, 25, 16, 20, 21. Sabe-se que o índice de cafeína do refrigerante dessa marca se distribui normalmente com variância 4 mg$^2$. Pode-se aceitar a afirmação do fabricante, ao nível de 5%?"
      ]
    },
    {
      "cell_type": "code",
      "execution_count": 73,
      "id": "46281c0d",
      "metadata": {
        "id": "46281c0d",
        "colab": {
          "base_uri": "https://localhost:8080/"
        },
        "outputId": "8adba740-8b07-4398-a695-9a0fdb7dcbe6"
      },
      "outputs": [
        {
          "output_type": "stream",
          "name": "stdout",
          "text": [
            "1.6448536269514722\n",
            "20.735600904580114\n",
            "20.45\n"
          ]
        }
      ],
      "source": [
        "mu = 20 #Hipotese 0, H0 = 20\n",
        "amostra = [22, 19, 21, 22, 20, 18, 27, 20, 21, 19, 20, 22, 17, 20, 21,18, 25, 16, 20, 21]\n",
        "n = len(amostra)\n",
        "sigma2 = 4\n",
        "sigma = np.sqrt(sigma2)\n",
        "significancia = 0.05\n",
        "confianca = 0.95\n",
        "\n",
        "# valor de z:\n",
        "z = st.norm.ppf(confianca)\n",
        "print(z)\n",
        "\n",
        "# valor de x critico (xc):\n",
        "# z = xc - mu / sigma/raiz(n)\n",
        "\n",
        "xc = z*(sigma/np.sqrt(n)) + mu\n",
        "print(xc)\n",
        "\n",
        "# média do xcrit:\n",
        "\n",
        "xobs = np.mean(amostra)\n",
        "print(xobs)\n"
      ]
    },
    {
      "cell_type": "markdown",
      "source": [
        "Sim, pode-se aceitar a afirmação, uma vez que a média amostral está dentro do limite de confiança estipulado, sendo menor do que o x critico para 95% de confiança"
      ],
      "metadata": {
        "id": "9oi5yQOzarud"
      },
      "id": "9oi5yQOzarud"
    }
  ],
  "metadata": {
    "kernelspec": {
      "display_name": "Python 3 (ipykernel)",
      "language": "python",
      "name": "python3"
    },
    "language_info": {
      "codemirror_mode": {
        "name": "ipython",
        "version": 3
      },
      "file_extension": ".py",
      "mimetype": "text/x-python",
      "name": "python",
      "nbconvert_exporter": "python",
      "pygments_lexer": "ipython3",
      "version": "3.9.7"
    },
    "varInspector": {
      "cols": {
        "lenName": 16,
        "lenType": 16,
        "lenVar": 40
      },
      "kernels_config": {
        "python": {
          "delete_cmd_postfix": "",
          "delete_cmd_prefix": "del ",
          "library": "var_list.py",
          "varRefreshCmd": "print(var_dic_list())"
        },
        "r": {
          "delete_cmd_postfix": ") ",
          "delete_cmd_prefix": "rm(",
          "library": "var_list.r",
          "varRefreshCmd": "cat(var_dic_list()) "
        }
      },
      "types_to_exclude": [
        "module",
        "function",
        "builtin_function_or_method",
        "instance",
        "_Feature"
      ],
      "window_display": false
    },
    "colab": {
      "provenance": []
    }
  },
  "nbformat": 4,
  "nbformat_minor": 5
}