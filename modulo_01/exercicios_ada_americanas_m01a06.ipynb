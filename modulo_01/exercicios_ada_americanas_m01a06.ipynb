{
  "cells": [
    {
      "cell_type": "markdown",
      "metadata": {
        "id": "PsqRBpgp9JQ6"
      },
      "source": [
        "## Aula 07 - _Strings_ e Gerenciamento de Arquivos\n",
        "\n",
        "Nesta aula, serão discutidos os seguintes tópicos:\n",
        "- _Strings_;\n",
        "- Operações com _Strings_;\n",
        "- Símbolos Especiais;\n",
        "- Funções de _strings_;\n",
        "- Formatação de _strings_;\n",
        "- Gerenciamento de Arquivos (Leitura e Gravação);"
      ]
    },
    {
      "cell_type": "markdown",
      "metadata": {
        "id": "acF-1J-N9JRF"
      },
      "source": [
        "## "
      ]
    },
    {
      "cell_type": "markdown",
      "metadata": {
        "id": "3cT8Sfm09JRG"
      },
      "source": [
        "## 1. _Strings_\n",
        "\n",
        "Depois de ter introduzido os principais tipos de variáveis utilizado na programação, vamos entrar mais afundo no entendimento sobre _strings_, que na verdade pode-se entender como o conjunto de caracteres, coo se fosse uma lista mas com o objetivo de marcação textual."
      ]
    },
    {
      "cell_type": "markdown",
      "metadata": {
        "id": "dSYQgv7v9JRI"
      },
      "source": [
        "Como comentamos sobre as listas, uma propriedade interessante das _strings_ é pode acessar cada caractere pela poição dentro da _string_:"
      ]
    },
    {
      "cell_type": "code",
      "execution_count": null,
      "metadata": {
        "id": "nv_G6LKt9JRJ"
      },
      "outputs": [],
      "source": []
    },
    {
      "cell_type": "code",
      "execution_count": null,
      "metadata": {
        "id": "64LXxBF09JRK"
      },
      "outputs": [],
      "source": []
    },
    {
      "cell_type": "code",
      "execution_count": null,
      "metadata": {
        "id": "bQ9Mfg0w9JRL"
      },
      "outputs": [],
      "source": []
    },
    {
      "cell_type": "markdown",
      "metadata": {
        "id": "dLH1iaYA9JRM"
      },
      "source": [
        "Pode-se definir então a _string_ como de fato uma __coleção de caracteres__. Mas ao contrário da lista, as _strings_ são imutáveis, ou seja, não pode-se modificar um elemento individual da própria _string_. Como o exemplo abaixo:"
      ]
    },
    {
      "cell_type": "code",
      "execution_count": null,
      "metadata": {
        "id": "F_UsYcDD9JRN"
      },
      "outputs": [],
      "source": []
    },
    {
      "cell_type": "markdown",
      "metadata": {
        "id": "W3Oo_vDZ9JRO"
      },
      "source": [
        "## "
      ]
    },
    {
      "cell_type": "markdown",
      "metadata": {
        "id": "3LP5vzQStUXA"
      },
      "source": [
        "## 2. Operações entre strings\n",
        "\n",
        "\n",
        "### Operadores Aritméticos\n",
        "\n",
        "Alguns operadores aritméticos funcionam com strings também. Naturalmente, eles não servem para fazer contas, mas nos permitem fazer de forma intuitiva algumas operações bastante úteis.\n",
        "\n",
        "O operador + serve como um operador de concatenação de strings: unir duas strings. Observe o exemplo abaixo:"
      ]
    },
    {
      "cell_type": "code",
      "execution_count": null,
      "metadata": {
        "id": "S853spUJ9JRQ"
      },
      "outputs": [],
      "source": []
    },
    {
      "cell_type": "code",
      "execution_count": null,
      "metadata": {
        "id": "qO9qWIM19JRR"
      },
      "outputs": [],
      "source": []
    },
    {
      "cell_type": "markdown",
      "metadata": {
        "id": "0O9DPrMVtczG"
      },
      "source": [
        "Outro operador que funciona é o operador *. Este operador não é usado entre duas strings, mas entre uma string e um valor inteiro _int_. Ele repetirá a string o número de vezes dado pelo _int_."
      ]
    },
    {
      "cell_type": "code",
      "execution_count": null,
      "metadata": {
        "id": "nYC9xX2T9JRS"
      },
      "outputs": [],
      "source": []
    },
    {
      "cell_type": "markdown",
      "metadata": {
        "id": "PJIq97id9JRS"
      },
      "source": [
        "## "
      ]
    },
    {
      "cell_type": "markdown",
      "metadata": {
        "id": "DqJunE639JRT"
      },
      "source": [
        "### Operadores Lógicos\n",
        "\n",
        "Os operadores lógicos (<, >, <=, =>, != e ==) também funcionam com _strings_. Esses operadores são __case sensitive__, ou seja, diferenciam maiúsculas de minúsculas.\n",
        "\n",
        "De maneira muito simplificada e desconsiderando diferenças entre maiúsculas e minúsculas, podemos dizer que eles consideram ordem alfabética: 'banana' é maior do que 'abacaxi'."
      ]
    },
    {
      "cell_type": "code",
      "execution_count": null,
      "metadata": {
        "id": "J823TYRC9JRV"
      },
      "outputs": [],
      "source": []
    },
    {
      "cell_type": "markdown",
      "metadata": {
        "id": "Yrv5ZKGH9JRV"
      },
      "source": [
        "A explicação mais completa é a seguinte: internamente, cada caractere é armazenado como um número. Quando utilizamos qualquer tipo de aplicação que irá exibir um texto (um editor de textos, navegador de internet, ou mesmo os nossos programinhas em _Python_ rodando no terminal), a aplicação usa esses números como índices em uma tabela de codificação de caracteres.\n",
        "\n",
        "Temos diversos esquemas diferentes de codificação de caracteres em uso pelo mundo, e quando você está usando um programa ou navegando por um site e você nota símbolos estranhos no texto (frequentemente onde teríamos caracteres especiais, como letras com acento), é provável que o autor do texto tenha utilizado uma tabela e o seu computador esteja usando outra.\n",
        "\n",
        "Vários programas permitem a conversão entre essas tabelas, e você já deve ter visto essa \"sopa de letrinhas\" em alguma aba ou janela de configuração em algum editor de textos: utf-8, utf-16, windows-1252 (ou cp-2152), e até mesmo alguns padrões ISO.\n",
        "\n",
        "Para ilustrar a ideia, vamos colocar aqui uma das tabelas mais simples, a tabela ASCII:\n",
        "\n",
        "![](https://upload.wikimedia.org/wikipedia/commons/thumb/1/1b/ASCII-Table-wide.svg/1200px-ASCII-Table-wide.svg.png)\n",
        "\n",
        "Fonte: https://upload.wikimedia.org/wikipedia/commons/thumb/1/1b/ASCII-Table-wide.svg/1200px-ASCII-Table-wide.svg.png\n",
        "\n",
        "Note que o caractere 'A' está no índice 65, o 'B' está no índice 66, e assim sucessivamente. Por isso, 'Abacate' < 'Banana' é verdadeiro: a primeira _string_ começa com uma letra no índice 65 da tabela, a segunda com uma letra no índice 66.\n"
      ]
    },
    {
      "cell_type": "code",
      "execution_count": null,
      "metadata": {
        "id": "7Y6ToZts9JRX"
      },
      "outputs": [],
      "source": []
    },
    {
      "cell_type": "code",
      "execution_count": null,
      "metadata": {
        "id": "v8Qa2Ipp9JRX"
      },
      "outputs": [],
      "source": []
    },
    {
      "cell_type": "markdown",
      "metadata": {
        "id": "tG-uoASd9JRY"
      },
      "source": [
        "No caso de 'Abacate' e 'Abacaxi', temos um \"empate\" das 5 primeiras letras. Então é a sexta letra que vai mandar: 'x' é maior do que 't', por estar em uma posição superior na tabela.\n",
        "\n",
        "Note que a ordem não é exatamente alfabética: entre os caracteres maiúsculos, seguimos ordem alfabética. Entre os minúsculos, idem. E entre os dígitos numéricos, também temos ordem crescente correspondente aos valores. Mas todos os minúsculos são \"maiores\" do que qualquer maiúsculo, que por sua vez são \"maiores\" do que qualquer dígito numérico. Símbolos, operadores e sinais de pontuação estão em posições diversas."
      ]
    },
    {
      "cell_type": "code",
      "execution_count": null,
      "metadata": {
        "id": "CiTaMn989JRY"
      },
      "outputs": [],
      "source": []
    },
    {
      "cell_type": "markdown",
      "metadata": {
        "id": "GmBfETcl9JRZ"
      },
      "source": [
        "### Copiando por Concatenação\n",
        "\n",
        "Já resolvemos diversos problemas de somatório utilizando _loops_ como _for_ e _while_. Isto vale da mesma lógica para as _strings_:"
      ]
    },
    {
      "cell_type": "code",
      "execution_count": null,
      "metadata": {
        "id": "49ZBq5Sr9JRZ"
      },
      "outputs": [],
      "source": []
    },
    {
      "cell_type": "markdown",
      "metadata": {
        "id": "cashVNY99JRZ"
      },
      "source": [
        "Isso é útil porque antes de \"somar\" cada letra à string final podemos fazer alterações (como transformar em maiúscula ou minúscula, acrescentar caracteres entre 2 letras etc.). É um jeito de fazer tratamento de _strings_. Veremos mais sobre tratamento de strings no capítulo de funções de _strings_."
      ]
    },
    {
      "cell_type": "markdown",
      "metadata": {
        "id": "bX05l4Ts9JRa"
      },
      "source": [
        "## "
      ]
    },
    {
      "cell_type": "markdown",
      "metadata": {
        "id": "V-MuaTWOuE9U"
      },
      "source": [
        "### Transformando uma string em lista\n",
        "\n",
        "\n",
        "_Strings_ são imutáveis como comentado anteriormente, e isso pode nos dar um pouco de trabalho quando queremos fazer pequenas alterações, como forçar um caractere a ser maiúsculo ou acrescentar um caractere à _string_. Uma das formas de fazer envolve a \"soma cumulativa\" apresentada acima. Outra forma envolve transformar a nossa _string_ em lista, que é uma estrutura mutável. Execute o programa abaixo:"
      ]
    },
    {
      "cell_type": "code",
      "execution_count": null,
      "metadata": {
        "id": "OyMfKhZ69JRn"
      },
      "outputs": [],
      "source": []
    },
    {
      "cell_type": "code",
      "execution_count": null,
      "metadata": {
        "id": "vkN1jI3Z9JRn"
      },
      "outputs": [],
      "source": []
    },
    {
      "cell_type": "markdown",
      "metadata": {
        "id": "DX32242EuOO1"
      },
      "source": [
        "Como a lista é mutável, nela conseguimos alterar uma letra e adicionar um símbolo ao final sem dificuldades! Porém, infelizmente nosso resultado é uma lista, o que não ficou muito legível para o usuário. Podemos resolver isso utilizando a função join. Veremos em breve como ele realmente funciona, mas por hora podemos utilizá-lo da seguinte maneira para transformar lista em string:\n",
        "\n"
      ]
    },
    {
      "cell_type": "code",
      "execution_count": null,
      "metadata": {
        "id": "5VOsjOyh9JRo"
      },
      "outputs": [],
      "source": []
    },
    {
      "cell_type": "markdown",
      "metadata": {
        "id": "EOi8oI2H9JRo"
      },
      "source": [
        "## "
      ]
    },
    {
      "cell_type": "markdown",
      "metadata": {
        "id": "dNaeZ555uSPf"
      },
      "source": [
        "## 3. Símbolos especiais\n",
        "\n",
        "Além de letras, números, sinais de pontuação, símbolos matemáticos etc., uma string pode conter alguns operadores especiais de controle. Esses operadores podem indicar, por exemplo, uma quebra de linha ou uma tabulação. Vejamos os mais comuns:\n",
        "\n",
        "### Quebra de linha\n",
        "\n",
        "Uma quebra de linha indica que o programa exibindo a string deverá quebrar a linha atual e exibir o restante da string na linha seguinte, e é representada na maioria dos sistemas e na web pelo símbolo \\n. Execute o programa abaixo e veja o resultado na tela:"
      ]
    },
    {
      "cell_type": "code",
      "execution_count": null,
      "metadata": {
        "id": "dpmnSVuT9JRp"
      },
      "outputs": [],
      "source": []
    },
    {
      "cell_type": "markdown",
      "metadata": {
        "id": "vzb92Yt0ubFF"
      },
      "source": [
        "### Tabulação\n",
        "A tabulação indica um recuo equivalente ao da tecla Tab - um recuo de início de parágrafo, ou o recuo que usamos para aninhar linhas de código em _Python_. Ela é representada pelo símbolo \\t. Verifique o resultado do exemplo abaixo:"
      ]
    },
    {
      "cell_type": "code",
      "execution_count": null,
      "metadata": {
        "id": "XwSzXCfB9JRq"
      },
      "outputs": [],
      "source": []
    },
    {
      "cell_type": "markdown",
      "metadata": {
        "id": "QQwGG9lwujaV"
      },
      "source": [
        "### Barra\n",
        "E se nós quiséssemos representar uma string que explica o significado de \\n, por exemplo, como proceder? Afinal, ao ver o símbolo \\n o programa entenderá que é uma quebra de linha e fará isso ao invés de escrever \\n na tela.\n",
        "\n",
        "Podemos utilizar 2 barras: `\\\\`. Ao fazermos isso, o programa entende que é para representar a barra na tela ao invés de interpretá-la como início de outro símbolo especial."
      ]
    },
    {
      "cell_type": "code",
      "execution_count": null,
      "metadata": {
        "id": "9C3p13aW9JRs"
      },
      "outputs": [],
      "source": []
    },
    {
      "cell_type": "markdown",
      "metadata": {
        "id": "gv79Lk1eupEQ"
      },
      "source": [
        "### Aspas\n",
        "Um problema que você deve ter se deparado é que parece impossível representar o símbolo ' em uma string que foi aberta por esse símbolo, já que a segunda ocorrência dele fechará a string. Idem para o símbolo \". Podemos resolver isso da mesma forma que fizemos com a barra: `\\'` irá sempre representar o símbolo ' e `\\\"` irá sempre representar o símbolo \" ao invés de fechar uma string."
      ]
    },
    {
      "cell_type": "code",
      "execution_count": null,
      "metadata": {
        "id": "Wv53wTOz9JRt"
      },
      "outputs": [],
      "source": []
    },
    {
      "cell_type": "markdown",
      "metadata": {
        "id": "5G62IRkQ9JRt"
      },
      "source": [
        "## "
      ]
    },
    {
      "cell_type": "markdown",
      "metadata": {
        "id": "cGDVtw4KvAZS"
      },
      "source": [
        "## 4. Funções de strings\n",
        "\n",
        "É possível fazer várias operações com strings utilizando técnicas como concatenação ou converter em listas. Porém, certas operações são muito comuns e podem ser muito trabalhosas de fazer na mão. Por isso, temos diversas funções prontas para nos ajudar.\n",
        "\n",
        "Note que como strings são imutáveis, nenhuma dessas funções irá alterar a string original. Elas sempre retornarão uma string nova com as modificações desejadas.\n",
        "\n",
        "Vejamos algumas das mais usadas.\n",
        "\n",
        "\n",
        "### Maiúsculas e minúsculas\n",
        "\n",
        "Temos algumas funções prontas para alterar a capitalização das letras. Uma delas é a função upper, que transforma todas as letras da string original em maiúsculas:"
      ]
    },
    {
      "cell_type": "code",
      "execution_count": null,
      "metadata": {
        "id": "C41VT6AG9JRx"
      },
      "outputs": [],
      "source": []
    },
    {
      "cell_type": "markdown",
      "metadata": {
        "id": "YP1lDmjXwQfh"
      },
      "source": [
        "Analogamente, temos a função lower para transformar todas as letras em minúsculas:\n",
        "\n"
      ]
    },
    {
      "cell_type": "code",
      "execution_count": null,
      "metadata": {
        "id": "wWlR0zoW9JRy"
      },
      "outputs": [],
      "source": []
    },
    {
      "cell_type": "markdown",
      "metadata": {
        "id": "8Lf0PYSCxbyG"
      },
      "source": [
        "Também é possível formatar a string inteira como um nome próprio: primeira letra de cada palavra maiúscula, todo o restante em minúscula. Para isso temos a função title:\n",
        "\n"
      ]
    },
    {
      "cell_type": "code",
      "execution_count": null,
      "metadata": {
        "id": "6hGlISYn9JRy"
      },
      "outputs": [],
      "source": []
    },
    {
      "cell_type": "markdown",
      "metadata": {
        "id": "GLApDgvbxjI9"
      },
      "source": [
        "E, por fim, é possível tratar nossa string como uma frase gramaticalmente correta: primeira letra maiúscula, todo o resto minúsculo. Essa função é a capitalize:\n",
        "\n"
      ]
    },
    {
      "cell_type": "code",
      "execution_count": null,
      "metadata": {
        "id": "2tzziMbA9JRz"
      },
      "outputs": [],
      "source": []
    },
    {
      "cell_type": "markdown",
      "metadata": {
        "id": "Vcm2IFw_x8m7"
      },
      "source": [
        "Uma utilidade para essas funções é padronizar entrada de usuário. Quando pedimos para o usuário digitar 'sim' caso ele deseje fazer algo, ele pode digitar 'SIM', 'sim', 'Sim', 'sIm', 'siM', 'SIm', 'sIM' ou 'SiM'. Prever todas essas condições em uma condicional pode ser bastante trabalhoso, ou mesmo impossível. Imagine se fosse uma string de várias letras... Porém, podemos forçar um padrão para a entrada do usuário e comparar com esse padrão:"
      ]
    },
    {
      "cell_type": "code",
      "execution_count": null,
      "metadata": {
        "id": "7agbAz2P9JRz"
      },
      "outputs": [],
      "source": []
    },
    {
      "cell_type": "markdown",
      "metadata": {
        "id": "jp0ycVdh9JR0"
      },
      "source": [
        "## "
      ]
    },
    {
      "cell_type": "markdown",
      "metadata": {
        "id": "yZTZhTJXyB5K"
      },
      "source": [
        "## Quebrando _Strings_\n",
        "\n",
        "É possível separar uma string em uma lista de substrings. Isso pode ser particularmente útil quando precisamos separar um texto em palavras individuais. A função que realiza essa quebra é o `split`:"
      ]
    },
    {
      "cell_type": "code",
      "execution_count": null,
      "metadata": {
        "id": "7zfZG0lu9JR0"
      },
      "outputs": [],
      "source": []
    },
    {
      "cell_type": "code",
      "execution_count": null,
      "metadata": {
        "id": "TPa9auT09JR1"
      },
      "outputs": [],
      "source": []
    },
    {
      "cell_type": "markdown",
      "metadata": {
        "id": "YOFpHHOTyIjR"
      },
      "source": [
        "O `split` é mais do que apenas uma função para separar palavras. Podemos opcionalmente passar como parâmetro uma _string_ para ser usada como critério de separação: ao invés de quebrar no espaço em branco, a _string_ principal será quebrada nos pontos onde o parâmetro aparece (e ele será apagado do resultado).\n",
        "\n",
        "Uma utilidade interessante para isso seria quando estamos interessados em ler dados formatados do teclado ou de um arquivo e pegar as informações que nos interessam. Imagine, por exemplo, que você queira que o usuário digite uma data no formato 'dd/mm/aaaa' e em seguida você precise separar dia, mês e ano em três variáveis do tipo int. Isso é possível com o `split`:"
      ]
    },
    {
      "cell_type": "code",
      "execution_count": null,
      "metadata": {
        "id": "VrQT3aEj9JR1"
      },
      "outputs": [],
      "source": []
    },
    {
      "cell_type": "markdown",
      "metadata": {
        "id": "42pPi9Fe9JR2"
      },
      "source": [
        "## "
      ]
    },
    {
      "cell_type": "markdown",
      "metadata": {
        "id": "u7wC2vs0yQzi"
      },
      "source": [
        "### Substituindo elementos na _string_\n",
        "\n",
        "Uma das ferramentas mais úteis em qualquer editor de texto é o localizar e substituir, onde podemos buscar por todas as ocorrências de uma expressão no texto e trocar por outra expressão. Em _Python_ temos uma função análoga, o `replace`. Ele recebe 2 parâmetros: a expressão a ser substituída e a expressão que a substituirá. Veja o exemplo:"
      ]
    },
    {
      "cell_type": "code",
      "execution_count": null,
      "metadata": {
        "id": "dxmGfKyL9JR2"
      },
      "outputs": [],
      "source": []
    },
    {
      "cell_type": "markdown",
      "metadata": {
        "id": "I50yIXASyWQW"
      },
      "source": [
        "Em _Python_ não existe uma função para deletar um pedaço de uma _string_. Porém, podemos usar o replace para substituir uma expressão por uma string vazia, o que tem o mesmo resultado:\n",
        "\n"
      ]
    },
    {
      "cell_type": "code",
      "execution_count": null,
      "metadata": {
        "id": "3_TyV1z99JR3"
      },
      "outputs": [],
      "source": []
    },
    {
      "cell_type": "markdown",
      "metadata": {
        "id": "O9A6ZghX9JR3"
      },
      "source": [
        "## "
      ]
    },
    {
      "cell_type": "markdown",
      "metadata": {
        "id": "uAryhDh8yaei"
      },
      "source": [
        "## Concatenando _strings_ em uma coleção\n",
        "\n",
        "\n",
        "Imagine que você tem uma coleção (por exemplo, uma lista) de strings e precisa unir todas elas utilizando algum símbolo padrão como separador entre elas. Para isso temos o `join`. Ele soa pouco intuitivo no começo, então convém executar o exemplo e observar com atenção seu resultado:"
      ]
    },
    {
      "cell_type": "code",
      "execution_count": null,
      "metadata": {
        "id": "MGvnKLqz9JR4"
      },
      "outputs": [],
      "source": []
    },
    {
      "cell_type": "markdown",
      "metadata": {
        "id": "WexSjRsa9JR4"
      },
      "source": [
        "Já vimos o join antes sendo usado para converter uma lista de volta em string. Para isso, utilizávamos uma string vazia como separador. Assim, os elementos da lista eram concatenados sem separador.\n",
        "\n",
        "Dica: um jeito de memorizar facilmente como o join funciona é pensar que o separador entrará no lugar das vírgulas na visualização da lista."
      ]
    },
    {
      "cell_type": "markdown",
      "metadata": {
        "id": "44VXUaFNylzz"
      },
      "source": [
        "\n",
        "\n",
        "## 5. Formatação de _strings_\n",
        "\n",
        "### A função _format_\n",
        "\n",
        "Todo mundo que já preencheu um contrato ou uma ficha de cadastro está familiar com textos nesse estilo:\n",
        "\n",
        "` Eu, ______, portador do CPF ________, residente no endereço _____ autorizo o procedimento.`\n",
        "\n",
        "Esse é o texto genérico que vale para todos, e cada um de nós em particular entende que deve preencher os campos em brancos com dados específicos (nome, CPF e endereço, no exemplo acima).\n",
        "\n",
        "Existe uma função em _Python_ para realizar esse tipo de preenchimento de texto: o format. Suponha que você tenha dados em diferentes variáveis e precisa que todos eles apareçam em uma _string_. Basta criar uma string com os \"espaços em branco\" para serem preenchidos e passar as variáveis para a função. Os espaços em branco são representados por chaves ({})."
      ]
    },
    {
      "cell_type": "code",
      "execution_count": null,
      "metadata": {
        "id": "FicYkCdN9JR5"
      },
      "outputs": [],
      "source": []
    },
    {
      "cell_type": "markdown",
      "metadata": {
        "id": "8JocxNHsy8oi"
      },
      "source": [
        "Porém, o grande charme não está apenas em preencher - isso poderia ser feito concatenando com o operador +. Nós podemos colocar opções de formatação nos nossos dados, como número de casas em um número.\n",
        "\n",
        "Imagine que você queira exibir uma data no formato dd/mm/aaaa. Em situações normais, dias e meses inferiores a 10 apareceriam com apenas 1 casa (int não é representado com zeros à esquerda). Porém, podemos especificar no format que gostaríamos de representar um inteiro com 2 casas, preenchendo com zero casas em branco."
      ]
    },
    {
      "cell_type": "code",
      "execution_count": null,
      "metadata": {
        "id": "mx5Ctzms9JR9"
      },
      "outputs": [],
      "source": []
    },
    {
      "cell_type": "markdown",
      "metadata": {
        "id": "Y9PFhhVPzCaN"
      },
      "source": [
        "Vamos entender o que está dentro das chaves: o símbolo : indica que passaremos opções. O símbolo 'd' indica que estamos representando números inteiros em base decimal (dígitos de 0 a 9). Os símbolos '2' e '4' indicam, respectivamente, 2 casas ou 4 casas. E o símbolo '0' indica que se faltar dígitos, os espaços devem ser preenchidos com zero.\n",
        "\n",
        "Vejamos outro exemplo, dessa vez com casas decimais. É normal postos de gasolina mostrarem o preço do litro com 3 casas decimais. Mas o preço final a ser cobrado deverá ter 2 casas. Porém, ao multiplicar o preço por litro pelo valor em litros, é provável que o total dê várias casas decimais. Usaremos o format para representar com apenas 2 casas."
      ]
    },
    {
      "cell_type": "code",
      "execution_count": null,
      "metadata": {
        "id": "5Xv16pNH9JSB"
      },
      "outputs": [],
      "source": []
    },
    {
      "cell_type": "markdown",
      "metadata": {
        "id": "8AGwep3_zHg9"
      },
      "source": [
        "Neste caso, o 'f' indica que o número é float. Já o '.2' indica que queremos 2 casas após o ponto decimal. Note que ele não apenas descarta as casas excedentes, e sim arredonda corretamente o número.\n",
        "\n",
        "O format possui tantas opções diferentes que existe um site inteiro dedicado a explicar e dar exemplos: https://pyformat.info/\n",
        "\n",
        "<br>\n",
        "\n",
        "### f-strings\n",
        "\n",
        "A função format já se mostrou bastante poderosa, e vimos como ela facilita muito nossa vida. Ela não apenas diminui nosso trabalho para concatenar múltiplas informações em uma única string, como ainda aceita opções diversas de formatação para cada uma das informações. Mas dá para ir um passo além.\n",
        "\n",
        "Ao colocarmos o caractere f imediatamente antes de abrir aspas para criar uma string, essa string irá se comportar de maneira muito semelhante à máscara de um format, e não será necessário chamar o format. Podemos colocar o nome de variáveis entre chaves para inseri-las automaticamente na string:"
      ]
    },
    {
      "cell_type": "code",
      "execution_count": null,
      "metadata": {
        "id": "dPwbPVQz9JSC"
      },
      "outputs": [],
      "source": []
    },
    {
      "cell_type": "code",
      "execution_count": null,
      "metadata": {
        "id": "Ir5a8ylA9JSD"
      },
      "outputs": [],
      "source": []
    },
    {
      "cell_type": "markdown",
      "metadata": {
        "id": "tLejrR2tzPen"
      },
      "source": [
        "Inclusive podemos utilizar as mesmas opções de formatação do format diretamente nas f-strings:\n",
        "\n"
      ]
    },
    {
      "cell_type": "code",
      "execution_count": null,
      "metadata": {
        "id": "gQyMThu-9JSD"
      },
      "outputs": [],
      "source": []
    },
    {
      "cell_type": "markdown",
      "metadata": {
        "id": "XGwg_8jW9JSE"
      },
      "source": [
        "Desde o seu lançamento, as f-strings vem se tornando cada vez mais populares, tornando o uso do format menos comum."
      ]
    },
    {
      "cell_type": "markdown",
      "metadata": {
        "id": "YgnBcELL9JSE"
      },
      "source": [
        "## "
      ]
    },
    {
      "cell_type": "markdown",
      "metadata": {
        "id": "sU2qIF489JSG"
      },
      "source": [
        "## 6. Gerenciamento de Arquivos (Leitura e Gravação)\n",
        "\n",
        "A necessidade de salvar dados em algum local e depois recuperá-los é uma das situações mais comuns em qualquer\n",
        "aplicação. Muitas vezes, esses dados são complexos e possuem relações bem definidas entre si. Nesses casos, é\n",
        "recomendável utilizarmos bancos de dados, que são sistemas capazes de armazenar essas informações em uma forma\n",
        "estruturada e de fácil acesso posterior.\n",
        "\n",
        "Em outros cenários, entretanto, podemos precisar trabalhar apenas com um conjunto muito simples de dados, tornando\n",
        "inviável o uso de uma ferramenta tão potente quanto os bancos. Então, podemos simplesmente ler e escrever as informações\n",
        "diretamente em arquivos no sistema. Veremos então quais as formas mais simples de fazer essas duas operações com Python."
      ]
    },
    {
      "cell_type": "markdown",
      "metadata": {
        "id": "Efk6GySe9JSG"
      },
      "source": [
        "### Escrita em Arquivos\n",
        "\n",
        "Para a primeira operação, utilizaremos a função `open()` para iniciar a abertura do arquivo e o método `write()` para\n",
        "escrever os dados nele.\n",
        "\n",
        "```python\n",
        "file = open(\"meu_arquivo.txt\", \"w\")\n",
        "file.write(\"Escrevendo dados em meu arquivo\")\n",
        "file.close()\n",
        "```\n",
        "\n",
        "O segundo argumento da função `open()` acima é o modo em que queremos abrir esse arquivo. Por padrão, o modo é o `r+`,\n",
        "significando que queremos ler e escrever no mesmo arquivo, limpando seu conteúdo primeiro, ou seja, não importa se\n",
        "executarmos várias vezes o mesmo código, teremos sempre apenas uma linha nele."
      ]
    },
    {
      "cell_type": "code",
      "execution_count": null,
      "metadata": {
        "id": "o3Mw8jcm9JSH"
      },
      "outputs": [],
      "source": []
    },
    {
      "cell_type": "markdown",
      "metadata": {
        "id": "KW2NQHfq9JSH"
      },
      "source": [
        "Existem 4 opções \"básicas\" para o modo:\n",
        "\n",
        "| Modo | Descrição                                                                                              |\n",
        "|------|--------------------------------------------------------------------------------------------------------|\n",
        "| `w`  | Escrita de arquivos (`w` para `write`), sobrescrevendo os dados do arquivo original (se houver)        |\n",
        "| `a`  | Escrita de arquivos (`a` para `append`), adicionando os dados ao final do arquivo original (se houver) |\n",
        "| `r`  | Leitura de arquivos (`r` para `read`) e o modo padrão se esse parâmetro for omitido                    |\n",
        "| `r+` | Tanto para leitura quanto escrita de arquivos (também sobrescrevendo, sendo um `r` + `w`)  \n",
        "\n",
        "<br>\n",
        "\n",
        "Após escrevermos os dados desejados, invocamos o método `close()` para terminar a operação e realmente executar as\n",
        "operações pendentes, já que o sistema operacional possui diversos mecanismos para melhorar a performance e pode guardar\n",
        "temporariamente informações na memória, o que chamamos de _\"buffer\"_.\n",
        "\n",
        "Além disso, podemos passar outros argumentos para o método `open()`, como por exemplo configurações de _encoding_ (se\n",
        "estamos utilizando UTF-8 ou ISO-8859-1, por exemplo), modo de quebra de linha (como `\\n` ou `\\r\\n`) e outros.\n",
        "\n",
        "### Método recomendado: `with`\n",
        "\n",
        "Existe uma maneira mais simples para escrevemos em arquivos, através do código abaixo:\n",
        "\n",
        "```python\n",
        "with open(\"meu_arquivo.txt\", \"w\") as file:\n",
        "    file.write(\"Escrevendo dados em meu arquivo com with\")\n",
        "```\n",
        "\n",
        "Além de possuir menos linhas de código, a instrução `with` garante que o método `close()` sempre será invocado, mesmo\n",
        "que um erro aconteça no meio do caminho."
      ]
    },
    {
      "cell_type": "code",
      "execution_count": null,
      "metadata": {
        "id": "QrIhW_SP9JSI"
      },
      "outputs": [],
      "source": []
    },
    {
      "cell_type": "markdown",
      "metadata": {
        "id": "BLTjktAg9JSI"
      },
      "source": [
        "## "
      ]
    },
    {
      "cell_type": "markdown",
      "metadata": {
        "id": "WBOeUun29JSI"
      },
      "source": [
        "### Checagem de Existência de Arquivos\n",
        "\n",
        "Se você quiser apenas verificar se um certo diretório ou arquivo existe, sem necessariamente ler seu conteúdo, você pode\n",
        "utilizar algumas abordagens distintas. As mais comuns são através da\n",
        "biblioteca [`os.path`](https://docs.python.org/pt-br/3/library/os.path.html).\n",
        "\n",
        "Para checar se um arquivo existe, utilize `os.path.isfile()`:\n",
        "\n",
        "```python\n",
        "from os.path import isfile\n",
        "\n",
        "if isfile(\"meu_arquivo.txt\"):\n",
        "    print(\"O arquivo meu_arquivo.txt existe\")\n",
        "else:\n",
        "    print(\"O arquivo meu_arquivo.txt não existe\")\n",
        "```"
      ]
    },
    {
      "cell_type": "code",
      "execution_count": null,
      "metadata": {
        "id": "DEPLeAWv9JSK"
      },
      "outputs": [],
      "source": []
    },
    {
      "cell_type": "markdown",
      "metadata": {
        "id": "lrBMUNxV9JSL"
      },
      "source": [
        "> Nota: os códigos acima podem ser escritos com menos linhas, através do `if` ternário:\n",
        "\n",
        "```python\n",
        "print(\"O arquivo meu_arquivo.txt existe?\")\n",
        "print(\"Sim\" if isfile(\"meu_arquivo.txt\") else \"Não\")\n",
        "```"
      ]
    },
    {
      "cell_type": "code",
      "execution_count": null,
      "metadata": {
        "id": "WylM27o_9JSL"
      },
      "outputs": [],
      "source": []
    },
    {
      "cell_type": "markdown",
      "metadata": {
        "id": "j0OJiUa-9JSL"
      },
      "source": [
        "## "
      ]
    },
    {
      "cell_type": "markdown",
      "metadata": {
        "id": "8wuw3_Sm9JSL"
      },
      "source": [
        "### Leitura de Arquivos\n",
        "\n",
        "Assim como utilizamos o `write()` para escrever, iremos usar seu método análogo `read()`:\n",
        "\n",
        "```python\n",
        "with open(\"meu_arquivo.txt\", \"r\") as file:\n",
        "    conteudo = file.read()\n",
        "    # Aqui você pode lidar com a variável conteudo\n",
        "```\n"
      ]
    },
    {
      "cell_type": "code",
      "execution_count": null,
      "metadata": {
        "id": "raXAp0VA9JSM"
      },
      "outputs": [],
      "source": []
    },
    {
      "cell_type": "markdown",
      "metadata": {
        "id": "zEyA5mh29JSM"
      },
      "source": [
        "Mas cuidado! Como você pode ter notado, essa função irá ler o arquivo inteiro de uma vez, podendo causar problemas no\n",
        "uso de memória RAM. \n",
        "\n",
        "\n",
        "### Lendo linha por linha\n",
        "\n",
        "Se você quiser ler linha por linha do arquivo, utilize o método `readline()`:\n",
        "\n",
        "```python\n",
        "with open(\"meu_arquivo.txt\", \"r\") as file:\n",
        "    while linha := file.readline():\n",
        "        print(\"Linha:\", linha)\n",
        "```\n",
        "\n",
        "Esse código pode ser ainda mais simples, utilizando o `for`:\n",
        "\n",
        "```python\n",
        "with open(\"meu_arquivo.txt\", \"r\") as file:\n",
        "    for linha in file:\n",
        "        print(\"Linha:\", linha)\n",
        "```"
      ]
    },
    {
      "cell_type": "code",
      "execution_count": null,
      "metadata": {
        "id": "due-0W6p9JSM"
      },
      "outputs": [],
      "source": []
    },
    {
      "cell_type": "code",
      "execution_count": null,
      "metadata": {
        "id": "kIjp0Jeg9JSN"
      },
      "outputs": [],
      "source": []
    },
    {
      "cell_type": "markdown",
      "metadata": {
        "id": "AhcfoMsN9JSN"
      },
      "source": [
        "## "
      ]
    },
    {
      "cell_type": "markdown",
      "metadata": {
        "id": "BTYmg-6tzUU6"
      },
      "source": [
        "## Exercícios"
      ]
    },
    {
      "cell_type": "markdown",
      "metadata": {
        "id": "ysJxw4yf0-ZB"
      },
      "source": [
        "__1)__ Faça um programa que lê uma string do teclado e a exibe invertida na tela.\n",
        "\n",
        "\n",
        "Exemplo: a string \"batata\" vira \"atatab\"."
      ]
    },
    {
      "cell_type": "code",
      "execution_count": null,
      "metadata": {
        "id": "NqbbLzU91N8K",
        "colab": {
          "base_uri": "https://localhost:8080/"
        },
        "outputId": "44001e2d-6987-4267-82b9-b95277601247"
      },
      "outputs": [
        {
          "output_type": "stream",
          "name": "stdout",
          "text": [
            "Digita aí: batata\n",
            "A palavra 'batata' escrita de modo invertido é: atatab\n"
          ]
        }
      ],
      "source": [
        "string = input('Digita aí: ')\n",
        "\n",
        "string_inversa = string[::-1]\n",
        "\n",
        "print(f'A palavra \\'{string}\\' escrita de modo invertido é:',string_inversa)\n",
        "  "
      ]
    },
    {
      "cell_type": "markdown",
      "metadata": {
        "id": "pWz2qyVb1OJP"
      },
      "source": [
        "__2)__ Faça um programa que pede para o usuário digitar 2 palavras. O seu programa deverá responder se elas são palíndromos uma da outra, ou seja, se ao inverter uma delas, temos a outra. \n",
        "\n",
        "Exemplo: as palavras \"roma\" e \"amor\" são palíndromos."
      ]
    },
    {
      "cell_type": "code",
      "execution_count": null,
      "metadata": {
        "id": "DVXd2_nd1oYu",
        "colab": {
          "base_uri": "https://localhost:8080/"
        },
        "outputId": "19347d5d-30c4-4e1d-cfb1-ffb4a59957fb"
      },
      "outputs": [
        {
          "output_type": "stream",
          "name": "stdout",
          "text": [
            "Digite a primeira palavra: roma\n",
            "Digite a segunda palavra: amor\n",
            "As palavras 'roma' e 'amor' são espelhadas\n"
          ]
        }
      ],
      "source": [
        "palavra1 = input('Digite a primeira palavra: ')\n",
        "palavra2 = input('Digite a segunda palavra: ')\n",
        "\n",
        "if len(palavra1) == len(palavra2):\n",
        "  if palavra1 == palavra2[::-1]:\n",
        "    print(f'As palavras \\'{palavra1}\\' e \\'{palavra2}\\' são espelhadas')\n",
        "  else:\n",
        "    print(f'As palavras \\'{palavra1}\\' e \\'{palavra2}\\' não são espelhadas')\n",
        "else:\n",
        "  print(f'As palavras \\'{palavra1}\\' e \\'{palavra2}\\' não possuem o mesmo tamanho')\n"
      ]
    },
    {
      "cell_type": "markdown",
      "metadata": {
        "id": "NVyvRKFs1ooO"
      },
      "source": [
        "__3)__ Faça um programa que lê duas palavras do teclado e responde se elas são **anagramas** uma da outra, isto é, se podemos escrever uma delas apenas mudando a ordem das letras da outra.\n",
        "\n",
        "Exemplo: \"ator\" e \"rota\", \"rota\" e \"tora\", \"lama\" e \"mala\". "
      ]
    },
    {
      "cell_type": "code",
      "execution_count": null,
      "metadata": {
        "id": "36IV_E562A_V",
        "colab": {
          "base_uri": "https://localhost:8080/"
        },
        "outputId": "169002bf-c20e-4c3c-c635-9fada101ebb7"
      },
      "outputs": [
        {
          "output_type": "stream",
          "name": "stdout",
          "text": [
            "Digite a primeira palavra: ator\n",
            "Digite a segunda palavra: rota\n",
            "As palavras 'ator' e 'rota' podem ser escritas mudando a ordem das letras.\n"
          ]
        }
      ],
      "source": [
        "palavra1 = input('Digite a primeira palavra: ')\n",
        "palavra2 = input('Digite a segunda palavra: ')\n",
        "\n",
        "if len(palavra1) != len(palavra2):\n",
        "  print(f'Não é possível escrever outras palavras, pois \\'{palavra1}\\' e \\'{palavra2}\\' possuem tamanhos diferentes.')\n",
        "else:\n",
        "  l1 = list(palavra1)\n",
        "  l2 = list(palavra2)\n",
        "  l1.sort()\n",
        "  l2.sort()\n",
        "  #print(l1, l2)\n",
        "\n",
        "  d1 = {}\n",
        "  d2 = {}\n",
        "  for letra in l1:\n",
        "    d1[letra] = []\n",
        "    d1[letra].append(l1.count(letra))\n",
        "\n",
        "  for letra in l2:\n",
        "    d2[letra] = []\n",
        "    d2[letra].append(l2.count(letra))\n",
        "\n",
        "  if d1 != d2:\n",
        "    print(f'Não é possível, pois \\'{palavra1}\\' e \\'{palavra2}\\' possuem letras diferentes ou quantidade de letras diferentes.')\n",
        "  else:\n",
        "    print(f'As palavras \\'{palavra1}\\' e \\'{palavra2}\\' podem ser escritas mudando a ordem das letras.')"
      ]
    },
    {
      "cell_type": "markdown",
      "metadata": {
        "id": "XLLRUYKJ2Dit"
      },
      "source": [
        "__4)__ **Cifra de César**\n",
        "\n",
        "A cifra de César é uma forma rudimentar de criptografia onde todas as letras são deslocadas uma quantidade pré-determinada de vezes no alfabeto. Por exemplo, a frase \"Abra a porta\" com 3 deslocamentos vira \"Deud d sruwd\". \n",
        "\n",
        "Caso os deslocamentos estourem o tamanho do alfabeto, eles \"dão a volta\": no caso anterior, com 3 deslocamentos, se alguma palavra tivesse a letra \"z\", ela se tornaria \"c\".\n",
        "\n",
        "Faça um programa que pergunta para o usuário uma frase para ser criptografada e a quantidade de deslocamentos desejada. Seu programa irá mostrar a mensagem cifrada na tela.\n",
        "\n"
      ]
    },
    {
      "cell_type": "code",
      "source": [
        "def ascii_caesar_shift(message, distance):\n",
        "    encrypted = \"\"\n",
        "    for char in message:\n",
        "        value = ord(char) + distance\n",
        "        encrypted += chr(value % 128) #128 for ASCII\n",
        "    return encrypted"
      ],
      "metadata": {
        "id": "7fF36sFH6uu7"
      },
      "execution_count": null,
      "outputs": []
    },
    {
      "cell_type": "code",
      "source": [
        "ascii_caesar_shift('Abra a porta', 3)"
      ],
      "metadata": {
        "colab": {
          "base_uri": "https://localhost:8080/",
          "height": 36
        },
        "id": "kwHBqtrxE7Us",
        "outputId": "ac36bf85-a4c4-44f4-9e83-eb9c409e822e"
      },
      "execution_count": null,
      "outputs": [
        {
          "output_type": "execute_result",
          "data": {
            "text/plain": [
              "'Deud#d#sruwd'"
            ],
            "application/vnd.google.colaboratory.intrinsic+json": {
              "type": "string"
            }
          },
          "metadata": {},
          "execution_count": 2
        }
      ]
    },
    {
      "cell_type": "code",
      "source": [
        "pal = 'odio'\n",
        "pall = list(pal)\n",
        "\n",
        "dicio = {}\n",
        "for i in range(len(pal)):\n",
        "  dicio[i] = []\n",
        "for i,l in zip(dicio, pall):\n",
        "  dicio[i].append(l)\n",
        "print(dicio)"
      ],
      "metadata": {
        "colab": {
          "base_uri": "https://localhost:8080/"
        },
        "id": "40ARUh3rFy3R",
        "outputId": "e60fa090-2e6a-4387-aa98-9cd5442aa510"
      },
      "execution_count": null,
      "outputs": [
        {
          "output_type": "stream",
          "name": "stdout",
          "text": [
            "['o', 'd', 'i', 'o']\n",
            "{0: ['o'], 1: ['d'], 2: ['i'], 3: ['o']}\n"
          ]
        }
      ]
    },
    {
      "cell_type": "code",
      "source": [
        "alfabeto_l = 'abcdefghijklmnopqrstuvxwyz'\n",
        "alfabeto_u = 'ABCDEFGHIJKLMNOPQRSTUVXWYZ'\n",
        "palavra = 'amora'\n",
        "\n",
        "list_l = list(alfabeto_l)\n",
        "list_u = list(alfabeto_u)\n",
        "list_p = list(palavra)\n",
        "\n",
        "dict_l = {}\n",
        "dict_u = {}\n",
        "dict_p = {}\n",
        "\n",
        "# Criando os índices para cada letra do alfabeto minúsculo\n",
        "for index in range(len(list_l)):\n",
        "  dict_l[index] = []\n",
        "for index,letra in zip(dict_l, list_l):\n",
        "  dict_l[index].append(letra)\n",
        "\n",
        "# Criando os índices para cada letra do alfabeto maiúsculo\n",
        "for index in range(len(list_u)):\n",
        "  dict_u[index] = []\n",
        "for index,letra in zip(dict_u, list_u):\n",
        "  dict_u[index].append(letra)\n",
        "\n",
        "# Criando os índices para cada letra da palavra selecionada\n",
        "for index in range(len(list_p)):\n",
        "  dict_p[index] = []\n",
        "for index,letra in zip(dict_p, list_p):\n",
        "  dict_p[index].append(letra)\n",
        "\n",
        "m_criptografada = ''\n",
        "incremento = 3\n",
        "\n",
        "#for i, v in dict_l.items():\n",
        "#  if v in dict_p.values():\n",
        "\n",
        "print(dict_l)\n",
        "print(dict_u)\n",
        "print(dict_p)"
      ],
      "metadata": {
        "colab": {
          "base_uri": "https://localhost:8080/"
        },
        "id": "3wuNcTGkHCxw",
        "outputId": "86b7dc68-5161-44e2-9c5a-05894f0396be"
      },
      "execution_count": null,
      "outputs": [
        {
          "output_type": "stream",
          "name": "stdout",
          "text": [
            "{0: ['a'], 1: ['b'], 2: ['c'], 3: ['d'], 4: ['e'], 5: ['f'], 6: ['g'], 7: ['h'], 8: ['i'], 9: ['j'], 10: ['k'], 11: ['l'], 12: ['m'], 13: ['n'], 14: ['o'], 15: ['p'], 16: ['q'], 17: ['r'], 18: ['s'], 19: ['t'], 20: ['u'], 21: ['v'], 22: ['x'], 23: ['w'], 24: ['y'], 25: ['z']}\n",
            "{0: ['A'], 1: ['B'], 2: ['C'], 3: ['D'], 4: ['E'], 5: ['F'], 6: ['G'], 7: ['H'], 8: ['I'], 9: ['J'], 10: ['K'], 11: ['L'], 12: ['M'], 13: ['N'], 14: ['O'], 15: ['P'], 16: ['Q'], 17: ['R'], 18: ['S'], 19: ['T'], 20: ['U'], 21: ['V'], 22: ['X'], 23: ['W'], 24: ['Y'], 25: ['Z']}\n",
            "{0: ['a'], 1: ['m'], 2: ['o'], 3: ['r'], 4: ['a']}\n"
          ]
        }
      ]
    },
    {
      "cell_type": "code",
      "source": [
        "for i in dict_p.values():\n",
        "  if i in dict_l.values():\n",
        "    #for chave, valor in dict_l.items():\n",
        "      #print(chave)\n",
        "#print(letras_selecionadas)"
      ],
      "metadata": {
        "colab": {
          "base_uri": "https://localhost:8080/",
          "height": 130
        },
        "id": "cNCPWilnaovt",
        "outputId": "9b18f59c-7929-4b3f-85a7-2afbc8e9115c"
      },
      "execution_count": null,
      "outputs": [
        {
          "output_type": "error",
          "ename": "SyntaxError",
          "evalue": "ignored",
          "traceback": [
            "\u001b[0;36m  File \u001b[0;32m\"<ipython-input-2-77bcb662f660>\"\u001b[0;36m, line \u001b[0;32m5\u001b[0m\n\u001b[0;31m    #print(letras_selecionadas)\u001b[0m\n\u001b[0m                               ^\u001b[0m\n\u001b[0;31mSyntaxError\u001b[0m\u001b[0;31m:\u001b[0m unexpected EOF while parsing\n"
          ]
        }
      ]
    },
    {
      "cell_type": "code",
      "source": [
        "for i, v in dict_l.items():\n",
        "  if v in dict_p.values():\n",
        "    print(dict_l[i+incremento])\n"
      ],
      "metadata": {
        "colab": {
          "base_uri": "https://localhost:8080/"
        },
        "id": "7UFowCt6ayCV",
        "outputId": "a6869676-c90b-4c32-b334-9af4452999f7"
      },
      "execution_count": null,
      "outputs": [
        {
          "output_type": "stream",
          "name": "stdout",
          "text": [
            "['d']\n",
            "['p']\n",
            "['r']\n",
            "['u']\n"
          ]
        }
      ]
    },
    {
      "cell_type": "code",
      "source": [
        "lista_index = []\n",
        "for i, v in dict_l.items():\n",
        "  if v in dict_p.values():  \n",
        "    lista_index.append(i+incremento)\n",
        "print(lista_index)"
      ],
      "metadata": {
        "colab": {
          "base_uri": "https://localhost:8080/"
        },
        "id": "gW8-UlrthTDR",
        "outputId": "8987cfd9-f3f8-44cc-ee9d-51f65c501d7e"
      },
      "execution_count": null,
      "outputs": [
        {
          "output_type": "stream",
          "name": "stdout",
          "text": [
            "[3, 15, 17, 20]\n"
          ]
        }
      ]
    },
    {
      "cell_type": "code",
      "source": [
        "letras_inc = []\n",
        "for i, v in dict_l.items():\n",
        "  if i in lista_index:\n",
        "    letras_inc.append(v)\n",
        "print(letras_inc)"
      ],
      "metadata": {
        "colab": {
          "base_uri": "https://localhost:8080/"
        },
        "id": "HvnXqM3Ji2ej",
        "outputId": "e2204c13-3044-432a-cdfa-d453dc73916b"
      },
      "execution_count": null,
      "outputs": [
        {
          "output_type": "stream",
          "name": "stdout",
          "text": [
            "[['d'], ['p'], ['r'], ['u']]\n"
          ]
        }
      ]
    },
    {
      "cell_type": "code",
      "source": [
        "for i, v in dict_l.items():\n",
        "  if v in dict_p.values():\n",
        "    for i,v in dict_p.items():\n",
        "      dict_p[i] = dict_l[i+3]\n",
        "print(dict_p)"
      ],
      "metadata": {
        "colab": {
          "base_uri": "https://localhost:8080/"
        },
        "id": "XX4AEsfSkx1X",
        "outputId": "b5dc8a1d-ed3c-4763-ff39-82c1df3440eb"
      },
      "execution_count": null,
      "outputs": [
        {
          "output_type": "stream",
          "name": "stdout",
          "text": [
            "{0: ['d'], 1: ['e'], 2: ['f'], 3: ['g'], 4: ['h']}\n"
          ]
        }
      ]
    },
    {
      "cell_type": "code",
      "source": [
        "for ind, val in dict_l.items():\n",
        "  for i,v in dict_p.items():\n",
        "    for i in dict_p.keys():\n",
        "      "
      ],
      "metadata": {
        "id": "35K_a7L35AyK"
      },
      "execution_count": null,
      "outputs": []
    },
    {
      "cell_type": "code",
      "source": [
        "palavra = 'amora'\n",
        "list_p = list(palavra)\n",
        "print(list_p)\n",
        "dict_p = {}\n",
        "lista_temp_val = []\n",
        "lista_temp_ind = []\n",
        "# Criando os índices para cada letra da palavra selecionada\n",
        "for letra in list_p:\n",
        "  for indice,letras in dict_l.items():\n",
        "    if letra in dict_l.values():\n",
        "      lista_temp_ind.append(indice)\n",
        "\n",
        "#for indice, letra in dict_l.items():\n",
        " # if letra in list_p:\n",
        "  #  lista_temp_ind.append(indice)\n",
        "\n",
        "print(lista_temp_ind)"
      ],
      "metadata": {
        "colab": {
          "base_uri": "https://localhost:8080/"
        },
        "id": "FY51CEXM6RN0",
        "outputId": "112526ab-ca5f-43b9-f3fa-2b296d87daac"
      },
      "execution_count": null,
      "outputs": [
        {
          "output_type": "stream",
          "name": "stdout",
          "text": [
            "['a', 'm', 'o', 'r', 'a']\n",
            "[]\n"
          ]
        }
      ]
    },
    {
      "cell_type": "code",
      "source": [
        "for index, valor in dict_l.items():\n",
        "  itens = (index, valor)\n",
        "  for letra in list_p:\n",
        "    if letra in itens[1]:\n",
        "      print(itens[0])"
      ],
      "metadata": {
        "id": "cdsIuZqcICzr",
        "colab": {
          "base_uri": "https://localhost:8080/"
        },
        "outputId": "bd2285ea-16d9-4894-de0c-216eb0416f1f"
      },
      "execution_count": 47,
      "outputs": [
        {
          "output_type": "stream",
          "name": "stdout",
          "text": [
            "0\n",
            "0\n",
            "12\n",
            "14\n",
            "17\n"
          ]
        }
      ]
    },
    {
      "cell_type": "markdown",
      "metadata": {
        "id": "70sJ8QX-23qy"
      },
      "source": []
    }
  ],
  "metadata": {
    "colab": {
      "provenance": []
    },
    "kernelspec": {
      "display_name": "Python 3 (ipykernel)",
      "language": "python",
      "name": "python3"
    },
    "language_info": {
      "codemirror_mode": {
        "name": "ipython",
        "version": 3
      },
      "file_extension": ".py",
      "mimetype": "text/x-python",
      "name": "python",
      "nbconvert_exporter": "python",
      "pygments_lexer": "ipython3",
      "version": "3.9.12"
    }
  },
  "nbformat": 4,
  "nbformat_minor": 0
}