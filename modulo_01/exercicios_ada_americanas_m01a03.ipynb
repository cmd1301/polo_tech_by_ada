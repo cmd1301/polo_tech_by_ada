{
  "cells": [
    {
      "cell_type": "markdown",
      "metadata": {
        "id": "Ftbm7qbJyO5I"
      },
      "source": [
        "## Aula 03 - Looping While e For"
      ]
    },
    {
      "cell_type": "markdown",
      "metadata": {
        "id": "eHupYucmyO5U"
      },
      "source": [
        "## Exercícios"
      ]
    },
    {
      "cell_type": "markdown",
      "metadata": {
        "id": "jimMIEcayO5U"
      },
      "source": [
        "__1)__ Desenvolva um código que receba do usuário um número inteiro e calcule o fatorial deste número. A fórmula do fatorial é definida como:\n",
        "\n",
        "<br>\n",
        "\n",
        "$$ n! = n * (n - 1) * (n - 2) * ... * 2 * 1$$\n",
        "\n",
        "<br>\n",
        "\n",
        "Por exemplo $4!$ é igual a $4*3*2*1 = 24$."
      ]
    },
    {
      "cell_type": "markdown",
      "metadata": {
        "id": "1pBhphJeyO5U"
      },
      "source": [
        "__1.1)__ Desenvolva o código na versão _while_ (1 ponto)"
      ]
    },
    {
      "cell_type": "code",
      "execution_count": 46,
      "metadata": {
        "id": "LFJY_xnKyO5U",
        "colab": {
          "base_uri": "https://localhost:8080/"
        },
        "outputId": "cb116bf4-56a0-40d4-8867-f713f56c51bc"
      },
      "outputs": [
        {
          "output_type": "stream",
          "name": "stdout",
          "text": [
            "Digite numero inteiro positivo: 5\n",
            "O fatorial do número digitado é: 120\n"
          ]
        }
      ],
      "source": [
        "num = int(input('Digite numero inteiro positivo: '))\n",
        "fatorial = 1\n",
        "\n",
        "while num >= 1:\n",
        "  fatorial = fatorial * num\n",
        "  num -= 1\n",
        "print('O fatorial do número digitado é:', fatorial)"
      ]
    },
    {
      "cell_type": "markdown",
      "metadata": {
        "id": "cj2lWB1RyO5U"
      },
      "source": [
        "__1.2)__ Desenvolva o código na versão _for_ (1 ponto)"
      ]
    },
    {
      "cell_type": "code",
      "source": [
        "num = int(input('Digite um número inteiro positivo: '))\n",
        "fat = 1\n",
        "\n",
        "for i in range(num+1, 2, -1):\n",
        "  anterior = i-1\n",
        "  fat = fat*anterior\n",
        "print(fat)"
      ],
      "metadata": {
        "id": "nyFIRxMQYQXn",
        "colab": {
          "base_uri": "https://localhost:8080/"
        },
        "outputId": "405e6126-432f-4990-c201-441cef4d68c5"
      },
      "execution_count": 47,
      "outputs": [
        {
          "output_type": "stream",
          "name": "stdout",
          "text": [
            "Digite um número inteiro positivo: 5\n",
            "120\n"
          ]
        }
      ]
    },
    {
      "cell_type": "markdown",
      "metadata": {
        "id": "xxWwf92PyO5U"
      },
      "source": [
        "## "
      ]
    },
    {
      "cell_type": "markdown",
      "metadata": {
        "id": "On1iFCS5yO5V"
      },
      "source": [
        "__2)__ Desenvolva um código que onde pede para o usuário que digite um número inteiro entre 1 e 200, e o código deve printar todos os __números primos__ entre 2 e o número digitado. Número primo é um que seja divisível apenas por 1 ou ele mesmo. Exemplo de números primos : 2, 3, 5, 7, 11, 13, 17 e assim por diante."
      ]
    },
    {
      "cell_type": "markdown",
      "metadata": {
        "id": "O6lixAUbyO5V"
      },
      "source": [
        "__2.1)__ Desenvolva o código na versão _while_ (1 ponto)"
      ]
    },
    {
      "cell_type": "code",
      "execution_count": 45,
      "metadata": {
        "id": "Dk48YzZqyO5V",
        "colab": {
          "base_uri": "https://localhost:8080/"
        },
        "outputId": "1ed7c6ea-e93f-47c1-f8f1-9869dbf475f3"
      },
      "outputs": [
        {
          "output_type": "stream",
          "name": "stdout",
          "text": [
            "Digite um número entre 1 e 200: 18\n",
            "2 é primo\n",
            "3 é primo\n",
            "5 é primo\n",
            "7 é primo\n",
            "11 é primo\n",
            "13 é primo\n",
            "17 é primo\n"
          ]
        }
      ],
      "source": [
        "num_final = int(input('Digite um número entre 1 e 200: '))\n",
        "\n",
        "num = 0\n",
        "div = 0\n",
        "cont = 0\n",
        "\n",
        "while num < num_final:\n",
        "  num += 1\n",
        "  div = 0\n",
        "  cont = 0\n",
        "  while cont <= num:\n",
        "    cont += 1\n",
        "    if num%cont ==0:\n",
        "      div += 1\n",
        "    else:\n",
        "      continue\n",
        "  if div == 2:\n",
        "    print(f'{num} é primo')\n"
      ]
    },
    {
      "cell_type": "markdown",
      "metadata": {
        "id": "wgs0r3yPyO5V"
      },
      "source": [
        "__2.2)__ Desenvolva o código na versão _for_ (1 ponto)"
      ]
    },
    {
      "cell_type": "code",
      "execution_count": 44,
      "metadata": {
        "id": "orPwd0exyO5V",
        "colab": {
          "base_uri": "https://localhost:8080/"
        },
        "outputId": "cd7b132d-5aae-486f-d4ea-d6f5a76999d2"
      },
      "outputs": [
        {
          "output_type": "stream",
          "name": "stdout",
          "text": [
            "Digite um número entre 1 e 200: 18\n",
            "2 é primo\n",
            "3 é primo\n",
            "5 é primo\n",
            "7 é primo\n",
            "11 é primo\n",
            "13 é primo\n",
            "17 é primo\n"
          ]
        }
      ],
      "source": [
        "num = int(input('Digite um número entre 1 e 200: '))\n",
        "\n",
        "for elementos in range(1,num+1):\n",
        "  div = 0\n",
        "  for elemento in range(1, elementos+1):\n",
        "    if elementos%elemento == 0:\n",
        "      div += 1\n",
        "    else:\n",
        "      continue\n",
        "  if div == 2:\n",
        "    print(f'{elemento} é primo')"
      ]
    },
    {
      "cell_type": "markdown",
      "metadata": {
        "id": "nYmYoCYRyO5V"
      },
      "source": [
        "## "
      ]
    },
    {
      "cell_type": "markdown",
      "metadata": {
        "id": "mfo_CQFQ7hdP"
      },
      "source": [
        "__3)__ (2 pontos) Bibliotecas ou módulos são arquivos contendo algumas funções e outros componentes de código já prontos para serem reutilizados. A linguagem Python já possui diversos módulos pré-instalados, e podemos utilizá-los através do comando import.\n",
        "\n",
        "Ao incluir a linha abaixo (preferencialmente no topo do programa) podemos acessar as funções do módulo random, que permitem lidar com números aleatórios:\n",
        "\n",
        "```python\n",
        "import random\n",
        "```\n",
        "\n",
        "Tendo importado esse módulo em nosso programa, é possível sortear números aleatórios através da função randint. No exemplo abaixo, um número aleatório entre 1 e 100 é salvo na variável \"sorteio\":\n",
        "\n",
        "```python\n",
        "sorteio = random.randint(1, 100)\n",
        "```\n",
        "\n",
        "Faça um programa que sorteia um número aleatório entre 1 e 100. Ele deve pedir para o usuário adivinhar o número até que ele acerte.\n",
        "\n",
        "Quando o usuário finalmente acertar, exiba a mensagem \"Você venceu!\" e pergunte se ele gostaria de jogar novamente. Caso ele digite \"sim\", sorteie um novo número e torne a pedir que ele adivinhe.\n",
        "\n",
        "Ideia de como estruturar o código:\n",
        "\n",
        "```python\n",
        "while jogar_de_novo == 'sim':\n",
        "  while tentativas < 10:\n",
        "    ...\n",
        "    ...\n",
        "    ...\n",
        "    if chute == sorteio:\n",
        "      break\n",
        "\n",
        "    jogar_de_novo = input('Jogar de novo? ')\n",
        "```"
      ]
    },
    {
      "cell_type": "code",
      "execution_count": 43,
      "metadata": {
        "id": "JQ-r0ntz7hdQ",
        "colab": {
          "base_uri": "https://localhost:8080/",
          "height": 553
        },
        "outputId": "99189cf8-26dd-42a8-f5ec-18aed7b07b89"
      },
      "outputs": [
        {
          "output_type": "stream",
          "name": "stdout",
          "text": [
            "Adivinhe o número secreto: 36\n",
            "Errou\n",
            "Adivinhe o número secreto: 12\n",
            "Errou\n",
            "Adivinhe o número secreto: 7\n",
            "Errou\n",
            "Adivinhe o número secreto: 6\n",
            "Errou\n",
            "Adivinhe o número secreto: 59\n",
            "Errou\n"
          ]
        },
        {
          "output_type": "error",
          "ename": "KeyboardInterrupt",
          "evalue": "ignored",
          "traceback": [
            "\u001b[0;31m---------------------------------------------------------------------------\u001b[0m",
            "\u001b[0;31mKeyboardInterrupt\u001b[0m                         Traceback (most recent call last)",
            "\u001b[0;32m<ipython-input-43-bd71d3a529c5>\u001b[0m in \u001b[0;36m<module>\u001b[0;34m\u001b[0m\n\u001b[1;32m      6\u001b[0m \u001b[0;32mwhile\u001b[0m \u001b[0;32mTrue\u001b[0m\u001b[0;34m:\u001b[0m\u001b[0;34m\u001b[0m\u001b[0;34m\u001b[0m\u001b[0m\n\u001b[1;32m      7\u001b[0m   \u001b[0macertou\u001b[0m \u001b[0;34m=\u001b[0m \u001b[0;32mFalse\u001b[0m\u001b[0;34m\u001b[0m\u001b[0;34m\u001b[0m\u001b[0m\n\u001b[0;32m----> 8\u001b[0;31m   \u001b[0mtentativa\u001b[0m \u001b[0;34m=\u001b[0m \u001b[0mint\u001b[0m\u001b[0;34m(\u001b[0m\u001b[0minput\u001b[0m\u001b[0;34m(\u001b[0m\u001b[0;34m'Adivinhe o número secreto: '\u001b[0m\u001b[0;34m)\u001b[0m\u001b[0;34m)\u001b[0m\u001b[0;34m\u001b[0m\u001b[0;34m\u001b[0m\u001b[0m\n\u001b[0m\u001b[1;32m      9\u001b[0m   \u001b[0;32mif\u001b[0m \u001b[0mtentativa\u001b[0m \u001b[0;34m==\u001b[0m \u001b[0msorteio\u001b[0m\u001b[0;34m:\u001b[0m\u001b[0;34m\u001b[0m\u001b[0;34m\u001b[0m\u001b[0m\n\u001b[1;32m     10\u001b[0m     \u001b[0macertou\u001b[0m \u001b[0;34m=\u001b[0m \u001b[0;32mTrue\u001b[0m\u001b[0;34m\u001b[0m\u001b[0;34m\u001b[0m\u001b[0m\n",
            "\u001b[0;32m/usr/local/lib/python3.8/dist-packages/ipykernel/kernelbase.py\u001b[0m in \u001b[0;36mraw_input\u001b[0;34m(self, prompt)\u001b[0m\n\u001b[1;32m    858\u001b[0m                 \u001b[0;34m\"raw_input was called, but this frontend does not support input requests.\"\u001b[0m\u001b[0;34m\u001b[0m\u001b[0;34m\u001b[0m\u001b[0m\n\u001b[1;32m    859\u001b[0m             )\n\u001b[0;32m--> 860\u001b[0;31m         return self._input_request(str(prompt),\n\u001b[0m\u001b[1;32m    861\u001b[0m             \u001b[0mself\u001b[0m\u001b[0;34m.\u001b[0m\u001b[0m_parent_ident\u001b[0m\u001b[0;34m,\u001b[0m\u001b[0;34m\u001b[0m\u001b[0;34m\u001b[0m\u001b[0m\n\u001b[1;32m    862\u001b[0m             \u001b[0mself\u001b[0m\u001b[0;34m.\u001b[0m\u001b[0m_parent_header\u001b[0m\u001b[0;34m,\u001b[0m\u001b[0;34m\u001b[0m\u001b[0;34m\u001b[0m\u001b[0m\n",
            "\u001b[0;32m/usr/local/lib/python3.8/dist-packages/ipykernel/kernelbase.py\u001b[0m in \u001b[0;36m_input_request\u001b[0;34m(self, prompt, ident, parent, password)\u001b[0m\n\u001b[1;32m    902\u001b[0m             \u001b[0;32mexcept\u001b[0m \u001b[0mKeyboardInterrupt\u001b[0m\u001b[0;34m:\u001b[0m\u001b[0;34m\u001b[0m\u001b[0;34m\u001b[0m\u001b[0m\n\u001b[1;32m    903\u001b[0m                 \u001b[0;31m# re-raise KeyboardInterrupt, to truncate traceback\u001b[0m\u001b[0;34m\u001b[0m\u001b[0;34m\u001b[0m\u001b[0;34m\u001b[0m\u001b[0m\n\u001b[0;32m--> 904\u001b[0;31m                 \u001b[0;32mraise\u001b[0m \u001b[0mKeyboardInterrupt\u001b[0m\u001b[0;34m(\u001b[0m\u001b[0;34m\"Interrupted by user\"\u001b[0m\u001b[0;34m)\u001b[0m \u001b[0;32mfrom\u001b[0m \u001b[0;32mNone\u001b[0m\u001b[0;34m\u001b[0m\u001b[0;34m\u001b[0m\u001b[0m\n\u001b[0m\u001b[1;32m    905\u001b[0m             \u001b[0;32mexcept\u001b[0m \u001b[0mException\u001b[0m \u001b[0;32mas\u001b[0m \u001b[0me\u001b[0m\u001b[0;34m:\u001b[0m\u001b[0;34m\u001b[0m\u001b[0;34m\u001b[0m\u001b[0m\n\u001b[1;32m    906\u001b[0m                 \u001b[0mself\u001b[0m\u001b[0;34m.\u001b[0m\u001b[0mlog\u001b[0m\u001b[0;34m.\u001b[0m\u001b[0mwarning\u001b[0m\u001b[0;34m(\u001b[0m\u001b[0;34m\"Invalid Message:\"\u001b[0m\u001b[0;34m,\u001b[0m \u001b[0mexc_info\u001b[0m\u001b[0;34m=\u001b[0m\u001b[0;32mTrue\u001b[0m\u001b[0;34m)\u001b[0m\u001b[0;34m\u001b[0m\u001b[0;34m\u001b[0m\u001b[0m\n",
            "\u001b[0;31mKeyboardInterrupt\u001b[0m: Interrupted by user"
          ]
        }
      ],
      "source": [
        "import random\n",
        "\n",
        "sorteio = random.randint(1, 100)\n",
        "#print(sorteio)\n",
        "\n",
        "while True:\n",
        "  acertou = False\n",
        "  tentativa = int(input('Adivinhe o número secreto: '))\n",
        "  if tentativa == sorteio:\n",
        "    acertou = True\n",
        "    print('Acertou')\n",
        "    resp = input('Deseja jogar novamente? (S/N) ')\n",
        "    if resp == 'S' or resp == 's':\n",
        "      sorteio = random.randint(1, 100)\n",
        "      #print(sorteio)\n",
        "      continue\n",
        "    if resp =='N' or resp == 'n':\n",
        "      break\n",
        "  print('Errou')\n",
        "    "
      ]
    },
    {
      "cell_type": "markdown",
      "metadata": {
        "id": "mdAkkVKtyO5V"
      },
      "source": [
        "__4)__ Desenvolva um programa que recebe como _input_ do usuário dois números inteiros e o retorno do programa será o __mínimo multiplicador comum__ (MMC). Exemplo, o MMC entre 10 e 12, onde $ 10 = 2 * 5$ e $12 = 2 * 2 * 3$, o MMC vai ser o número oriundo da multiplicação entre $ 2 * 2 * 3 * 5 = 60$"
      ]
    },
    {
      "cell_type": "markdown",
      "metadata": {
        "id": "WG28eaCwyO5V"
      },
      "source": [
        "__4.1)__ Desenvolva o código na versão _while_ (1 ponto)"
      ]
    },
    {
      "cell_type": "code",
      "execution_count": 42,
      "metadata": {
        "id": "lSSImL7XyO5W",
        "colab": {
          "base_uri": "https://localhost:8080/"
        },
        "outputId": "4140067c-8b12-4467-c8d2-b069eb61ed21"
      },
      "outputs": [
        {
          "output_type": "stream",
          "name": "stdout",
          "text": [
            "Digite o primeiro número: 20\n",
            "Digite o segundo número: 75\n",
            "O MMC entre os números 20 e 75 é 300\n"
          ]
        }
      ],
      "source": [
        "num1 = int(input('Digite o primeiro número: '))\n",
        "num2 = int(input('Digite o segundo número: '))\n",
        "\n",
        "if num1 > num2:\n",
        "  num_max = num1\n",
        "else:\n",
        "  num_max = num2\n",
        "\n",
        "while True:\n",
        "  if num_max % num1 == 0 and num_max % num2 == 0:\n",
        "    mmc = num_max\n",
        "    break\n",
        "  num_max += 1\n",
        "\n",
        "print(f'O MMC entre os números {num1} e {num2} é {mmc}')"
      ]
    },
    {
      "cell_type": "markdown",
      "metadata": {
        "id": "ixyaocFoyO5W"
      },
      "source": [
        "__4.2)__ Desenvolva o código na versão _for_ (1 ponto)"
      ]
    },
    {
      "cell_type": "code",
      "execution_count": 41,
      "metadata": {
        "id": "wazAHokvyO5W",
        "colab": {
          "base_uri": "https://localhost:8080/"
        },
        "outputId": "5ca51366-a323-4ac8-921e-2c550a7302d8"
      },
      "outputs": [
        {
          "output_type": "stream",
          "name": "stdout",
          "text": [
            "Digite o primeiro número: 71\n",
            "Digite o segundo número: 96\n",
            "O MMC entre os números 71 e 96 é 6816\n"
          ]
        }
      ],
      "source": [
        "num1 = int(input('Digite o primeiro número: '))\n",
        "num2 = int(input('Digite o segundo número: '))\n",
        "\n",
        "if num1 > num2:\n",
        "  num_max = num1\n",
        "else:\n",
        "  num_max = num2\n",
        "\n",
        "for numero in range(1, (num1*num2)+1):\n",
        "  if (numero % num1 == 0) and (numero % num2 == 0):\n",
        "    mmc = numero\n",
        "    break\n",
        "  else:\n",
        "    continue\n",
        "\n",
        "print(f'O MMC entre os números {num1} e {num2} é {mmc}')"
      ]
    },
    {
      "cell_type": "markdown",
      "metadata": {
        "id": "pkHnNY5RyO5W"
      },
      "source": [
        "__5)__ (2 pontos) Desenvolva um código onde o usuário irá indicar um número inteiro $n$ e o seu código deve devolver o n-ésimo termo da sequência de Fibonacci. A sequência de Fibonacci é definida com o termo $a_1 = 1$ e $a_2 = 1$ e o termo seguinte é a soma dos dois anteriores, então por exemplo $a_3 = a_1 + a_2 = 2$."
      ]
    },
    {
      "cell_type": "code",
      "execution_count": null,
      "metadata": {
        "id": "aTfl-qIzyO5W"
      },
      "outputs": [],
      "source": [
        "# Exemplo o usuário colocou o valor 7\n",
        "# sequencia de fibonacci = 1 1 2 3 5 8 13\n",
        "# devolver o valor 13 que é o sexto da sequência"
      ]
    },
    {
      "cell_type": "code",
      "execution_count": 50,
      "metadata": {
        "id": "2u8NhwxkyO5W",
        "colab": {
          "base_uri": "https://localhost:8080/"
        },
        "outputId": "22667717-8749-4160-81c5-3a50592cdd0d"
      },
      "outputs": [
        {
          "output_type": "stream",
          "name": "stdout",
          "text": [
            "Quantos termos n desejas ver?: 7\n",
            "1 1 2 3 5 8 13 \n",
            "O n-ésimo termo da sequência é 13\n"
          ]
        }
      ],
      "source": [
        "n = int(input('Quantos termos n desejas ver?: '))\n",
        "t0 = 1\n",
        "t1 = 1\n",
        "tn = 0\n",
        "print(t0, t1, end=' ')\n",
        "\n",
        "for i in range(2, n):\n",
        "  tn = t0 + t1\n",
        "  print(tn, end=' ')\n",
        "  t0 = t1\n",
        "  t1 = tn\n",
        "\n",
        "print(f'\\nO n-ésimo termo da sequência é {tn}')"
      ]
    }
  ],
  "metadata": {
    "colab": {
      "provenance": []
    },
    "kernelspec": {
      "display_name": "Python 3 (ipykernel)",
      "language": "python",
      "name": "python3"
    },
    "language_info": {
      "codemirror_mode": {
        "name": "ipython",
        "version": 3
      },
      "file_extension": ".py",
      "mimetype": "text/x-python",
      "name": "python",
      "nbconvert_exporter": "python",
      "pygments_lexer": "ipython3",
      "version": "3.9.12"
    }
  },
  "nbformat": 4,
  "nbformat_minor": 0
}