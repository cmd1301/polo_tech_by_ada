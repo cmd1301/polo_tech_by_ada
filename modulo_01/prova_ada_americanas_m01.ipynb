{
  "cells": [
    {
      "cell_type": "markdown",
      "id": "b3debb91",
      "metadata": {
        "id": "b3debb91"
      },
      "source": [
        "## Prova"
      ]
    },
    {
      "cell_type": "markdown",
      "id": "1f00fc89",
      "metadata": {
        "id": "1f00fc89"
      },
      "source": [
        "__1) Cadastro de uma Empresa__ (3 pontos)\n",
        "\n",
        "Uma empresa de tecnologia teve problemas com o armazenamento das informações dos funcionários. Dessa forma, a empresa solicitou a você criar um formulário onde registre algumas das principais informações sobre o usuário como:\n",
        "\n",
        "- Nome Completo\n",
        "- Idade\n",
        "- Estado\n",
        "- Setor de Atuação (Dados, Engenharia, Dev, UX)\n",
        "- Tempo de Empresa\n",
        "- Salário\n",
        "\n",
        "Crie uma função chamada `formulario`, onde o objetivo dela é pedir essas informações como _inputs_ do Usuário (a função não vai receber parâmetros, apenas os _inputs_) (1 ponto)"
      ]
    },
    {
      "cell_type": "code",
      "execution_count": 102,
      "id": "7d218411",
      "metadata": {
        "id": "7d218411"
      },
      "outputs": [],
      "source": [
        "def formulario():\n",
        "  valores = []\n",
        "  nome = input('Digite o nome completo: ')\n",
        "  valores.append(nome)\n",
        "  idade = input('Digite a idade: ')\n",
        "  valores.append(idade)\n",
        "  estado = input('Digite o estado federativo: ')\n",
        "  valores.append(estado)\n",
        "  setor = input('Digite o setor de atuação: ')\n",
        "  valores.append(setor)\n",
        "  tempo_empresa = input('Digite o tempo de empresa em anos: ')\n",
        "  valores.append(tempo_empresa)\n",
        "  salario = input('Digite o salário: ')\n",
        "  valores.append(salario)\n",
        "  return valores"
      ]
    },
    {
      "cell_type": "code",
      "execution_count": 101,
      "id": "04d0cb39",
      "metadata": {
        "colab": {
          "base_uri": "https://localhost:8080/"
        },
        "id": "04d0cb39",
        "outputId": "001914bb-20af-4ca9-bf0d-045165ced61c"
      },
      "outputs": [
        {
          "name": "stdout",
          "output_type": "stream",
          "text": [
            "Digite o nome completo: as\n",
            "Digite a idade: as\n",
            "Digite o estado federativo: as\n",
            "Digite o setor de atuação: as\n",
            "Digite o tempo de empresa em anos: as\n",
            "Digite o salário: as\n"
          ]
        },
        {
          "output_type": "execute_result",
          "data": {
            "text/plain": [
              "{'nome': ['as'],\n",
              " 'idade': ['as'],\n",
              " 'estado': ['as'],\n",
              " 'setor': ['as'],\n",
              " 'tempo_empresa': ['as'],\n",
              " 'salario': ['as']}"
            ]
          },
          "metadata": {},
          "execution_count": 101
        }
      ],
      "source": [
        "formulario()"
      ]
    },
    {
      "cell_type": "code",
      "execution_count": null,
      "id": "6fec3a9d",
      "metadata": {
        "id": "6fec3a9d"
      },
      "outputs": [],
      "source": []
    },
    {
      "cell_type": "markdown",
      "id": "b3ffccd8",
      "metadata": {
        "id": "b3ffccd8"
      },
      "source": [
        "Após criar a função `formulario`, crie uma função chamada de `armazenamento` onde essa função chamada a função `formulario` para receber os _inputs_ e depois armazena essas informações em um dicionário pré-criado (este dicionário deve servir de parâmetro para a função armazenamento) (1 ponto)"
      ]
    },
    {
      "cell_type": "code",
      "execution_count": 120,
      "id": "f94b7a69",
      "metadata": {
        "id": "f94b7a69"
      },
      "outputs": [],
      "source": [
        "def armazenamento(dicionario):\n",
        "  valores = formulario()\n",
        "  for chave, valor in zip(chaves, valores):\n",
        "    dicionario[chave].append(valor)\n",
        "  return dicionario"
      ]
    },
    {
      "cell_type": "code",
      "execution_count": 124,
      "id": "4b073e4a",
      "metadata": {
        "colab": {
          "base_uri": "https://localhost:8080/"
        },
        "id": "4b073e4a",
        "outputId": "4ece31dd-64eb-4371-e587-491fa656e293"
      },
      "outputs": [
        {
          "output_type": "execute_result",
          "data": {
            "text/plain": [
              "{'nome': [],\n",
              " 'idade': [],\n",
              " 'estado': [],\n",
              " 'setor': [],\n",
              " 'tempo_empresa': [],\n",
              " 'salario': []}"
            ]
          },
          "metadata": {},
          "execution_count": 124
        }
      ],
      "source": [
        "#Dicionário pré-criado\n",
        "\n",
        "dict_pre = {}\n",
        "chaves = ['nome', 'idade', 'estado', 'setor', 'tempo_empresa', 'salario']\n",
        "for chave in chaves:\n",
        "  dict_pre[chave] = []\n",
        "dict_pre"
      ]
    },
    {
      "cell_type": "markdown",
      "id": "a7b7216f",
      "metadata": {
        "id": "a7b7216f"
      },
      "source": [
        "Gere o dicionário com o registro de 4 funcionários (crie os dados dos funcionários!) (1 ponto)"
      ]
    },
    {
      "cell_type": "code",
      "execution_count": 126,
      "id": "a0a9835b",
      "metadata": {
        "colab": {
          "base_uri": "https://localhost:8080/"
        },
        "id": "a0a9835b",
        "outputId": "b21b69a9-cf4c-432c-a7a2-50c7dceabcc0"
      },
      "outputs": [
        {
          "output_type": "stream",
          "name": "stdout",
          "text": [
            "Digite o nome completo: Carlos Dias\n",
            "Digite a idade: 27\n",
            "Digite o estado federativo: MG\n",
            "Digite o setor de atuação: Dados\n",
            "Digite o tempo de empresa em anos: 2\n",
            "Digite o salário: 3000\n",
            "Próximo\n",
            "Digite o nome completo: Buffy Summers\n",
            "Digite a idade: 17\n",
            "Digite o estado federativo: CA\n",
            "Digite o setor de atuação: Caça-Vampiros\n",
            "Digite o tempo de empresa em anos: 2\n",
            "Digite o salário: 2000\n",
            "Próximo\n",
            "Digite o nome completo: Rupert Giles\n",
            "Digite a idade: 50\n",
            "Digite o estado federativo: CA\n",
            "Digite o setor de atuação: Vigilante\n",
            "Digite o tempo de empresa em anos: 40\n",
            "Digite o salário: 30000\n",
            "Próximo\n",
            "Digite o nome completo: Angel\n",
            "Digite a idade: 200\n",
            "Digite o estado federativo: CA\n",
            "Digite o setor de atuação: Morto\n",
            "Digite o tempo de empresa em anos: 180\n",
            "Digite o salário: 90000\n",
            "Próximo\n",
            "Digite o nome completo: na\n",
            "Digite a idade: na\n",
            "Digite o estado federativo: na\n",
            "Digite o setor de atuação: na\n",
            "Digite o tempo de empresa em anos: na\n",
            "Digite o salário: na\n",
            "Próximo\n"
          ]
        },
        {
          "output_type": "execute_result",
          "data": {
            "text/plain": [
              "{'nome': ['Carlos Dias', 'Buffy Summers', 'Rupert Giles', 'Angel', 'na'],\n",
              " 'idade': ['27', '17', '50', '200', 'na'],\n",
              " 'estado': ['MG', 'CA', 'CA', 'CA', 'na'],\n",
              " 'setor': ['Dados', 'Caça-Vampiros', 'Vigilante', 'Morto', 'na'],\n",
              " 'tempo_empresa': ['2', '2', '40', '180', 'na'],\n",
              " 'salario': ['3000', '2000', '30000', '90000', 'na']}"
            ]
          },
          "metadata": {},
          "execution_count": 126
        }
      ],
      "source": [
        "#Gerando registros de funcionários\n",
        "\n",
        "numero_funcionario = 1\n",
        "cadastramentos = 4\n",
        "while numero_funcionario <= cadastramentos:\n",
        "  armazenamento(dict_pre)\n",
        "  print('Próximo')\n",
        "  numero_funcionario += 1\n",
        "\n",
        "dict_pre"
      ]
    },
    {
      "cell_type": "code",
      "execution_count": null,
      "id": "56bcfba5",
      "metadata": {
        "id": "56bcfba5"
      },
      "outputs": [],
      "source": []
    },
    {
      "cell_type": "code",
      "execution_count": null,
      "id": "9f82aa19",
      "metadata": {
        "id": "9f82aa19"
      },
      "outputs": [],
      "source": []
    },
    {
      "cell_type": "markdown",
      "id": "03051e48",
      "metadata": {
        "id": "03051e48"
      },
      "source": [
        "__2) Holerite - INSS__ (1 ponto)\n",
        "\n",
        "Para quem trabalha com carteira assinada é extremamente importante que saba como funciona as contribuições sobre o salário para o INSS e o IRRF (imposto de renda). No caso para o cálculo do INSS temos como referência a tabela abaixo:\n",
        "\n",
        "<br>\n",
        "\n",
        "|    **Salário (R$)**    | **% de Contribuição na faixa** |\n",
        "|:----------------------:|:------------------------------:|\n",
        "|      Até 1.212,00      |              7,5%              |\n",
        "| de 1.212,01 a 2.427,35 |              9,0%              |\n",
        "| de 2.427,36 a 3.641,03 |               12%              |\n",
        "| de 3.641,04 a 7.087,22 |               !4%              |\n",
        "\n",
        "<br>\n",
        "\n",
        "Mas note que o cálculo é um pouco mais complexo devido a ser __calculada sobre a faixa__, conforme alguns exemplos:\n",
        "\n",
        "- Exemplo  1 - Salário R$ 1.100,00\n",
        "\n",
        "$$ INSS = 7,5\\% * 1.100,00 = R\\$ 82,50 $$\n",
        "\n",
        "<br>\n",
        "\n",
        "- Exemplo  2 - Salário R$ 3.500,00:\n",
        "\n",
        "Como este salário encontra-se na 3 faixa, a contribuição será igual ao teto da 1ª faixa + teto da 2ª faixa + diferença na 3ª faixa, conforme o exemplo:\n",
        "\n",
        "$$ INSS = max(1ª faixa) + max(2ª faixa) + diff(3ª faixa) = 7,5\\% * (1.212,00 - 0,00) + 9,0\\% * (2.427,35 - 1.212,01) + 12\\% * (3.500,00 - 2.427,36) = 90,90 + 109,38 + 128,72 = R\\$ 328,98 $$\n",
        "\n",
        "- Exemplo 3 - Salário R$ 10.000,00\n",
        "\n",
        "Note que para salários maiores que R$ 7.082,22, o valor da contribuição será igual ao teto de todas as faixas:\n",
        "\n",
        "$$ INSS = max(1ª faixa) + max(2ª faixa) + max(3ª faixa) + max(4ª faixa) = 7,5\\% * (1.212,00 - 0,00) + 9,0\\% * (2.427,35 - 1.212,01) + 12\\% * (3.641,03 - 2.427,36) + 14\\% * (7.087,22 - 3.641,04) = 90,90 + 109,38 + 145,64 + 482,47 = R\\$ 828,39 $$\n",
        "\n",
        "O objetivo deste exercício e montar uma função nomeada como `inss` que dado o valor do salário devolva qual vai ser a contribuição salarial para o INSS.  (1 ponto)"
      ]
    },
    {
      "cell_type": "code",
      "execution_count": 44,
      "id": "c940ba92",
      "metadata": {
        "id": "c940ba92"
      },
      "outputs": [],
      "source": [
        "def inss(salario):\n",
        "  if salario <= 1210.00:\n",
        "    contribuicao = float(salario)*0.075\n",
        "    return contribuicao\n",
        "  elif salario > 1210.00 and salario <= 2427.35:\n",
        "    contribuicao = 1212.00*0.075 + (salario - 1212.01)*0.09\n",
        "    return contribuicao\n",
        "  elif salario > 2427.35 and salario <= 3641.03:\n",
        "    contribuicao = 1212.00*0.075 + (2427.35 - 1212.01)*0.09 + (salario - 2427.36)*0.12\n",
        "    return contribuicao\n",
        "  else:\n",
        "    contribuicao = 1212.00*0.075 + (2427.35 - 1212.01)*0.09 + (3641.03 - 2427.36)*0.12 + (7087.22 - 3641.04)*0.14\n",
        "    return contribuicao"
      ]
    },
    {
      "cell_type": "code",
      "execution_count": 43,
      "id": "b5b0cb45",
      "metadata": {
        "colab": {
          "base_uri": "https://localhost:8080/"
        },
        "id": "b5b0cb45",
        "outputId": "98d330da-c15d-4758-c1e7-82d15386c4ab"
      },
      "outputs": [
        {
          "output_type": "execute_result",
          "data": {
            "text/plain": [
              "827.6862000000001"
            ]
          },
          "metadata": {},
          "execution_count": 43
        }
      ],
      "source": [
        "inss(10000)"
      ]
    },
    {
      "cell_type": "code",
      "execution_count": null,
      "id": "58a58e3d",
      "metadata": {
        "id": "58a58e3d"
      },
      "outputs": [],
      "source": []
    },
    {
      "cell_type": "markdown",
      "id": "af01ce84",
      "metadata": {
        "id": "af01ce84"
      },
      "source": [
        "__3) Holerite - IRRF__ (1 ponto)\n",
        "\n",
        "Para quem trabalha com carteira assinada é extremamente importante que saba como funciona as contribuições sobre o salário para o INSS e o IRRF (imposto de renda). Após conhecer como que funciona a contribuição ao INSS, agora vamos desenvolver algo em relação ao imposto de renda (IRRF). Par este cálculo também precisaremos de uma tabela de referência:\n",
        "\n",
        "<br>\n",
        "\n",
        "|       **Salário**      | **% de Contribuição** | **Desconto** |\n",
        "|:----------------------:|:---------------------:|:------------:|\n",
        "|      Até 1.903,98      |           0%          |     0,00     |\n",
        "| de 1.903,99 a 2.826,65 |         7,50%         |    142,80    |\n",
        "| de 2.826,66 a 3.751,05 |         15,00%        |    354,80    |\n",
        "| de 3.751,06 a 4.664,68 |         22,50%        |    636,13    |\n",
        "|    Acima de 4.664,68   |         27,50%        |    869,36    |\n",
        "\n",
        "<br>\n",
        "\n",
        "No caso do imposto de renda, a regra é um pouco diferente pois o percentual é calculado encima de todo o salário bruto menos alguns descontos, diferente do INSS que tinha contribuição por faixas. Além disso, no caso no imposto de renda a pessoa pode declarar dependentes e a cada dependente declarado recebe um desconto de 189,59. Para definir de fato o salário a ser considerado imposto deve descontar __o valor do INSS__ e o desconto de __dependentes__. Conforme os exemplos a seguir:\n",
        "\n",
        "\n",
        "##### Exemplo  1 - Salário 1.100,00 - nenhum dependente\n",
        "\n",
        "- Salário Bruto: 1.100,00\n",
        "- INSS: 82,50\n",
        "- Dependentes: 0,00\n",
        "- Salário considerado no IRRF = 1100 - 82,50 - 0 = 1.017,50\n",
        "\n",
        "- Faixa do IRRF - Primeira Faixa\n",
        "- Contribuição IRRF: 0,00\n",
        "- Salário Líquido: 1100 - 82,50 = 1.017,50\n",
        "\n",
        "<br>\n",
        "\n",
        "##### Exemplo  2 - Salário 3.500,00 - 1 dependente\n",
        "\n",
        "- Salário Bruto: 3.500,00\n",
        "- INSS: 328,98\n",
        "- Dependentes: 1*189,59 = 189,59\n",
        "- Salário considerado no IRRF = 3500 - 328,98 - 189,59 = 2.981,43\n",
        "\n",
        "- Faixa do IRRF - Terceira Faixa (15%)\n",
        "- Contribuição IRRF: 0.15*2981,43 - 354,80 = 92,41\n",
        "- Salário Líquido: 3500 - 328,92 - 92,41 = 3.078,67\n",
        "\n",
        "<br>\n",
        "\n",
        "##### Exemplo  3 - Salário 10.000,00 - 3 dependentes\n",
        "\n",
        "- Salário Bruto: 10.000,00\n",
        "- INSS: 828,39\n",
        "- Dependentes: 3*189,59 = 568,77\n",
        "- Salário considerado no IRRF = 10000 - 828,39 - 568,77 = 8.602,84\n",
        "\n",
        "- Faixa do IRRF - Última faixa (27,5%)\n",
        "- Contribuição IRRF: 0.275*8602,84 - 869,36 = 1.496,42\n",
        "- Salário Líquido: 10000 - 828,39 - 1496,42 = 7.675,19\n",
        "\n",
        "De senvolva a função nomeada como `irrf` onde irá receber o salario bruto (sem o desconto do INSS) e a quantidade de dependentes que a pessoa tiver. E a função deve devolver respectivamente o __valor da contribuição de imposto__ e o __salário líquido__. (1 ponto)\n"
      ]
    },
    {
      "cell_type": "code",
      "execution_count": 27,
      "id": "54f0117e",
      "metadata": {
        "id": "54f0117e"
      },
      "outputs": [],
      "source": [
        "def irrf(salario, dependentes):\n",
        "  valor_inss = inss(salario)\n",
        "  qtd_dependentes = dependentes*189.59\n",
        "  salario_irrf = salario - valor_inss - qtd_dependentes\n",
        "  if salario_irrf <= 1903.98:\n",
        "    contribuicao = 0\n",
        "    salario_liquido = salario_irrf\n",
        "    return f'O valor da contribuição de imposto é R${contribuicao:.2f} e o salário líquido é R${salario_liquido:.2f}.'\n",
        "  elif salario_irrf > 1903.98 and salario_irrf <= 2826.65:\n",
        "    contribuicao = salario_irrf*0.075 - 142.80\n",
        "    salario_liquido = salario - valor_inss - contribuicao\n",
        "    return f'O valor da contribuição de imposto é R${contribuicao:.2f} e o salário líquido é R${salario_liquido:.2f}.'\n",
        "  elif salario_irrf > 2826.65 and salario_irrf <= 3751.05:\n",
        "    contribuicao = salario_irrf*0.15 - 354.80\n",
        "    salario_liquido = salario - valor_inss - contribuicao\n",
        "    return f'O valor da contribuição de imposto é R${contribuicao:.2f} e o salário líquido é R${salario_liquido:.2f}.'\n",
        "  elif salario_irrf > 3751.05 and salario_irrf <= 4564.68:\n",
        "    contribuicao = salario_irrf*0.225 - 636.13\n",
        "    salario_liquido = salario - valor_inss - contribuicao\n",
        "    return f'O valor da contribuição de imposto é R${contribuicao:.2f} e o salário líquido é R${salario_liquido:.2f}.'\n",
        "  else:\n",
        "    contribuicao = salario_irrf*0.275 - 869.36\n",
        "    salario_liquido = salario - valor_inss - contribuicao\n",
        "    return f'O valor da contribuição de imposto é R${contribuicao:.2f} e o salário líquido é R${salario_liquido:.2f}.'"
      ]
    },
    {
      "cell_type": "code",
      "execution_count": 29,
      "id": "af876283",
      "metadata": {
        "colab": {
          "base_uri": "https://localhost:8080/",
          "height": 36
        },
        "id": "af876283",
        "outputId": "47437f3a-b6e0-46cb-c5c7-bd1887387f3a"
      },
      "outputs": [
        {
          "output_type": "execute_result",
          "data": {
            "text/plain": [
              "'O valor da contribuição de imposto é R$1496.42 e o salário líquido é R$7675.19.'"
            ],
            "application/vnd.google.colaboratory.intrinsic+json": {
              "type": "string"
            }
          },
          "metadata": {},
          "execution_count": 29
        }
      ],
      "source": [
        "irrf(10000, 3)"
      ]
    },
    {
      "cell_type": "code",
      "execution_count": null,
      "id": "65493f22",
      "metadata": {
        "id": "65493f22"
      },
      "outputs": [],
      "source": []
    },
    {
      "cell_type": "markdown",
      "id": "11ebde57",
      "metadata": {
        "id": "11ebde57"
      },
      "source": [
        "__4) Média Harmônica__ (2 pontos)\n",
        "\n",
        "A __média harmônica__ é dada pela média de um conjunto de dados quaisquer utilizando da seguinte fórmula:\n",
        "\n",
        "$$\\frac{n}{\\frac{1}{x_1} + \\frac{1}{x_2} + \\frac{1}{x_3} + ... + \\frac{1}{x_n}}$$\n",
        "\n",
        "Note para qualquer valor de X que fique cada vez mais próximo de zero, a tendência é que a media harmônica caia rapidamente para zero.\n",
        "\n",
        "O objetvo desse exercício será dividido em duas partes partes:"
      ]
    },
    {
      "cell_type": "markdown",
      "id": "20575075",
      "metadata": {
        "id": "20575075"
      },
      "source": [
        "- Desenvolva uma função para calcular a __média aritmética__, __média geométrica__ e __média harmonica__ dado como parâmetro uma lista de números inteiros: (1 ponto)"
      ]
    },
    {
      "cell_type": "code",
      "execution_count": 32,
      "id": "b8ccaa35",
      "metadata": {
        "id": "b8ccaa35"
      },
      "outputs": [],
      "source": [
        "def media_aritmetica(numeros):\n",
        "  soma = sum(numeros)\n",
        "  return soma/len(numeros)\n",
        "\n",
        "def media_geometrica(numeros):\n",
        "  anterior = 1\n",
        "  for numero in numeros:\n",
        "    produto = numero*anterior\n",
        "    anterior = produto\n",
        "  return produto**(1/(len(numeros)))\n",
        "\n",
        "def media_harmonica(numeros):\n",
        "  soma = 0\n",
        "  for numero in numeros:\n",
        "    soma += 1/numero\n",
        "  return len(numeros)/soma"
      ]
    },
    {
      "cell_type": "code",
      "execution_count": 31,
      "id": "501534ab",
      "metadata": {
        "colab": {
          "base_uri": "https://localhost:8080/"
        },
        "id": "501534ab",
        "outputId": "541e909d-7196-4381-ca9a-41fa126ef838"
      },
      "outputs": [
        {
          "output_type": "execute_result",
          "data": {
            "text/plain": [
              "4.436619718309859"
            ]
          },
          "metadata": {},
          "execution_count": 31
        }
      ],
      "source": [
        "lista_harm = [3, 5, 7]\n",
        "media_harmonica(lista_harm)"
      ]
    },
    {
      "cell_type": "markdown",
      "id": "dea22f1c",
      "metadata": {
        "id": "dea22f1c"
      },
      "source": [
        "- Crie uma lista aleatória com 10 elementos variando eles entre 1 e 10 (utilize a biblioteca random). Após isso, avalie como cada uma das médias evolui ao longo da quntidade de elementos que utilizar. Então crie uma malha de repetição que irá calcular ambas as médias e mostrar os resultados utilizando inicialmente os dois primeiros números e ir aumentando progressivamente até utilizar todos eles: (1 ponto)"
      ]
    },
    {
      "cell_type": "code",
      "execution_count": 33,
      "id": "62285812",
      "metadata": {
        "id": "62285812"
      },
      "outputs": [],
      "source": [
        "import random"
      ]
    },
    {
      "cell_type": "code",
      "execution_count": 35,
      "id": "26b729a1",
      "metadata": {
        "colab": {
          "base_uri": "https://localhost:8080/"
        },
        "id": "26b729a1",
        "outputId": "7a534502-f89e-465c-d644-d7dcd6ee3746"
      },
      "outputs": [
        {
          "output_type": "execute_result",
          "data": {
            "text/plain": [
              "[10, 3, 2, 8, 3, 5, 6, 3, 8, 6]"
            ]
          },
          "metadata": {},
          "execution_count": 35
        }
      ],
      "source": [
        "lista_aleatoria = []\n",
        "n = 10\n",
        "\n",
        "for elemento in range(n):\n",
        "  num = random.randint(1,10)\n",
        "  lista_aleatoria.append(num)\n",
        "\n",
        "lista_aleatoria"
      ]
    },
    {
      "cell_type": "code",
      "execution_count": 36,
      "id": "7bc7b453",
      "metadata": {
        "colab": {
          "base_uri": "https://localhost:8080/"
        },
        "id": "7bc7b453",
        "outputId": "0b23b4da-f230-449d-98b0-9732d14853e2"
      },
      "outputs": [
        {
          "output_type": "stream",
          "name": "stdout",
          "text": [
            "Resultado:\n",
            "Quantidade de elementos 2\n",
            "Lista utilizada: [10, 3]\n",
            "Média Aritmética: 6.5\n",
            "Média Geométrica: 5.477225575051661\n",
            "Média Harmônica: 4.615384615384615\n",
            "****************************************************\n",
            "Resultado:\n",
            "Quantidade de elementos 3\n",
            "Lista utilizada: [10, 3, 2]\n",
            "Média Aritmética: 5.0\n",
            "Média Geométrica: 3.9148676411688634\n",
            "Média Harmônica: 3.2142857142857144\n",
            "****************************************************\n",
            "Resultado:\n",
            "Quantidade de elementos 4\n",
            "Lista utilizada: [10, 3, 2, 8]\n",
            "Média Aritmética: 5.75\n",
            "Média Geométrica: 4.680694638641432\n",
            "Média Harmônica: 3.779527559055118\n",
            "****************************************************\n",
            "Resultado:\n",
            "Quantidade de elementos 5\n",
            "Lista utilizada: [10, 3, 2, 8, 3]\n",
            "Média Aritmética: 5.2\n",
            "Média Geométrica: 4.282254736676648\n",
            "Média Harmônica: 3.5928143712574854\n",
            "****************************************************\n",
            "Resultado:\n",
            "Quantidade de elementos 6\n",
            "Lista utilizada: [10, 3, 2, 8, 3, 5]\n",
            "Média Aritmética: 5.166666666666667\n",
            "Média Geométrica: 4.394290351366486\n",
            "Média Harmônica: 3.7696335078534036\n",
            "****************************************************\n",
            "Resultado:\n",
            "Quantidade de elementos 7\n",
            "Lista utilizada: [10, 3, 2, 8, 3, 5, 6]\n",
            "Média Aritmética: 5.285714285714286\n",
            "Média Geométrica: 4.594221859043764\n",
            "Média Harmônica: 3.9810426540284363\n",
            "****************************************************\n",
            "Resultado:\n",
            "Quantidade de elementos 8\n",
            "Lista utilizada: [10, 3, 2, 8, 3, 5, 6, 3]\n",
            "Média Aritmética: 5.0\n",
            "Média Geométrica: 4.355877174692862\n",
            "Média Harmônica: 3.824701195219123\n",
            "****************************************************\n",
            "Resultado:\n",
            "Quantidade de elementos 9\n",
            "Lista utilizada: [10, 3, 2, 8, 3, 5, 6, 3, 8]\n",
            "Média Aritmética: 5.333333333333333\n",
            "Média Geométrica: 4.660264369993742\n",
            "Média Harmônica: 4.060150375939849\n",
            "****************************************************\n",
            "Resultado:\n",
            "Quantidade de elementos 10\n",
            "Lista utilizada: [10, 3, 2, 8, 3, 5, 6, 3, 8, 6]\n",
            "Média Aritmética: 5.4\n",
            "Média Geométrica: 4.779523748721262\n",
            "Média Harmônica: 4.195804195804196\n",
            "****************************************************\n"
          ]
        }
      ],
      "source": [
        "num_elementos = 2\n",
        "while num_elementos <= len(lista_aleatoria):\n",
        "  print('Resultado:')\n",
        "  print(f'Quantidade de elementos {num_elementos}')\n",
        "  lista_temp = lista_aleatoria[:(num_elementos)]\n",
        "  print(f'Lista utilizada: {lista_temp}')\n",
        "  print(f'Média Aritmética: {media_aritmetica(lista_temp)}')\n",
        "  print(f'Média Geométrica: {media_geometrica(lista_temp)}')\n",
        "  print(f'Média Harmônica: {media_harmonica(lista_temp)}')\n",
        "  print('****************************************************')\n",
        "  num_elementos += 1"
      ]
    },
    {
      "cell_type": "markdown",
      "id": "a9dc00f9",
      "metadata": {
        "id": "a9dc00f9"
      },
      "source": [
        "__5) Progressão Geométrica__ (1 ponto)\n",
        "\n",
        "A progressão geométrica (PG) é uma sequência de números onde a diferença entre dois consecutivos é sempre a mesma. Um exemplo de uma PG pode ser dado pela base de múltiplos de 2 , onde temos que (2, 4, 8, 16, ...)\n",
        "\n",
        "Uma PG segue a seguinte equação:\n",
        "\n",
        "$$ a_n = a_1 * q^{n - 1} $$\n",
        "\n",
        "onde, $ a_n$ é o n-ésimo elemento da PA, $a_1$ é o primeiro elemento da sequência, n é a quantidade de elementos considerada e $q$ a razão ou ordem de grandeza que aumenta de um elemento ao outro.\n",
        "\n",
        "O Objetivo do exercício será desenvolver uma função nomeada `progressao_geometrica` onde receberá como parâmetros $a_1$, $n$ e $q$ e a função deve devolvar o elemento $a_n$ e printar todos os elementos da PG em $a_1$ e $a_n$"
      ]
    },
    {
      "cell_type": "code",
      "execution_count": 37,
      "id": "3f1fc13a",
      "metadata": {
        "id": "3f1fc13a"
      },
      "outputs": [],
      "source": [
        "def progressao_geometrica(a1, n, q):\n",
        "  lista_pg = []\n",
        "  for elemento in range(1,n+1):\n",
        "    an = a1*(q**(elemento-1))\n",
        "    lista_pg.append(an)\n",
        "  return f'Resultado: an = {an}; Sequencia = {lista_pg}'"
      ]
    },
    {
      "cell_type": "code",
      "execution_count": 38,
      "id": "dab8dc88",
      "metadata": {
        "colab": {
          "base_uri": "https://localhost:8080/",
          "height": 36
        },
        "id": "dab8dc88",
        "outputId": "1ef26d60-1141-49da-9ce7-7d50751c32c8"
      },
      "outputs": [
        {
          "output_type": "execute_result",
          "data": {
            "text/plain": [
              "'Resultado: an = 9765625; Sequencia = [5, 25, 125, 625, 3125, 15625, 78125, 390625, 1953125, 9765625]'"
            ],
            "application/vnd.google.colaboratory.intrinsic+json": {
              "type": "string"
            }
          },
          "metadata": {},
          "execution_count": 38
        }
      ],
      "source": [
        "progressao_geometrica(5,10,5)"
      ]
    },
    {
      "cell_type": "markdown",
      "id": "c806c6d3",
      "metadata": {
        "id": "c806c6d3"
      },
      "source": [
        "__6) Conversor DNA e RNA__ (1 ponto)\n",
        "\n",
        "O código genético formado pelo DNA e RNA são compostos de alguns aminoácidos como Adenina (A), Guanina (G), Citosina (C), Timina(T) e Uracila(U). A cadeia do DNA é composto pelos aminoácidos AGCT e do RNA seria AGCU, pois ao copiar do DNA ele substitui o aminoácido Timina (T) pela Uracila (U). O objetivo deste exercício será desenvlver uma função que chamada de `tradutor_dna_to_rna` onde como entrada irá receber uma `string`com o código do DNA e deve-se devolver o código traduzido pelo RNA."
      ]
    },
    {
      "cell_type": "code",
      "execution_count": 48,
      "id": "7079323b",
      "metadata": {
        "id": "7079323b"
      },
      "outputs": [],
      "source": [
        "def tradutor_dna_to_rna(dna):\n",
        "  rna = dna.replace('T', 'U')\n",
        "  return f'O fragmento de DNA inserido, {dna}, foi traduzido para RNA como {rna}.'"
      ]
    },
    {
      "cell_type": "code",
      "execution_count": 49,
      "id": "15f28182",
      "metadata": {
        "colab": {
          "base_uri": "https://localhost:8080/",
          "height": 36
        },
        "id": "15f28182",
        "outputId": "535d8d26-8d81-43bc-fe94-ec656b9582c4"
      },
      "outputs": [
        {
          "output_type": "execute_result",
          "data": {
            "text/plain": [
              "'O fragmento de DNA inserido, ACTGGTAA, foi traduzido para RNA como ACUGGUAA.'"
            ],
            "application/vnd.google.colaboratory.intrinsic+json": {
              "type": "string"
            }
          },
          "metadata": {},
          "execution_count": 49
        }
      ],
      "source": [
        "dna = 'ACTGGTAA'\n",
        "tradutor_dna_to_rna(dna)"
      ]
    },
    {
      "cell_type": "code",
      "execution_count": null,
      "id": "1ea65394",
      "metadata": {
        "id": "1ea65394"
      },
      "outputs": [],
      "source": []
    },
    {
      "cell_type": "markdown",
      "id": "3854cfed",
      "metadata": {
        "id": "3854cfed"
      },
      "source": [
        "__7) Conversor Binario para Numero__ (2 pontos)\n",
        "\n",
        "O Sistema binário é uma representação da matemática onde a base de referência para a construção dos números é o 2 ao invés do 10 comum na base decimal. Por exemplo o binário `1001` na base decimal será igual $ 1001 = 1*2^3 + 0*2^2 + 0*2^1 + 1*2^0 = 9 $. O objetivo deste exercício é desenvolver uma função nomeada como `conversor_binario`, onde irá receber uma `string` com o número binário correspondente e a função deve devolver o respectivo número na base decimal."
      ]
    },
    {
      "cell_type": "code",
      "execution_count": 127,
      "id": "aa084073",
      "metadata": {
        "id": "aa084073"
      },
      "outputs": [],
      "source": [
        "def conversor_binario(binario):\n",
        "  decimal = 0\n",
        "  n = len(binario)\n",
        "  while n > 0:\n",
        "    for i in binario:\n",
        "      decimal += int(i)*2**(n-1)\n",
        "      #print(soma)\n",
        "      n -= 1\n",
        "  return decimal"
      ]
    },
    {
      "cell_type": "code",
      "execution_count": 128,
      "id": "23db766d",
      "metadata": {
        "colab": {
          "base_uri": "https://localhost:8080/"
        },
        "id": "23db766d",
        "outputId": "4cbf28a4-b3fa-440a-fec6-6b1b93da71dd"
      },
      "outputs": [
        {
          "output_type": "execute_result",
          "data": {
            "text/plain": [
              "1246"
            ]
          },
          "metadata": {},
          "execution_count": 128
        }
      ],
      "source": [
        "conversor_binario('10011011110')"
      ]
    }
  ],
  "metadata": {
    "kernelspec": {
      "display_name": "Python 3 (ipykernel)",
      "language": "python",
      "name": "python3"
    },
    "language_info": {
      "codemirror_mode": {
        "name": "ipython",
        "version": 3
      },
      "file_extension": ".py",
      "mimetype": "text/x-python",
      "name": "python",
      "nbconvert_exporter": "python",
      "pygments_lexer": "ipython3",
      "version": "3.9.12"
    },
    "colab": {
      "provenance": []
    }
  },
  "nbformat": 4,
  "nbformat_minor": 5
}