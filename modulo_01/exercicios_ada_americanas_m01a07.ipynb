{
  "cells": [
    {
      "cell_type": "markdown",
      "id": "17ada4d0",
      "metadata": {
        "id": "17ada4d0"
      },
      "source": [
        "## Aula 08 - Exercícios de Revisão\n",
        "\n",
        "\n",
        "A aula será exclusivamente para realizar exercícios de revisão para a prova. Vocês terão 2h para desenvolver com calma os exercícios e na hora final da aula o professor irá resolvê-los em sala.\n",
        "\n",
        "<br>"
      ]
    },
    {
      "cell_type": "markdown",
      "id": "63078723",
      "metadata": {
        "id": "63078723"
      },
      "source": [
        "## __Progressão Aritmética__"
      ]
    },
    {
      "cell_type": "markdown",
      "id": "06dd3b6e",
      "metadata": {
        "id": "06dd3b6e"
      },
      "source": [
        "A progressão aritmética (PA) é uma sequência de números onde a diferença entre dois consecutivos é sempre a mesma. Um exemplo de uma PA pode ser dada com a sequência de números impares ou pares no exemplo (1, 3, 5, 7,..) e (2, 4, 6, ...) respectivamente.\n",
        "\n",
        "Uma PA segue a seguinte equação:\n",
        "\n",
        "$$ a_n = a_1 + (n - 1)r $$\n",
        "\n",
        "onde, $ a_n$ é o n-ésimo elemento da PA, $a_1$ é o primeiro elemento da sequência, n é a quantidade de elementos considerada e $r$ a razão ou ordem de grandeza que aumenta de um elemento ao outro.\n",
        "\n",
        "O Objetivo do exercício será desenvolver uma função nomeada `progressao_aritmetica` onde receberá como parâmetros $a_1$, $n$ e $r$ e a função deve printar o elemento $a_n$ e printar todos os elementos da PA em $a_1$ e $a_n$"
      ]
    },
    {
      "cell_type": "code",
      "execution_count": null,
      "id": "df960e95",
      "metadata": {
        "id": "df960e95"
      },
      "outputs": [],
      "source": [
        "# Exemplo\n",
        "# progressao_aritmetica(a1 = 5, n = 10, r = 5)\n",
        "\n",
        "# Resultado\n",
        "# an = 50\n",
        "# Sequencia = [5, 10, 15, 20, 25, 30, 35, 40, 45, 50]"
      ]
    },
    {
      "cell_type": "code",
      "execution_count": 42,
      "id": "7014e86d",
      "metadata": {
        "id": "7014e86d"
      },
      "outputs": [],
      "source": [
        "def progressao_aritmetica(a1, n, r):\n",
        "  lista_pa = []\n",
        "  for elemento in range(1,n+1):\n",
        "    an = a1 + (elemento-1)*r\n",
        "    lista_pa.append(an)\n",
        "  return f'Resultado: an = {an}; Sequencia = {lista_pa}'"
      ]
    },
    {
      "cell_type": "code",
      "execution_count": 43,
      "id": "7ee70e84",
      "metadata": {
        "id": "7ee70e84",
        "colab": {
          "base_uri": "https://localhost:8080/",
          "height": 36
        },
        "outputId": "7a0aa227-4600-4798-9d6d-75acb8199a66"
      },
      "outputs": [
        {
          "output_type": "execute_result",
          "data": {
            "text/plain": [
              "'Resultado: an = 50; Sequencia = [5, 10, 15, 20, 25, 30, 35, 40, 45, 50]'"
            ],
            "application/vnd.google.colaboratory.intrinsic+json": {
              "type": "string"
            }
          },
          "metadata": {},
          "execution_count": 43
        }
      ],
      "source": [
        "progressao_aritmetica(5, 10, 5)"
      ]
    },
    {
      "cell_type": "markdown",
      "id": "13b1ec40",
      "metadata": {
        "id": "13b1ec40"
      },
      "source": [
        "## "
      ]
    },
    {
      "cell_type": "markdown",
      "id": "f7410e45",
      "metadata": {
        "id": "f7410e45"
      },
      "source": [
        "## Média Geométrica"
      ]
    },
    {
      "cell_type": "markdown",
      "id": "60b2fa62",
      "metadata": {
        "id": "60b2fa62"
      },
      "source": [
        "A __média geométrica__ é dada pela média de um conjunto de dados quaisquer utilizando da seguinte fórmula:\n",
        "\n",
        "$$\\sqrt[n]{x_1 * x_2 * x_3 * ... *x_n}$$\n",
        "\n",
        "Note que para a média geométrica, será necessário pelo menos um conjunto de dados com 2 elementos até $n$ elementos que queira usar.\n",
        "\n",
        "O objetvo desse exercício será dividido em algumas partes:"
      ]
    },
    {
      "cell_type": "markdown",
      "id": "c41be8bc",
      "metadata": {
        "id": "c41be8bc"
      },
      "source": [
        "- Desenvolva uma função para calcular a __média aritmética__ e outra para __média geométrica__ dado como parâmetro uma lista de números inteiros:"
      ]
    },
    {
      "cell_type": "code",
      "execution_count": 44,
      "id": "9799c797",
      "metadata": {
        "id": "9799c797"
      },
      "outputs": [],
      "source": [
        "def media_aritmetica(numeros):\n",
        "  soma = sum(numeros)\n",
        "  return soma/len(numeros)\n",
        "\n",
        "def media_geometrica(numeros):\n",
        "  anterior = 1\n",
        "  for numero in numeros:\n",
        "    produto = numero*anterior\n",
        "    anterior = produto\n",
        "  return produto**(1/(len(numeros)))"
      ]
    },
    {
      "cell_type": "code",
      "execution_count": 45,
      "id": "5056fc5f",
      "metadata": {
        "id": "5056fc5f",
        "colab": {
          "base_uri": "https://localhost:8080/"
        },
        "outputId": "f13193ec-b103-4786-867f-5ed25945f5c2"
      },
      "outputs": [
        {
          "output_type": "execute_result",
          "data": {
            "text/plain": [
              "5.0"
            ]
          },
          "metadata": {},
          "execution_count": 45
        }
      ],
      "source": [
        "lista_teste = [2, 4, 6, 8]\n",
        "media_aritmetica(lista_teste)"
      ]
    },
    {
      "cell_type": "code",
      "execution_count": 46,
      "id": "525f1fa4",
      "metadata": {
        "id": "525f1fa4",
        "colab": {
          "base_uri": "https://localhost:8080/"
        },
        "outputId": "c56d8cb0-5eea-41e3-cd59-a038495f2434"
      },
      "outputs": [
        {
          "output_type": "execute_result",
          "data": {
            "text/plain": [
              "4.426727678801286"
            ]
          },
          "metadata": {},
          "execution_count": 46
        }
      ],
      "source": [
        "media_geometrica(lista_teste)"
      ]
    },
    {
      "cell_type": "markdown",
      "id": "32700a56",
      "metadata": {
        "id": "32700a56"
      },
      "source": [
        "- Crie uma lista aleatória com 10 elementos variando eles entre 10 e 40 (utilize a biblioteca random):"
      ]
    },
    {
      "cell_type": "code",
      "execution_count": 3,
      "id": "a695c5b5",
      "metadata": {
        "id": "a695c5b5"
      },
      "outputs": [],
      "source": [
        "import random"
      ]
    },
    {
      "cell_type": "code",
      "execution_count": 47,
      "id": "71c3fca0",
      "metadata": {
        "id": "71c3fca0"
      },
      "outputs": [],
      "source": [
        "lista_aleatoria = []\n",
        "n = 10\n",
        "\n",
        "for elemento in range(n):\n",
        "  num = random.randint(10,40)\n",
        "  lista_aleatoria.append(num)"
      ]
    },
    {
      "cell_type": "code",
      "execution_count": 48,
      "id": "40dcd523",
      "metadata": {
        "id": "40dcd523",
        "colab": {
          "base_uri": "https://localhost:8080/"
        },
        "outputId": "93452845-c5a5-4d91-cd92-6646f40e4eab"
      },
      "outputs": [
        {
          "output_type": "execute_result",
          "data": {
            "text/plain": [
              "[22, 17, 33, 37, 25, 39, 10, 19, 37, 10]"
            ]
          },
          "metadata": {},
          "execution_count": 48
        }
      ],
      "source": [
        "lista_aleatoria"
      ]
    },
    {
      "cell_type": "markdown",
      "id": "3d6a043e",
      "metadata": {
        "id": "3d6a043e"
      },
      "source": [
        "- Vamos avaliar a como cada uma das médias evolui ao longo da quntidade de elementos que utilizar. Então crie uma malha de repetição que irá calcular ambas as médias e mostrar os resultados utilizando inicialmente os dois primeiros números e ir aumentando progressivamente até utilizar todos eles:"
      ]
    },
    {
      "cell_type": "code",
      "execution_count": null,
      "id": "f40b76da",
      "metadata": {
        "id": "f40b76da"
      },
      "outputs": [],
      "source": [
        "# Exemplo\n",
        "# Lista = [21, 17, 23, 35, 34, 15, 21, 36, 14, 26]\n",
        "\n",
        "# Resultado:\n",
        "#Quantidade de elementos:  2\n",
        "#Lista utilizada:  [21, 17]\n",
        "#Média Aritmética:  19.0\n",
        "#Media Geométrica:  18.894443627691185\n",
        "#----------------------------------\n",
        "#Quantidade de elementos:  3\n",
        "#Lista utilizada:  [21, 17, 23]\n",
        "#Média Aritmética:  20.333333333333332\n",
        "#Media Geométrica:  20.174309725802953\n",
        "# e assim or diante até o 10"
      ]
    },
    {
      "cell_type": "code",
      "execution_count": 49,
      "id": "8936e213",
      "metadata": {
        "id": "8936e213",
        "colab": {
          "base_uri": "https://localhost:8080/"
        },
        "outputId": "7d6cdc6e-4403-4f69-840f-e0dd687c58ac"
      },
      "outputs": [
        {
          "output_type": "stream",
          "name": "stdout",
          "text": [
            "Resultado:\n",
            "Quantidade de elementos 2\n",
            "Lista utilizada: [22, 17]\n",
            "Média Aritmética: 19.5\n",
            "Média Geométrica: 19.339079605813716\n",
            "****************************************************\n",
            "Resultado:\n",
            "Quantidade de elementos 3\n",
            "Lista utilizada: [22, 17, 33]\n",
            "Média Aritmética: 24.0\n",
            "Média Geométrica: 23.109746454048118\n",
            "****************************************************\n",
            "Resultado:\n",
            "Quantidade de elementos 4\n",
            "Lista utilizada: [22, 17, 33, 37]\n",
            "Média Aritmética: 27.25\n",
            "Média Geométrica: 25.995418680027782\n",
            "****************************************************\n",
            "Resultado:\n",
            "Quantidade de elementos 5\n",
            "Lista utilizada: [22, 17, 33, 37, 25]\n",
            "Média Aritmética: 26.8\n",
            "Média Geométrica: 25.793213618353626\n",
            "****************************************************\n",
            "Resultado:\n",
            "Quantidade de elementos 6\n",
            "Lista utilizada: [22, 17, 33, 37, 25, 39]\n",
            "Média Aritmética: 28.833333333333332\n",
            "Média Geométrica: 27.633250901768722\n",
            "****************************************************\n",
            "Resultado:\n",
            "Quantidade de elementos 7\n",
            "Lista utilizada: [22, 17, 33, 37, 25, 39, 10]\n",
            "Média Aritmética: 26.142857142857142\n",
            "Média Geométrica: 23.89847940389205\n",
            "****************************************************\n",
            "Resultado:\n",
            "Quantidade de elementos 8\n",
            "Lista utilizada: [22, 17, 33, 37, 25, 39, 10, 19]\n",
            "Média Aritmética: 25.25\n",
            "Média Geométrica: 23.22299268347332\n",
            "****************************************************\n",
            "Resultado:\n",
            "Quantidade de elementos 9\n",
            "Lista utilizada: [22, 17, 33, 37, 25, 39, 10, 19, 37]\n",
            "Média Aritmética: 26.555555555555557\n",
            "Média Geométrica: 24.45649039127814\n",
            "****************************************************\n",
            "Resultado:\n",
            "Quantidade de elementos 10\n",
            "Lista utilizada: [22, 17, 33, 37, 25, 39, 10, 19, 37, 10]\n",
            "Média Aritmética: 24.9\n",
            "Média Geométrica: 22.364269686145203\n",
            "****************************************************\n"
          ]
        }
      ],
      "source": [
        "num_elementos = 2\n",
        "while num_elementos <= len(lista_aleatoria):\n",
        "  print('Resultado:')\n",
        "  print(f'Quantidade de elementos {num_elementos}')\n",
        "  lista_temp = lista_aleatoria[:(num_elementos)]\n",
        "  print(f'Lista utilizada: {lista_temp}')\n",
        "  print(f'Média Aritmética: {media_aritmetica(lista_temp)}')\n",
        "  print(f'Média Geométrica: {media_geometrica(lista_temp)}')\n",
        "  print('****************************************************')\n",
        "  num_elementos += 1\n"
      ]
    },
    {
      "cell_type": "markdown",
      "id": "48f81750",
      "metadata": {
        "id": "48f81750"
      },
      "source": [
        "## "
      ]
    },
    {
      "cell_type": "markdown",
      "id": "cede3e34",
      "metadata": {
        "id": "cede3e34"
      },
      "source": [
        "## Frequência de Notas\n",
        "\n",
        "Após aplicar a prova para 40 alunos do módulo de técnicas de programação, o professor gostaria de avaliar qual foi a nota mais frequente e quantos alunos tiraram essa nota. Para isso, você deve desenvolver uma função nomeada `nota_mais_frequente`, onde será recebido uma __lista com 40 notas de alunos__ e a função deve retornar uma __lista__ com respectivamente a indicação de __qual é a nota mais frequente__ e o valor de __quantas vezes ocorreu essa nota__.\n",
        "\n",
        "Importante destacar que as notas são valores positivos e inteiros que variam entre 0 e 10. Além disso, caso 2 ou mais notas sejam a mais frequente, o retorno da função deve ser a __menor nota__."
      ]
    },
    {
      "cell_type": "code",
      "execution_count": 33,
      "id": "4aa43a51",
      "metadata": {
        "id": "4aa43a51"
      },
      "outputs": [],
      "source": [
        "def nota_mais_frequente(notas):\n",
        "  dict_notas = {}\n",
        "  for nota in sorted(notas):\n",
        "    dict_notas[nota] = []\n",
        "    dict_notas[nota].append(notas.count(nota))\n",
        "  print(dict_notas)\n",
        "\n",
        "  l_max_notas = []\n",
        "  numero_notas_max = 0\n",
        "  for nota, contagem in dict_notas.items():\n",
        "    if contagem == max(dict_notas.values()):\n",
        "      l_max_notas.append(nota)\n",
        "      l_max_notas.append(contagem)\n",
        "      numero_notas_max += 1\n",
        "      if numero_notas_max > 1:\n",
        "        l_max_notas = l_max_notas[:2]\n",
        "\n",
        "  return l_max_notas"
      ]
    },
    {
      "cell_type": "code",
      "execution_count": 36,
      "id": "5ceaafab",
      "metadata": {
        "id": "5ceaafab",
        "colab": {
          "base_uri": "https://localhost:8080/"
        },
        "outputId": "433a804b-85b8-4ab3-db6b-cd66a178586b"
      },
      "outputs": [
        {
          "output_type": "stream",
          "name": "stdout",
          "text": [
            "[10, 3, 8, 7, 5, 8, 10, 5, 2, 9, 6, 7, 2, 5, 2, 8, 1, 10, 9, 8, 4, 5, 2, 10, 10, 5, 1, 5, 9, 0, 5, 5, 3, 10, 10, 5, 5, 1, 5, 1]\n"
          ]
        }
      ],
      "source": [
        "l_notas = []\n",
        "for i in range(40):\n",
        "  nota = random.randint(0,10)\n",
        "  l_notas.append(nota)\n",
        "print(l_notas)"
      ]
    },
    {
      "cell_type": "code",
      "execution_count": 37,
      "id": "310d570a",
      "metadata": {
        "id": "310d570a",
        "colab": {
          "base_uri": "https://localhost:8080/"
        },
        "outputId": "e4646cdf-bc10-42a9-804a-ebc817f8b7c0"
      },
      "outputs": [
        {
          "output_type": "stream",
          "name": "stdout",
          "text": [
            "{0: [1], 1: [4], 2: [4], 3: [2], 4: [1], 5: [11], 6: [1], 7: [2], 8: [4], 9: [3], 10: [7]}\n",
            "[5, [11]]\n"
          ]
        }
      ],
      "source": [
        "print(nota_mais_frequente(l_notas))"
      ]
    },
    {
      "cell_type": "markdown",
      "id": "13151ae9",
      "metadata": {
        "id": "13151ae9"
      },
      "source": [
        "## "
      ]
    },
    {
      "cell_type": "markdown",
      "id": "ef26b258",
      "metadata": {
        "id": "ef26b258"
      },
      "source": [
        "## Palindromo"
      ]
    },
    {
      "cell_type": "markdown",
      "id": "45b191d1",
      "metadata": {
        "id": "45b191d1"
      },
      "source": [
        "Palíndromo é a característica de uma palavra ser igualmente escrita na ordem normal e reversa, como por exemplo ana e arara. O objetivo deste exercício é criar uma função nomeada `palindromo`, onde a função recebe uma lista de palavras e a saída será a __quantidade de palindromos dentro da lista__."
      ]
    },
    {
      "cell_type": "code",
      "execution_count": null,
      "id": "cb263361",
      "metadata": {
        "id": "cb263361"
      },
      "outputs": [],
      "source": [
        "lista = [\"reler\", \"reter\", \"ovo\", \"oco\", \"mirim\", \"sopapos\"]\n",
        "\n",
        "# palindromos = 6"
      ]
    },
    {
      "cell_type": "code",
      "execution_count": 81,
      "id": "0dc714ac",
      "metadata": {
        "id": "0dc714ac"
      },
      "outputs": [],
      "source": [
        "def palindromo(palavras):\n",
        "  contador = 0\n",
        "  for palavra in palavras:\n",
        "    if palavra == palavra[::-1]:\n",
        "      contador += 1\n",
        "  return contador"
      ]
    },
    {
      "cell_type": "code",
      "execution_count": 82,
      "id": "1cc052e6",
      "metadata": {
        "id": "1cc052e6",
        "colab": {
          "base_uri": "https://localhost:8080/"
        },
        "outputId": "5356c64b-6d96-4036-bdb2-91ee4b0c53b8"
      },
      "outputs": [
        {
          "output_type": "execute_result",
          "data": {
            "text/plain": [
              "7"
            ]
          },
          "metadata": {},
          "execution_count": 82
        }
      ],
      "source": [
        "l_p = [\"reler\", \"reter\", \"ovo\", \"oco\", \"mirim\", \"sopapos\", \"tenet\"]\n",
        "palindromo(l_p)"
      ]
    },
    {
      "cell_type": "markdown",
      "id": "355a9991",
      "metadata": {
        "id": "355a9991"
      },
      "source": [
        "## "
      ]
    },
    {
      "cell_type": "markdown",
      "id": "f4c1f511",
      "metadata": {
        "id": "f4c1f511"
      },
      "source": [
        "## Conversão de Número para Binário\n",
        "\n",
        "O Sistema binário é uma representação da matemática onde a base de referência para a construção dos números é o 2 ao invés do 10 comum na base decimal. Por exemplo o binário `1001` na base decimal será igual $ 1001 = 1*2^3 + 0*2^2 + 0*2^1 + 1*2^0 = 9 $. O objetivo deste exercício é desenvolver uma função nomeada como `conversor_numero`, onde irá receber um valor númerico inteiro na base decimal e converter para um valor na base binária."
      ]
    },
    {
      "cell_type": "code",
      "execution_count": null,
      "id": "eddb66ec",
      "metadata": {
        "id": "eddb66ec"
      },
      "outputs": [],
      "source": [
        "# Formula geral do binario para numero decimal\n",
        "# binario -> numero = (0 ou 1)*2^(n-1)\n",
        "# 9 |___2\n",
        "# 1  4  |___2\n",
        "#    0   2   |__ 2\n",
        "#        0    1   |__ 2\n",
        "#             1    0"
      ]
    },
    {
      "cell_type": "code",
      "execution_count": 74,
      "id": "9e31fa00",
      "metadata": {
        "id": "9e31fa00"
      },
      "outputs": [],
      "source": [
        "def conversor_numero(num):\n",
        "  binarie = ''\n",
        "  floor = num//2\n",
        "  while floor != 0:\n",
        "    resto = num%2\n",
        "    binarie += str(resto)\n",
        "    floor = num//2\n",
        "    num = floor\n",
        "  binarie = int(binarie[::-1])\n",
        "  return binarie"
      ]
    },
    {
      "cell_type": "code",
      "execution_count": 76,
      "id": "e759d94e",
      "metadata": {
        "id": "e759d94e",
        "colab": {
          "base_uri": "https://localhost:8080/"
        },
        "outputId": "a2d76895-b7b9-446c-a4fe-55cdab48415e"
      },
      "outputs": [
        {
          "output_type": "execute_result",
          "data": {
            "text/plain": [
              "10010110"
            ]
          },
          "metadata": {},
          "execution_count": 76
        }
      ],
      "source": [
        "conversor_numero(150)"
      ]
    },
    {
      "cell_type": "markdown",
      "id": "0dd5fc83",
      "metadata": {
        "id": "0dd5fc83"
      },
      "source": [
        "## "
      ]
    }
  ],
  "metadata": {
    "kernelspec": {
      "display_name": "Python 3 (ipykernel)",
      "language": "python",
      "name": "python3"
    },
    "language_info": {
      "codemirror_mode": {
        "name": "ipython",
        "version": 3
      },
      "file_extension": ".py",
      "mimetype": "text/x-python",
      "name": "python",
      "nbconvert_exporter": "python",
      "pygments_lexer": "ipython3",
      "version": "3.9.12"
    },
    "colab": {
      "provenance": []
    }
  },
  "nbformat": 4,
  "nbformat_minor": 5
}