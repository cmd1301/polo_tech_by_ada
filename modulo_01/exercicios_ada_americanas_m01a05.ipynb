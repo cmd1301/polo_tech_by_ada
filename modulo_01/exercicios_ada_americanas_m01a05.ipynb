{
  "cells": [
    {
      "cell_type": "markdown",
      "id": "02bc5165",
      "metadata": {
        "id": "02bc5165"
      },
      "source": [
        "## Aula 06 - Revisão Exercícios e Dicionários"
      ]
    },
    {
      "cell_type": "markdown",
      "id": "3f784db9",
      "metadata": {
        "id": "3f784db9"
      },
      "source": [
        "## "
      ]
    },
    {
      "cell_type": "markdown",
      "id": "9cae75f0",
      "metadata": {
        "id": "9cae75f0"
      },
      "source": [
        "## Exercícios"
      ]
    },
    {
      "cell_type": "markdown",
      "id": "3f174b0a",
      "metadata": {
        "id": "3f174b0a"
      },
      "source": [
        "__1)__ Faça um programa que receba um dicionario simples de um número associado a uma chave e retorne o dicionario inverso (onde era chave virá valor e vice-versa).\n",
        "\n",
        "Exemplos:"
      ]
    },
    {
      "cell_type": "code",
      "execution_count": null,
      "id": "3df4d01a",
      "metadata": {
        "id": "3df4d01a"
      },
      "outputs": [],
      "source": [
        "# Exemplo 1\n",
        "# dict1 = {1: 3, 2: 5, 3: 7, 4: 0}\n",
        "\n",
        "# resultado = {3: [1], 5: [2], 7: [3], 0:[4]}\n",
        "\n",
        "\n",
        "# Exemplo 2\n",
        "# dict2 = {1: 2, 2: 0, 3: 0, 4: 2}\n",
        "\n",
        "# resultado = {0: [2, 3], 2: [1, 4]} "
      ]
    },
    {
      "cell_type": "code",
      "source": [
        "def inverter_dict(dicionario):\n",
        "  dict_resultante = {}\n",
        "\n",
        "  for valor in dicionario.values():\n",
        "    dict_resultante[valor] = []\n",
        "  for chave, valor in zip(dicionario.keys(), dicionario.values()):\n",
        "    dict_resultante[valor].append(chave)\n",
        "  return dict_resultante"
      ],
      "metadata": {
        "id": "uJ02LXQLfpSF"
      },
      "id": "uJ02LXQLfpSF",
      "execution_count": null,
      "outputs": []
    },
    {
      "cell_type": "code",
      "source": [
        "dict1 = {1: 3, 2: 5, 3: 7, 4: 0}\n",
        "inverter_dict(dict1)"
      ],
      "metadata": {
        "colab": {
          "base_uri": "https://localhost:8080/"
        },
        "id": "JoJ08p7cpV3V",
        "outputId": "7acdb2c6-3da1-4e4c-912d-92086f5fcd92"
      },
      "id": "JoJ08p7cpV3V",
      "execution_count": null,
      "outputs": [
        {
          "output_type": "execute_result",
          "data": {
            "text/plain": [
              "{3: [1], 5: [2], 7: [3], 0: [4]}"
            ]
          },
          "metadata": {},
          "execution_count": 27
        }
      ]
    },
    {
      "cell_type": "code",
      "source": [
        "dict2 = {1: 2, 2: 0, 3: 0, 4: 2}\n",
        "inverter_dict(dict2)"
      ],
      "metadata": {
        "colab": {
          "base_uri": "https://localhost:8080/"
        },
        "id": "VbmgRUS_pdrb",
        "outputId": "14371b16-cd1f-4093-a282-77cda88fb0e6"
      },
      "id": "VbmgRUS_pdrb",
      "execution_count": null,
      "outputs": [
        {
          "output_type": "execute_result",
          "data": {
            "text/plain": [
              "{2: [1, 4], 0: [2, 3]}"
            ]
          },
          "metadata": {},
          "execution_count": 28
        }
      ]
    },
    {
      "cell_type": "markdown",
      "id": "ee8eddb1",
      "metadata": {
        "id": "ee8eddb1"
      },
      "source": [
        "__2)__ Desenvolva uma função que retorne uma lista com todas as chaves de um dicionário que contém o mesmo valor. Por exemplo no dicionário a seguir:\n",
        "\n",
        "<br>\n",
        "\n",
        "```python\n",
        "{'a': 3, 'b': 1, 'c': 2, 'd': 3}\n",
        "```\n",
        "\n",
        "<br>\n",
        "\n",
        "A função deve retorna os valores ['a', 'd'] caso o valor procurado seja o 3. E caso não tenha o valor procurado deve-se retornar uma lista vazia."
      ]
    },
    {
      "cell_type": "code",
      "execution_count": null,
      "id": "d74a3edf",
      "metadata": {
        "id": "d74a3edf"
      },
      "outputs": [],
      "source": [
        "def retorno_chaves(dicionario, valor):\n",
        "  lista_vazia = []\n",
        "  dict_temp = inverter_dict(dicionario)\n",
        "  return dict_temp.get(valor, lista_vazia)"
      ]
    },
    {
      "cell_type": "code",
      "execution_count": null,
      "id": "f0b24e5b",
      "metadata": {
        "colab": {
          "base_uri": "https://localhost:8080/"
        },
        "id": "f0b24e5b",
        "outputId": "59cebb0d-9d6e-4a8a-8c8f-dc235fd52ef1"
      },
      "outputs": [
        {
          "output_type": "execute_result",
          "data": {
            "text/plain": [
              "['a', 'd']"
            ]
          },
          "metadata": {},
          "execution_count": 4
        }
      ],
      "source": [
        "dict3 = {'a': 3, 'b': 1, 'c': 2, 'd': 3}\n",
        "valor = 3\n",
        "retorno_chaves(dict3, valor)"
      ]
    }
  ],
  "metadata": {
    "kernelspec": {
      "display_name": "Python 3 (ipykernel)",
      "language": "python",
      "name": "python3"
    },
    "language_info": {
      "codemirror_mode": {
        "name": "ipython",
        "version": 3
      },
      "file_extension": ".py",
      "mimetype": "text/x-python",
      "name": "python",
      "nbconvert_exporter": "python",
      "pygments_lexer": "ipython3",
      "version": "3.9.12"
    },
    "colab": {
      "provenance": []
    }
  },
  "nbformat": 4,
  "nbformat_minor": 5
}