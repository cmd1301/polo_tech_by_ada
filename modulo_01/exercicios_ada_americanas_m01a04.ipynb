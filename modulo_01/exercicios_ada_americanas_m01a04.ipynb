{
  "cells": [
    {
      "cell_type": "markdown",
      "metadata": {
        "id": "lzsZm4JnkXlJ"
      },
      "source": [
        "## Aula 04 - Listas e Funções"
      ]
    },
    {
      "cell_type": "markdown",
      "metadata": {
        "id": "GfA1myuKkXnZ"
      },
      "source": [
        "## "
      ]
    },
    {
      "cell_type": "markdown",
      "metadata": {
        "id": "6t7MOGVlwvSG"
      },
      "source": [
        "## Exercícios"
      ]
    },
    {
      "cell_type": "markdown",
      "metadata": {
        "id": "TH-BP2mCkXnb"
      },
      "source": [
        "__1)__ Normalização de Dados, também conhecido na estatística como Z-Score, é quando temos uma distribuição de dados quaisquer em determinada escala e gostariamos de converter-los para uma distribuição com o comportamento de uma distrbuição Normal (também conhecida como Gaussiana).\n",
        "\n",
        "Para fazer a normalização dos dados devemos converte-los de acordo com a seguinte fórmula:\n",
        "\n",
        "$$ Z = \\frac{x - \\mu}{\\sigma} $$\n",
        "\n",
        "Onde $x$ é um dado da nossa distribuição, $\\mu$ é a média desta distribuição e $\\sigma$ é o desvio padrão da distribuição.\n",
        "\n",
        "Vamos dividir o exercício nos seguintes itens:"
      ]
    },
    {
      "cell_type": "markdown",
      "metadata": {
        "id": "0RhOVVIUkXnb"
      },
      "source": [
        "__1.1)__ Desenvolva uma função para calcular a média e o desvio padrão para uma lista de tamanho qualquer (1 ponto)"
      ]
    },
    {
      "cell_type": "code",
      "execution_count": 1,
      "metadata": {
        "id": "5Unx3WyGkXnc"
      },
      "outputs": [],
      "source": [
        "import random"
      ]
    },
    {
      "cell_type": "code",
      "execution_count": 2,
      "metadata": {
        "id": "WtLtL6IskXnd",
        "outputId": "2f4fd77a-3fbb-49c1-ca1f-7184a0847cc7",
        "colab": {
          "base_uri": "https://localhost:8080/"
        }
      },
      "outputs": [
        {
          "output_type": "execute_result",
          "data": {
            "text/plain": [
              "[14, 12, 6, 17, 4, 4, 5, 17, 19, 11]"
            ]
          },
          "metadata": {},
          "execution_count": 2
        }
      ],
      "source": [
        "# Quantidade de elementos na lista\n",
        "n = 10\n",
        "\n",
        "lista_aleatoria = []\n",
        "\n",
        "for i in range(n):\n",
        "    num_random = random.randint(1, 20)\n",
        "    lista_aleatoria.append(num_random)\n",
        "    \n",
        "lista_aleatoria"
      ]
    },
    {
      "cell_type": "code",
      "execution_count": 17,
      "metadata": {
        "id": "8XnjeJ6zkXne"
      },
      "outputs": [],
      "source": [
        "def calculo_media(lista):\n",
        "  soma_lista = sum(lista)\n",
        "  return soma_lista/len(lista)\n",
        "\n",
        "def diferenca_media(lista):\n",
        "  soma_dif = 0\n",
        "  for num in lista:\n",
        "    soma_i = (num - calculo_media(lista))**2\n",
        "    soma_dif += soma_i\n",
        "  return soma_dif\n",
        "\n",
        "def desvio_padrao(lista):\n",
        "  return ((diferenca_media(lista))/(len(lista)-1))**(1/2)"
      ]
    },
    {
      "cell_type": "code",
      "execution_count": 8,
      "metadata": {
        "id": "Pc7aEkTqkXne",
        "colab": {
          "base_uri": "https://localhost:8080/"
        },
        "outputId": "d4b6bd77-e76e-4327-bbf2-00a88c15652b"
      },
      "outputs": [
        {
          "output_type": "execute_result",
          "data": {
            "text/plain": [
              "10.9"
            ]
          },
          "metadata": {},
          "execution_count": 8
        }
      ],
      "source": [
        "calculo_media(lista_aleatoria)\n"
      ]
    },
    {
      "cell_type": "code",
      "execution_count": 9,
      "metadata": {
        "id": "w7nJjBQjkXne",
        "colab": {
          "base_uri": "https://localhost:8080/"
        },
        "outputId": "67c0a8f3-76df-42ec-aeef-eceeffeea83c"
      },
      "outputs": [
        {
          "output_type": "execute_result",
          "data": {
            "text/plain": [
              "304.90000000000003"
            ]
          },
          "metadata": {},
          "execution_count": 9
        }
      ],
      "source": [
        "diferenca_media(lista_aleatoria)"
      ]
    },
    {
      "cell_type": "code",
      "source": [
        "desvio_padrao(lista_aleatoria)"
      ],
      "metadata": {
        "colab": {
          "base_uri": "https://localhost:8080/"
        },
        "id": "NaDGS4mrvs0-",
        "outputId": "ec1187f1-1859-4be4-bf50-700b94ebe896"
      },
      "execution_count": 18,
      "outputs": [
        {
          "output_type": "execute_result",
          "data": {
            "text/plain": [
              "5.820461990063828"
            ]
          },
          "metadata": {},
          "execution_count": 18
        }
      ]
    },
    {
      "cell_type": "markdown",
      "metadata": {
        "id": "LMDwS6tHkXnf"
      },
      "source": [
        "__1.2)__ Desenvolva uma função que faça a normalização segundo a formula do Z e retorne a lista de dados normalizados. (1 ponto)"
      ]
    },
    {
      "cell_type": "code",
      "execution_count": null,
      "metadata": {
        "id": "e2SrxfnOkXnf"
      },
      "outputs": [],
      "source": [
        "# exemplo 1\n",
        "# Vetor = [10, 7, 17, 2, 7, 9, 4, 10, 6, 11]\n",
        "# Resultado = [0.4081959811176985,\n",
        "# -0.31214986791353444,\n",
        "# 2.0890029621905755,\n",
        "# -1.5127262829655894,\n",
        "# -0.31214986791353444,\n",
        "# 0.1680806981072875,\n",
        "# -1.0324957169447675,\n",
        "# 0.4081959811176985,\n",
        "# -0.5522651509239455,\n",
        "# 0.6483112641281095]"
      ]
    },
    {
      "cell_type": "code",
      "execution_count": null,
      "metadata": {
        "id": "SokuaHvDkXnf"
      },
      "outputs": [],
      "source": [
        "# exemplo 2\n",
        "# vetor = [3, 20, 14, 6, 4, 1]\n",
        "# resultado = [-0.675429033697874,\n",
        "# 1.6210296808748976,\n",
        "# 0.8105148404374488,\n",
        "# -0.2701716134791496,\n",
        "# -0.5403432269582992,\n",
        "# -0.9456006471770236]"
      ]
    },
    {
      "cell_type": "code",
      "execution_count": 19,
      "metadata": {
        "id": "CWNk-C5vkXng"
      },
      "outputs": [],
      "source": [
        "def distribuicao_normal(lista):\n",
        "  resultado = []\n",
        "  for numero in lista:\n",
        "    z = (numero - calculo_media(lista))/desvio_padrao(lista)\n",
        "    resultado.append(z)\n",
        "  return resultado"
      ]
    },
    {
      "cell_type": "code",
      "execution_count": 20,
      "metadata": {
        "id": "xEyVpa99kXnh",
        "colab": {
          "base_uri": "https://localhost:8080/"
        },
        "outputId": "b6a6849e-d091-4c28-bcd1-9df5dc4532be"
      },
      "outputs": [
        {
          "output_type": "execute_result",
          "data": {
            "text/plain": [
              "[0.4081959811176985,\n",
              " -0.31214986791353444,\n",
              " 2.0890029621905755,\n",
              " -1.5127262829655894,\n",
              " -0.31214986791353444,\n",
              " 0.1680806981072875,\n",
              " -1.0324957169447675,\n",
              " 0.4081959811176985,\n",
              " -0.5522651509239455,\n",
              " 0.6483112641281095]"
            ]
          },
          "metadata": {},
          "execution_count": 20
        }
      ],
      "source": [
        "vetor = [10, 7, 17, 2, 7, 9, 4, 10, 6, 11]\n",
        "distribuicao_normal(vetor)"
      ]
    },
    {
      "cell_type": "code",
      "execution_count": 21,
      "metadata": {
        "id": "Un91XBHwkXnh",
        "colab": {
          "base_uri": "https://localhost:8080/"
        },
        "outputId": "18f217ba-6c8f-4866-f1a0-484409407aa2"
      },
      "outputs": [
        {
          "output_type": "execute_result",
          "data": {
            "text/plain": [
              "[-0.675429033697874,\n",
              " 1.6210296808748976,\n",
              " 0.8105148404374488,\n",
              " -0.2701716134791496,\n",
              " -0.5403432269582992,\n",
              " -0.9456006471770236]"
            ]
          },
          "metadata": {},
          "execution_count": 21
        }
      ],
      "source": [
        "vetor2 = [3, 20, 14, 6, 4, 1]\n",
        "distribuicao_normal(vetor2)"
      ]
    },
    {
      "cell_type": "markdown",
      "metadata": {
        "id": "JDyAo690kXnh"
      },
      "source": [
        "__2)__ O _MinMaxScaler_ é uma técnica de reescalonamento de um conjunto de dados parecida com a normalização ou no caso Z-score. A diferença é que ao invés de utilizar média e desvio padrão, utiliza-se os valores extremos (máximo e mínino), segundo a equação a seguir:\n",
        "\n",
        "$$ S = \\frac{x - min}{max - min} $$\n",
        "\n",
        "Onde X é um determinado elemento da lista, $min$ é o menor valor da lista e $max$ e o maior valor da lista.\n",
        "\n",
        "Desenvolva uma função que ao receber uma lista de dados quaisquer converta para a escala segundo o _MinMaxScaler_ (2 pontos)"
      ]
    },
    {
      "cell_type": "code",
      "execution_count": null,
      "metadata": {
        "id": "_C740FLKkXni"
      },
      "outputs": [],
      "source": [
        "# Exemplo 1:\n",
        "# Vetor = [15, 7, 16, 1, 3, 15, 17, 9, 11, 1]\n",
        "# Resultado = [0.875, 0.375, 0.9375, 0.0, 0.125, 0.875, 1.0, 0.5, 0.625, 0.0]\n",
        "\n",
        "# Exemplo 2:\n",
        "# Vetor = [15, 7, 16, 1, 3, 15, 17, 9, 11, 1]\n",
        "# Resultado = [0.0,\n",
        "# 1.0,\n",
        "# 0.9473684210526315,\n",
        "# 0.631578947368421,\n",
        "# 1.0,\n",
        "# 0.5789473684210527,\n",
        "# 0.42105263157894735,\n",
        "# 0.8947368421052632,\n",
        "# 0.7368421052631579,\n",
        "# 0.3157894736842105]"
      ]
    },
    {
      "cell_type": "code",
      "execution_count": 22,
      "metadata": {
        "id": "98fSjljPkXni"
      },
      "outputs": [],
      "source": [
        "def minMaxScaler(lista):\n",
        "  resultado = []\n",
        "  for elemento in lista:\n",
        "    s = (elemento - min(lista))/(max(lista)-min(lista))\n",
        "    resultado.append(s)\n",
        "  return resultado"
      ]
    },
    {
      "cell_type": "code",
      "execution_count": 23,
      "metadata": {
        "id": "l1Uw_s4ikXno",
        "colab": {
          "base_uri": "https://localhost:8080/"
        },
        "outputId": "6cc14aa3-88dc-414d-df38-c0da81e50acd"
      },
      "outputs": [
        {
          "output_type": "execute_result",
          "data": {
            "text/plain": [
              "[0.875, 0.375, 0.9375, 0.0, 0.125, 0.875, 1.0, 0.5, 0.625, 0.0]"
            ]
          },
          "metadata": {},
          "execution_count": 23
        }
      ],
      "source": [
        "vetor = [15, 7, 16, 1, 3, 15, 17, 9, 11, 1]\n",
        "minMaxScaler(vetor)"
      ]
    },
    {
      "cell_type": "markdown",
      "metadata": {
        "id": "7ZcA-b5vkXnt"
      },
      "source": [
        "__3)__ A regressão linear simples é uma ferramenta estatística onde dados um conjunto de dados x e y, o objetivo é encontrar a melhor equação de reta que descreve aquele conjunto de dados. Para aproximar  essa reta aos dados, pode-se seguir a equação abaixo para aproximar os coeficientes $\\beta_0$ e $\\beta_1$:\n",
        "\n",
        "<br>\n",
        "\n",
        "$$\n",
        "\\large\n",
        "\\begin{cases}\n",
        "\\hat{\\beta}_1=\\frac{\\sum_{i=1}^n (x_i- \\bar{x})(y_i - \\bar{y})}{\\sum_{i=1}^n (x_i - \\bar{x})^2} = \\frac{\\sigma_{xy}}{\\sigma_{xx}} = \\frac{covar(x, y)}{var(x)}\\\\\n",
        "\\hat{\\beta}_0= \\bar{y}-\\hat{\\beta_1}\\bar{x}\n",
        "\\end{cases}\n",
        "$$\n",
        "\n",
        "<br>\n",
        "\n",
        "Onde:\n",
        "- **Covariância** ou variância conjunta, que indica o grau de interdependência entre duas variáveis;\n",
        "- **Variância** é uam medida de o quão disperso está os dados, ou seja o quão distante está cada valor desse conjunto do valor médio;\n",
        "\n",
        "Desenvolva uma função `linear_regression` que recebe duas listas x e y e devolva os valores dos coeficientes $\\beta_0$ e $\\beta_1$ (2 pontos)"
      ]
    },
    {
      "cell_type": "code",
      "execution_count": null,
      "metadata": {
        "id": "SzYWGT4wkXnu"
      },
      "outputs": [],
      "source": [
        "# Exemplo 1\n",
        "# X = [ 0,  1,  2,  3,  4,  5,  6,  7,  8,  9, 10, 11, 12, 13, 14, 15, 16, 17, 18, 19]\n",
        "# y = [-1.,  2.5,  2.,  4.5,  5.,  6.5,  8.,  8.5, 11., 10.5, 14., 12.5, 17., 14.5, 20., 16.5, 23., 18.5, 26., 20.5]\n",
        "# b_0 = 0.2857142857142865\n",
        "# b_1 = 1.2330827067669172\n",
        "\n",
        "# Exemplo 2\n",
        "# X = [8, 9, 10, 3, 17, 19, 4, 8, 16, 10]\n",
        "# y = [14, 1, 16, 15, 15, 11, 18, 20, 15, 10]\n",
        "# b_0 = 15.190402476780186\n",
        "# b_1 = -0.1625386996904025"
      ]
    },
    {
      "cell_type": "code",
      "execution_count": 41,
      "metadata": {
        "id": "mp8Trqz0kXnv"
      },
      "outputs": [],
      "source": [
        "def covar(listax,listay):\n",
        "  soma_prod_dif = 0\n",
        "  lista_x = []\n",
        "  lista_y = []\n",
        "  for elemento in listax:\n",
        "    soma_elementos_x = (elemento - calculo_media(listax))\n",
        "    lista_x.append(soma_elementos_x)\n",
        "    #print(lista_x)\n",
        "  for elemento in listay:\n",
        "    soma_elementos_y = (elemento - calculo_media(listay))\n",
        "    lista_y.append(soma_elementos_y)\n",
        "    #print(lista_y)\n",
        "  for a,b in zip(lista_x, lista_y):\n",
        "    prod_dif = a*b\n",
        "    #print(prod_dif)\n",
        "    soma_prod_dif += prod_dif\n",
        "  return soma_prod_dif\n",
        "\n",
        "def b_1(x,y):\n",
        "  return covar(x,y)/diferenca_media(x)\n",
        "\n",
        "def b_0(x,y):\n",
        "  return (calculo_media(y) - b_1(x,y)*calculo_media(x))"
      ]
    },
    {
      "cell_type": "code",
      "source": [
        "a = [ 0,  1,  2,  3,  4,  5,  6,  7,  8,  9, 10, 11, 12, 13, 14, 15, 16, 17, 18, 19]\n",
        "b = [-1.,  2.5,  2.,  4.5,  5.,  6.5,  8.,  8.5, 11., 10.5, 14., 12.5, 17., 14.5, 20., 16.5, 23., 18.5, 26., 20.5]\n",
        "b1 = b_1(a,b)\n",
        "b0 = b_0(a,b)\n",
        "b0, b1"
      ],
      "metadata": {
        "colab": {
          "base_uri": "https://localhost:8080/"
        },
        "id": "uq-R9c9r2YnM",
        "outputId": "9bfcfcdf-ae3f-4dd5-ce69-f7fa35f83519"
      },
      "execution_count": 46,
      "outputs": [
        {
          "output_type": "execute_result",
          "data": {
            "text/plain": [
              "(0.2857142857142865, 1.2330827067669172)"
            ]
          },
          "metadata": {},
          "execution_count": 46
        }
      ]
    },
    {
      "cell_type": "code",
      "execution_count": 45,
      "metadata": {
        "id": "5GOrF5lBkXnv",
        "colab": {
          "base_uri": "https://localhost:8080/"
        },
        "outputId": "1151d1af-1f1c-444f-ea3f-e383c6dc6bfa"
      },
      "outputs": [
        {
          "output_type": "execute_result",
          "data": {
            "text/plain": [
              "(15.190402476780186, -0.1625386996904025)"
            ]
          },
          "metadata": {},
          "execution_count": 45
        }
      ],
      "source": [
        "x = [8, 9, 10, 3, 17, 19, 4, 8, 16, 10]\n",
        "y = [14, 1, 16, 15, 15, 11, 18, 20, 15, 10]\n",
        "b1 = b_1(x,y)\n",
        "b0 = b_0(x,y)\n",
        "b0, b1"
      ]
    },
    {
      "cell_type": "markdown",
      "metadata": {
        "id": "SaU8pL2mkXnw"
      },
      "source": [
        "Quando fala-se sobre métricas de posição, existem outras métricas além da média que ganham destaque, como por exemplo a __mediana__ e a __moda__\n",
        "\n",
        "__4.1)__ A **mediana** de uma variável é um número tal que há o mesmo número de observações maiores e menores do que ele, ocupando assim a **posição central** da série de observações.\n",
        "\n",
        "Assim, para calcularmos a mediana, basta **ordenarmos os dados, do menor pro maior**, e contar o que está no meio dos dados ordenados (se houver número par de dados, pega-se a média entre os dados que estão \"no meio\")\n",
        "\n",
        "- *Exemplo*\n",
        "\n",
        "i) 3,4,**7**,8,8 **mediana = 7**       (CASO ÍMPAR)\n",
        "\n",
        "ii) 3,4,**7**,**8**,8,9 **mediana = (7+8)/2 = 7,5**   (CASO PAR)\n",
        "\n",
        "<br>\n",
        "\n",
        "Logo, podemos definir: \n",
        "\n",
        "- Mediana de $X = X_{\\frac{n+1}{2}}$ `Se tamanho da amostra ímpar`\n",
        "\n",
        "\n",
        "- Mediana de $X = \\frac{X_{\\frac{n}{2}}+ X_{\\frac{n+1}{2}}}{2}$ `Se tamanho da amostra par`\n",
        "\n",
        "Desenvolva uma função que receba uma lista de tamanho qualquer e devolva o valor da mediana (1 ponto)"
      ]
    },
    {
      "cell_type": "code",
      "execution_count": null,
      "metadata": {
        "id": "xJtjdMiQkXnx"
      },
      "outputs": [],
      "source": [
        "# Exemplo 1\n",
        "# Vetor = [15, 3, 14, 8, 16, 3, 7, 9, 17, 1]\n",
        "# mediana = 8.5\n",
        "\n",
        "# exemplo 2\n",
        "# Vetor = [12, 5, 1, 16, 2, 19, 15, 18, 13, 2, 6]\n",
        "# mediana = 12"
      ]
    },
    {
      "cell_type": "code",
      "execution_count": 1,
      "metadata": {
        "id": "We_itXOAkXnx"
      },
      "outputs": [],
      "source": [
        "def mediana(numeros):\n",
        "  numeros.sort()\n",
        "  if len(numeros)%2 == 0:\n",
        "    segunda_metade = numeros[len(numeros)//2]\n",
        "    primeira_metade = numeros[len(numeros)//2 - 1]\n",
        "    mediana_valor = (primeira_metade + segunda_metade)/2\n",
        "    return mediana_valor\n",
        "  else:\n",
        "    mediana_valor = numeros[len(numeros)//2]\n",
        "    return mediana_valor"
      ]
    },
    {
      "cell_type": "code",
      "execution_count": 2,
      "metadata": {
        "id": "kN0o1IJckXnx",
        "colab": {
          "base_uri": "https://localhost:8080/"
        },
        "outputId": "9031fcc9-8cdc-43f4-baac-000222edb73f"
      },
      "outputs": [
        {
          "output_type": "execute_result",
          "data": {
            "text/plain": [
              "8.5"
            ]
          },
          "metadata": {},
          "execution_count": 2
        }
      ],
      "source": [
        "vetor1 = [15, 3, 14, 8, 16, 3, 7, 9, 17, 1]\n",
        "mediana(vetor1)"
      ]
    },
    {
      "cell_type": "code",
      "execution_count": 3,
      "metadata": {
        "id": "lb4csm_QkXny",
        "colab": {
          "base_uri": "https://localhost:8080/"
        },
        "outputId": "f8d64505-8caf-4e01-b97c-7cc798b43a60"
      },
      "outputs": [
        {
          "output_type": "execute_result",
          "data": {
            "text/plain": [
              "12"
            ]
          },
          "metadata": {},
          "execution_count": 3
        }
      ],
      "source": [
        "vetor2 = [12, 5, 1, 16, 2, 19, 15, 18, 13, 2, 6]\n",
        "mediana(vetor2)"
      ]
    },
    {
      "cell_type": "markdown",
      "metadata": {
        "id": "-_Mp1nVTkXny"
      },
      "source": [
        "__4.2)__ A **moda** é o valor que ocorre com **maior frequencia** em um conjunto de dados. Dependendo do conjunto de dados, ele pode ser:\n",
        "\n",
        "- Sem moda: quando nenhum valor se repete \n",
        "\n",
        "- unimodal: Quando existe apenas um valor repetido com maior frequência \n",
        "\n",
        "- multimodal: quando existem mais de um valor com a mesma frequência máxima\n",
        "\n",
        "Desenvolva uma função que receba uma lista de tamanho qualquer e devolva o valor da primeira moda, caso haja uma (1 ponto)"
      ]
    },
    {
      "cell_type": "code",
      "execution_count": null,
      "metadata": {
        "id": "PdElV9O-kXny"
      },
      "outputs": [],
      "source": [
        "# Exemplo 1\n",
        "# Vetor = [5, 4, 3, 4, 20, 17, 5, 14, 13, 18, 4, 1]\n",
        "# Moda = 4\n",
        "\n",
        "# Exemplo 2\n",
        "# Vetor = [18, 7, 1, 19, 3, 3, 19, 14, 11, 20, 6, 2]\n",
        "# Moda = 3 (e 19)"
      ]
    },
    {
      "cell_type": "code",
      "execution_count": 15,
      "metadata": {
        "id": "MhZiifm5kXn1"
      },
      "outputs": [],
      "source": [
        "def moda(numeros):\n",
        "  valores_unicos = []\n",
        "  contador = []\n",
        "  moda_x = []\n",
        "  numeros.sort()\n",
        "  for numero in numeros:\n",
        "    if numero not in valores_unicos:\n",
        "      valores_unicos.append(numero)\n",
        "  for elementos in valores_unicos:\n",
        "    contagem = 0\n",
        "    for numero in numeros:\n",
        "      if elementos == numero:\n",
        "        contagem+=1\n",
        "    contador.append(contagem)\n",
        "  for elemento in range(len(contador)):\n",
        "    if max(contador) == contador[elemento]:\n",
        "      moda_x.append(valores_unicos[elemento])\n",
        "  return moda_x"
      ]
    },
    {
      "cell_type": "code",
      "execution_count": 16,
      "metadata": {
        "id": "h24KePTokXn5",
        "colab": {
          "base_uri": "https://localhost:8080/"
        },
        "outputId": "e1e330c6-cb7a-4c7b-c18e-4c0039a56b2a"
      },
      "outputs": [
        {
          "output_type": "execute_result",
          "data": {
            "text/plain": [
              "[4]"
            ]
          },
          "metadata": {},
          "execution_count": 16
        }
      ],
      "source": [
        "vetor1 = [5, 4, 3, 4, 20, 17, 5, 14, 13, 18, 4, 1]\n",
        "moda(vetor1)"
      ]
    },
    {
      "cell_type": "code",
      "source": [
        "vetor2 = [18, 7, 1, 19, 3, 3, 19, 14, 11, 20, 6, 2]\n",
        "moda(vetor2)"
      ],
      "metadata": {
        "colab": {
          "base_uri": "https://localhost:8080/"
        },
        "id": "AfPnYG7yZvqZ",
        "outputId": "5db967bd-dfc5-421d-d159-60ae9d1c5d40"
      },
      "execution_count": 12,
      "outputs": [
        {
          "output_type": "execute_result",
          "data": {
            "text/plain": [
              "[3, 19]"
            ]
          },
          "metadata": {},
          "execution_count": 12
        }
      ]
    },
    {
      "cell_type": "markdown",
      "metadata": {
        "id": "mWpW2MK5kXn5"
      },
      "source": [
        "__5)__ Vamos repetir o exercício da distância euclidiana mas agora para o caso de um vetor n dimensional. Ou seja, dados os pontos A e B, temos que:\n",
        "\n",
        "<br>\n",
        "\n",
        "$$ d = \\sqrt{(x_{1,A} - x_{1,B})^2 + (x_{2,A} - x_{2,B})^2 + (x_{3,A} - x_{3,B})^2 + ... + (x_{n,A} - x_{n,B})^2}$$\n",
        "\n",
        "<br>\n",
        "\n",
        "Então dada a equação da distância euclidiana n-dimensional, desenvolva uma função que receba dois vetores distintos A e B com a mesma quantidade de elementos e calcule a distância euclidiana entre eles (2 pontos)"
      ]
    },
    {
      "cell_type": "code",
      "execution_count": null,
      "metadata": {
        "id": "-rnGVDwxkXn6"
      },
      "outputs": [],
      "source": [
        "# Exemplo 1\n",
        "# lista A = [1, 11, 20, 18, 16, 3, 5, 5, 18, 3, 18, 13]\n",
        "# Lista B = [15, 3, 1, 19, 14, 14, 3, 20, 19, 17, 2, 12]\n",
        "# d = 37.815340802378074\n",
        "\n",
        "# Exemplo 2\n",
        "# lista A = [17, 11, 18, 20, 17, 13, 3, 19, 17, 16, 15, 15, 6, 17, 12, 8, 18, 15, 5, 10]\n",
        "# Lista B = [10, 4, 10, 13, 6, 7, 2, 15, 15, 10, 10, 2, 3, 18, 1, 16, 16, 1, 5, 3]\n",
        "# d = 32.60368077380221"
      ]
    },
    {
      "cell_type": "code",
      "execution_count": 17,
      "metadata": {
        "id": "2ds471owkXn7"
      },
      "outputs": [],
      "source": [
        "def distancia_vetores(v1,v2):\n",
        "  soma_prod = 0\n",
        "  for x,y in zip(v1,v2):\n",
        "    diferenca = (x-y)**2\n",
        "    soma_prod += diferenca\n",
        "  return (soma_prod)**(1/2)"
      ]
    },
    {
      "cell_type": "code",
      "execution_count": 18,
      "metadata": {
        "id": "1AQ2516dkXn8",
        "colab": {
          "base_uri": "https://localhost:8080/"
        },
        "outputId": "e8780ec6-f367-4e19-e309-825e27184535"
      },
      "outputs": [
        {
          "output_type": "execute_result",
          "data": {
            "text/plain": [
              "37.815340802378074"
            ]
          },
          "metadata": {},
          "execution_count": 18
        }
      ],
      "source": [
        "v1 = [1, 11, 20, 18, 16, 3, 5, 5, 18, 3, 18, 13]\n",
        "v2 = [15, 3, 1, 19, 14, 14, 3, 20, 19, 17, 2, 12]\n",
        "distancia_vetores(v1,v2)"
      ]
    },
    {
      "cell_type": "code",
      "source": [
        "v3 = [17, 11, 18, 20, 17, 13, 3, 19, 17, 16, 15, 15, 6, 17, 12, 8, 18, 15, 5, 10]\n",
        "v4 = [10, 4, 10, 13, 6, 7, 2, 15, 15, 10, 10, 2, 3, 18, 1, 16, 16, 1, 5, 3]\n",
        "distancia_vetores(v3,v4)"
      ],
      "metadata": {
        "colab": {
          "base_uri": "https://localhost:8080/"
        },
        "id": "WC3tCUSegQHh",
        "outputId": "ccba5d32-aecc-4212-f0c1-292f700b47c3"
      },
      "execution_count": 20,
      "outputs": [
        {
          "output_type": "execute_result",
          "data": {
            "text/plain": [
              "32.60368077380221"
            ]
          },
          "metadata": {},
          "execution_count": 20
        }
      ]
    }
  ],
  "metadata": {
    "colab": {
      "provenance": []
    },
    "kernelspec": {
      "display_name": "Python 3 (ipykernel)",
      "language": "python",
      "name": "python3"
    },
    "language_info": {
      "codemirror_mode": {
        "name": "ipython",
        "version": 3
      },
      "file_extension": ".py",
      "mimetype": "text/x-python",
      "name": "python",
      "nbconvert_exporter": "python",
      "pygments_lexer": "ipython3",
      "version": "3.9.12"
    }
  },
  "nbformat": 4,
  "nbformat_minor": 0
}